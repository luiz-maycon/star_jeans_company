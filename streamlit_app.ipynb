{
 "cells": [
  {
   "cell_type": "markdown",
   "id": "1110d73f",
   "metadata": {},
   "source": [
    "# 0.0 Config"
   ]
  },
  {
   "cell_type": "markdown",
   "id": "55b317d8",
   "metadata": {},
   "source": [
    "### 0.1 Imports"
   ]
  },
  {
   "cell_type": "code",
   "execution_count": 97,
   "id": "ed52ee37",
   "metadata": {
    "ExecuteTime": {
     "end_time": "2023-01-11T00:11:34.036659Z",
     "start_time": "2023-01-11T00:11:34.029824Z"
    }
   },
   "outputs": [],
   "source": [
    "import re\n",
    "import numpy             as np\n",
    "import pandas            as pd\n",
    "import seaborn           as sns\n",
    "import matplotlib.pyplot as plt\n",
    "from sqlalchemy      import create_engine\n",
    "from IPython.display import HTML"
   ]
  },
  {
   "cell_type": "markdown",
   "id": "969f5b64",
   "metadata": {},
   "source": [
    "### 0.2 Helper Function"
   ]
  },
  {
   "cell_type": "code",
   "execution_count": 98,
   "id": "27109e15",
   "metadata": {
    "ExecuteTime": {
     "end_time": "2023-01-11T00:11:34.593464Z",
     "start_time": "2023-01-11T00:11:34.574564Z"
    }
   },
   "outputs": [
    {
     "name": "stdout",
     "output_type": "stream",
     "text": [
      "Populating the interactive namespace from numpy and matplotlib\n"
     ]
    },
    {
     "data": {
      "text/html": [
       "<style>.container { width:97% !important; }</style>"
      ],
      "text/plain": [
       "<IPython.core.display.HTML object>"
      ]
     },
     "metadata": {},
     "output_type": "display_data"
    }
   ],
   "source": [
    "def jupyter_settings():\n",
    "    %matplotlib inline\n",
    "    %pylab inline\n",
    "    plt.style.use( 'bmh' )\n",
    "    plt.rcParams['figure.figsize'] = [18, 8]\n",
    "    plt.rcParams['font.size'] = 24\n",
    "    display( HTML( '<style>.container { width:97% !important; }</style>') )\n",
    "    pd.options.display.max_columns = 30\n",
    "    pd.options.display.max_rows = 30\n",
    "    pd.options.display.float_format = lambda x: f'{x:.2f}'\n",
    "    pd.set_option( 'display.expand_frame_repr', False )\n",
    "    sns.set_theme(rc={'figure.figsize': (15, 6)})\n",
    "jupyter_settings()"
   ]
  },
  {
   "cell_type": "markdown",
   "id": "0438c0f3",
   "metadata": {},
   "source": [
    "### 0.3 Data Collection"
   ]
  },
  {
   "cell_type": "code",
   "execution_count": 100,
   "id": "a6a9b24d",
   "metadata": {
    "ExecuteTime": {
     "end_time": "2023-01-11T00:14:16.038212Z",
     "start_time": "2023-01-11T00:14:16.032653Z"
    }
   },
   "outputs": [],
   "source": [
    "path = '/home/luizmaycon/Documentos/repos/python_ds_ao_dev/database/'\n",
    "database = 'database_hm.sqlite'\n",
    "conn = create_engine( 'sqlite:///' + path + database, echo=False )"
   ]
  },
  {
   "cell_type": "code",
   "execution_count": 101,
   "id": "69b5d89c",
   "metadata": {
    "ExecuteTime": {
     "end_time": "2023-01-11T00:14:16.305074Z",
     "start_time": "2023-01-11T00:14:16.301469Z"
    }
   },
   "outputs": [],
   "source": [
    "query = \"\"\"\n",
    "    SELECT * FROM vitrine\n",
    "\"\"\""
   ]
  },
  {
   "cell_type": "code",
   "execution_count": 102,
   "id": "9fb9bedf",
   "metadata": {
    "ExecuteTime": {
     "end_time": "2023-01-11T00:14:16.735781Z",
     "start_time": "2023-01-11T00:14:16.564398Z"
    }
   },
   "outputs": [],
   "source": [
    "df_raw = pd.read_sql( query, con=conn )"
   ]
  },
  {
   "cell_type": "markdown",
   "id": "c4230b29",
   "metadata": {},
   "source": [
    "# 1.0 Data Description"
   ]
  },
  {
   "cell_type": "code",
   "execution_count": 104,
   "id": "38eb9696",
   "metadata": {
    "ExecuteTime": {
     "end_time": "2023-01-11T00:15:40.084724Z",
     "start_time": "2023-01-11T00:15:40.065090Z"
    }
   },
   "outputs": [],
   "source": [
    "df1 = df_raw.copy()"
   ]
  },
  {
   "cell_type": "markdown",
   "id": "163ae320",
   "metadata": {},
   "source": [
    "### 1.1 Data Dimension"
   ]
  },
  {
   "cell_type": "code",
   "execution_count": 7,
   "id": "2f58ef26",
   "metadata": {
    "ExecuteTime": {
     "end_time": "2023-01-10T14:31:08.278322Z",
     "start_time": "2023-01-10T14:31:08.272228Z"
    }
   },
   "outputs": [
    {
     "name": "stdout",
     "output_type": "stream",
     "text": [
      "Number of rows: 367\n",
      "Number of cols: 13\n"
     ]
    }
   ],
   "source": [
    "print( 'Number of rows: {}'.format( df1.shape[0] ) )\n",
    "print( 'Number of cols: {}'.format( df1.shape[1] ) )"
   ]
  },
  {
   "cell_type": "markdown",
   "id": "e14806a4",
   "metadata": {
    "ExecuteTime": {
     "end_time": "2022-12-29T14:09:03.969448Z",
     "start_time": "2022-12-29T14:09:03.966667Z"
    }
   },
   "source": [
    "### 1.2 Data Types"
   ]
  },
  {
   "cell_type": "code",
   "execution_count": 8,
   "id": "e0ca4cfb",
   "metadata": {
    "ExecuteTime": {
     "end_time": "2023-01-10T14:31:11.242592Z",
     "start_time": "2023-01-10T14:31:11.234405Z"
    }
   },
   "outputs": [
    {
     "data": {
      "text/plain": [
       "product_id          object\n",
       "style_id            object\n",
       "color_id            object\n",
       "product_name        object\n",
       "product_color       object\n",
       "product_fit         object\n",
       "product_price      float64\n",
       "size_number         object\n",
       "size_model          object\n",
       "cotton             float64\n",
       "polyester          float64\n",
       "spandex            float64\n",
       "scrapy_datetime     object\n",
       "dtype: object"
      ]
     },
     "execution_count": 8,
     "metadata": {},
     "output_type": "execute_result"
    }
   ],
   "source": [
    "df1.dtypes"
   ]
  },
  {
   "cell_type": "code",
   "execution_count": 9,
   "id": "591878bc",
   "metadata": {
    "ExecuteTime": {
     "end_time": "2023-01-10T14:31:11.647251Z",
     "start_time": "2023-01-10T14:31:11.641116Z"
    }
   },
   "outputs": [],
   "source": [
    "# convert object to datetime\n",
    "df1['scrapy_datetime'] = pd.to_datetime( df1['scrapy_datetime'] )"
   ]
  },
  {
   "cell_type": "markdown",
   "id": "fcfbfa34",
   "metadata": {
    "ExecuteTime": {
     "end_time": "2022-12-29T14:10:24.906914Z",
     "start_time": "2022-12-29T14:10:24.902584Z"
    }
   },
   "source": [
    "### 1.3 Missing Data"
   ]
  },
  {
   "cell_type": "code",
   "execution_count": 10,
   "id": "a5abdc58",
   "metadata": {
    "ExecuteTime": {
     "end_time": "2023-01-10T14:31:14.309024Z",
     "start_time": "2023-01-10T14:31:14.300427Z"
    },
    "cell_style": "split"
   },
   "outputs": [
    {
     "data": {
      "text/plain": [
       "product_id           0\n",
       "style_id             0\n",
       "color_id             0\n",
       "product_name         0\n",
       "product_color        0\n",
       "product_fit          0\n",
       "product_price        0\n",
       "size_number        159\n",
       "size_model         187\n",
       "cotton               0\n",
       "polyester            0\n",
       "spandex              0\n",
       "scrapy_datetime      0\n",
       "dtype: int64"
      ]
     },
     "execution_count": 10,
     "metadata": {},
     "output_type": "execute_result"
    }
   ],
   "source": [
    "# amount of missing data\n",
    "df1.isna().sum()"
   ]
  },
  {
   "cell_type": "code",
   "execution_count": 11,
   "id": "85ba158a",
   "metadata": {
    "ExecuteTime": {
     "end_time": "2023-01-10T14:31:15.914121Z",
     "start_time": "2023-01-10T14:31:15.904171Z"
    },
    "cell_style": "split",
    "scrolled": true
   },
   "outputs": [
    {
     "data": {
      "text/plain": [
       "product_id         0.00\n",
       "style_id           0.00\n",
       "color_id           0.00\n",
       "product_name       0.00\n",
       "product_color      0.00\n",
       "product_fit        0.00\n",
       "product_price      0.00\n",
       "size_number       43.32\n",
       "size_model        50.95\n",
       "cotton             0.00\n",
       "polyester          0.00\n",
       "spandex            0.00\n",
       "scrapy_datetime    0.00\n",
       "dtype: float64"
      ]
     },
     "execution_count": 11,
     "metadata": {},
     "output_type": "execute_result"
    }
   ],
   "source": [
    "# percentage of missing data\n",
    "df1.isna().sum() / df1.shape[0] * 100"
   ]
  },
  {
   "cell_type": "code",
   "execution_count": 12,
   "id": "f1f4691c",
   "metadata": {
    "ExecuteTime": {
     "end_time": "2023-01-10T14:31:18.556090Z",
     "start_time": "2023-01-10T14:31:18.551386Z"
    }
   },
   "outputs": [],
   "source": [
    "# remove size columns\n",
    "df1 = df1.drop( columns=['size_number', 'size_model'] )"
   ]
  },
  {
   "cell_type": "markdown",
   "id": "e672b96c",
   "metadata": {},
   "source": [
    "### 1.4 Numeric Data Description"
   ]
  },
  {
   "cell_type": "code",
   "execution_count": 14,
   "id": "3b6a3f38",
   "metadata": {
    "ExecuteTime": {
     "end_time": "2023-01-10T14:31:22.720167Z",
     "start_time": "2023-01-10T14:31:22.696373Z"
    }
   },
   "outputs": [
    {
     "data": {
      "text/html": [
       "<div>\n",
       "<style scoped>\n",
       "    .dataframe tbody tr th:only-of-type {\n",
       "        vertical-align: middle;\n",
       "    }\n",
       "\n",
       "    .dataframe tbody tr th {\n",
       "        vertical-align: top;\n",
       "    }\n",
       "\n",
       "    .dataframe thead th {\n",
       "        text-align: right;\n",
       "    }\n",
       "</style>\n",
       "<table border=\"1\" class=\"dataframe\">\n",
       "  <thead>\n",
       "    <tr style=\"text-align: right;\">\n",
       "      <th></th>\n",
       "      <th>attributes</th>\n",
       "      <th>min</th>\n",
       "      <th>max</th>\n",
       "      <th>range</th>\n",
       "      <th>mean</th>\n",
       "      <th>median</th>\n",
       "      <th>std</th>\n",
       "      <th>skew</th>\n",
       "      <th>kurtosis</th>\n",
       "    </tr>\n",
       "  </thead>\n",
       "  <tbody>\n",
       "    <tr>\n",
       "      <th>0</th>\n",
       "      <td>product_price</td>\n",
       "      <td>5.99</td>\n",
       "      <td>49.99</td>\n",
       "      <td>44.00</td>\n",
       "      <td>31.18</td>\n",
       "      <td>29.99</td>\n",
       "      <td>10.23</td>\n",
       "      <td>-0.30</td>\n",
       "      <td>-0.75</td>\n",
       "    </tr>\n",
       "    <tr>\n",
       "      <th>1</th>\n",
       "      <td>cotton</td>\n",
       "      <td>0.99</td>\n",
       "      <td>0.99</td>\n",
       "      <td>0.00</td>\n",
       "      <td>0.99</td>\n",
       "      <td>0.99</td>\n",
       "      <td>0.00</td>\n",
       "      <td>0.00</td>\n",
       "      <td>0.00</td>\n",
       "    </tr>\n",
       "    <tr>\n",
       "      <th>2</th>\n",
       "      <td>polyester</td>\n",
       "      <td>0.00</td>\n",
       "      <td>1.00</td>\n",
       "      <td>1.00</td>\n",
       "      <td>0.40</td>\n",
       "      <td>0.65</td>\n",
       "      <td>0.40</td>\n",
       "      <td>0.13</td>\n",
       "      <td>-1.71</td>\n",
       "    </tr>\n",
       "    <tr>\n",
       "      <th>3</th>\n",
       "      <td>spandex</td>\n",
       "      <td>0.01</td>\n",
       "      <td>0.01</td>\n",
       "      <td>0.00</td>\n",
       "      <td>0.01</td>\n",
       "      <td>0.01</td>\n",
       "      <td>0.00</td>\n",
       "      <td>0.00</td>\n",
       "      <td>0.00</td>\n",
       "    </tr>\n",
       "  </tbody>\n",
       "</table>\n",
       "</div>"
      ],
      "text/plain": [
       "      attributes  min   max  range  mean  median   std  skew  kurtosis\n",
       "0  product_price 5.99 49.99  44.00 31.18   29.99 10.23 -0.30     -0.75\n",
       "1         cotton 0.99  0.99   0.00  0.99    0.99  0.00  0.00      0.00\n",
       "2      polyester 0.00  1.00   1.00  0.40    0.65  0.40  0.13     -1.71\n",
       "3        spandex 0.01  0.01   0.00  0.01    0.01  0.00  0.00      0.00"
      ]
     },
     "execution_count": 14,
     "metadata": {},
     "output_type": "execute_result"
    }
   ],
   "source": [
    "num_attributes = df1.select_dtypes( include=['int64', 'float64'] )\n",
    "\n",
    "# central tendency\n",
    "t1 = pd.DataFrame( num_attributes.apply( np.mean ) ).T\n",
    "t2 = pd.DataFrame( num_attributes.apply( np.median ) ).T\n",
    "\n",
    "# dispersion\n",
    "d1 = pd.DataFrame( num_attributes.apply( np.std ) ).T\n",
    "d2 = pd.DataFrame( num_attributes.apply( np.min ) ).T\n",
    "d3 = pd.DataFrame( num_attributes.apply( np.max ) ).T\n",
    "d4 = pd.DataFrame( num_attributes.apply( lambda x: x.max() - x.min() ) ).T\n",
    "d5 = pd.DataFrame( num_attributes.apply( lambda x: x.skew() ) ).T\n",
    "d6 = pd.DataFrame( num_attributes.apply( lambda x: x.kurtosis() ) ).T\n",
    "\n",
    "# concat\n",
    "ndd = pd.concat( [d2, d3, d4, t1, t2, d1, d5, d6] ).T.reset_index()\n",
    "ndd.columns = ['attributes', 'min', 'max', 'range', 'mean', 'median', 'std', 'skew', 'kurtosis']\n",
    "ndd"
   ]
  },
  {
   "cell_type": "markdown",
   "id": "253699c1",
   "metadata": {},
   "source": [
    "### 1.5 Categorical Data Description"
   ]
  },
  {
   "cell_type": "code",
   "execution_count": 15,
   "id": "f87f5095",
   "metadata": {
    "ExecuteTime": {
     "end_time": "2023-01-10T14:31:27.908517Z",
     "start_time": "2023-01-10T14:31:27.898426Z"
    }
   },
   "outputs": [
    {
     "data": {
      "text/plain": [
       "product_id       187\n",
       "style_id          28\n",
       "color_id          48\n",
       "product_name      17\n",
       "product_color     33\n",
       "product_fit        5\n",
       "dtype: int64"
      ]
     },
     "execution_count": 15,
     "metadata": {},
     "output_type": "execute_result"
    }
   ],
   "source": [
    "cat_attributes = df1.select_dtypes( exclude=['int64', 'float64', 'datetime64[ns]'] )\n",
    "cat_attributes.apply( lambda x: x.unique().shape[0] )"
   ]
  },
  {
   "cell_type": "markdown",
   "id": "e7c18152",
   "metadata": {},
   "source": [
    "# 2.0 Feature Engineering"
   ]
  },
  {
   "cell_type": "code",
   "execution_count": 16,
   "id": "389e2713",
   "metadata": {
    "ExecuteTime": {
     "end_time": "2023-01-10T14:31:30.531211Z",
     "start_time": "2023-01-10T14:31:30.528808Z"
    }
   },
   "outputs": [],
   "source": [
    "df2 = df1.copy()"
   ]
  },
  {
   "cell_type": "code",
   "execution_count": 17,
   "id": "68ddda40",
   "metadata": {
    "ExecuteTime": {
     "end_time": "2023-01-10T14:31:32.968380Z",
     "start_time": "2023-01-10T14:31:32.950894Z"
    }
   },
   "outputs": [],
   "source": [
    "# general color\n",
    "df2['general_color'] = df2['product_color'].apply( lambda x: re.search( '^[a-z]+$|_[a-z]+$|[a-z]+\\/|black', x ).group(0)\n",
    "                                                  .replace( '_', '' ).replace( '/', '' ) if pd.notnull( x ) else x)\n",
    "\n",
    "# product color\n",
    "df2['product_color'] = df2['product_color'].apply( lambda x: x.replace( 'denim_', '' ) )\n",
    "\n",
    "# transform composition in binary\n",
    "df2['cotton'] = df2['cotton'].apply(lambda x: 1 if x > 0 else 0)\n",
    "df2['polyester'] = df2['polyester'].apply(lambda x: 1 if x > 0 else 0)\n",
    "df2['spandex'] = df2['spandex'].apply(lambda x: 1 if x > 0 else 0)"
   ]
  },
  {
   "cell_type": "markdown",
   "id": "7d97be4d",
   "metadata": {},
   "source": [
    "# 3.0 Attribute Filtering"
   ]
  },
  {
   "cell_type": "code",
   "execution_count": 18,
   "id": "d1b193b3",
   "metadata": {
    "ExecuteTime": {
     "end_time": "2023-01-10T14:31:35.345658Z",
     "start_time": "2023-01-10T14:31:35.338865Z"
    }
   },
   "outputs": [],
   "source": [
    "df3 = df2.copy()"
   ]
  },
  {
   "cell_type": "markdown",
   "id": "a01728e2",
   "metadata": {},
   "source": [
    "# 4.0 EDA (Exploration Data Analysis)"
   ]
  },
  {
   "cell_type": "code",
   "execution_count": 19,
   "id": "c6ea2762",
   "metadata": {
    "ExecuteTime": {
     "end_time": "2023-01-10T14:31:36.231703Z",
     "start_time": "2023-01-10T14:31:36.226517Z"
    }
   },
   "outputs": [],
   "source": [
    "df4 =  df3.copy()"
   ]
  },
  {
   "cell_type": "markdown",
   "id": "4a165371",
   "metadata": {
    "ExecuteTime": {
     "end_time": "2022-12-29T16:46:15.476014Z",
     "start_time": "2022-12-29T16:46:15.470335Z"
    }
   },
   "source": [
    "## 4.1 Hypotheses"
   ]
  },
  {
   "cell_type": "markdown",
   "id": "8797a7da",
   "metadata": {},
   "source": [
    "- 01- 70% das calças são das cores blue ou black (ou suas derivadas)\n",
    "- 02- Calças de cores blue ou black possuem os maiores preços médios, sendo 10% mais caros que a terceira cor\n",
    "- 03- Um único fit representa mais de 50% da quantidade de calças\n",
    "- 04- 70% das calças possuem polyester em sua composição\n",
    "- 05- O preço médio das calças que possuem polyester está 30% acima do preço médio das que não possuem"
   ]
  },
  {
   "cell_type": "code",
   "execution_count": 20,
   "id": "cca1a095",
   "metadata": {
    "ExecuteTime": {
     "end_time": "2023-01-10T14:31:39.124479Z",
     "start_time": "2023-01-10T14:31:38.950148Z"
    },
    "cell_style": "center",
    "hide_input": false
   },
   "outputs": [
    {
     "name": "stdout",
     "output_type": "stream",
     "text": [
      "Representam 80.11% das calças.\n"
     ]
    },
    {
     "data": {
      "image/png": "[encoded data removed]",
      "text/plain": [
       "<Figure size 1500x600 with 1 Axes>"
      ]
     },
     "metadata": {},
     "output_type": "display_data"
    }
   ],
   "source": [
    "# 01- 70% das calças são das cores blue ou black (ou suas derivadas)\n",
    "h1 = df4[['general_color', 'product_id']].groupby( 'general_color' ).count().sort_values( 'product_id', ascending=False ).reset_index()\n",
    "\n",
    "result = round( ( h1.iloc[0, 1] + h1.iloc[1, 1] ) / h1['product_id'].sum() * 100, 2)\n",
    "print( 'Representam {}% das calças.'.format( result ) )\n",
    "\n",
    "h1['product_id'] = h1['product_id'].apply( lambda x: x / h1['product_id'].sum() * 100 )\n",
    "\n",
    "plt.bar( h1['general_color'], h1['product_id'] )\n",
    "plt.title( 'Amount per color' )\n",
    "plt.show()"
   ]
  },
  {
   "cell_type": "code",
   "execution_count": 65,
   "id": "5d1bcc1e",
   "metadata": {
    "ExecuteTime": {
     "end_time": "2023-01-10T15:29:28.207491Z",
     "start_time": "2023-01-10T15:29:28.060273Z"
    }
   },
   "outputs": [
    {
     "name": "stdout",
     "output_type": "stream",
     "text": [
      "Estão, na verdade, 21.39% abaixo do preço médio mais alto e 15.05% acima do mais baixo.\n"
     ]
    },
    {
     "data": {
      "image/png": "[encoded data removed]",
      "text/plain": [
       "<Figure size 1500x600 with 1 Axes>"
      ]
     },
     "metadata": {},
     "output_type": "display_data"
    }
   ],
   "source": [
    "# 02- Calças de cores blue ou black possuem os maiores preços médios, sendo 10% mais caros que a terceira cor\n",
    "h2 = df4[['general_color', 'product_price']].groupby( 'general_color' ).mean().sort_values( 'product_price', ascending=False ).reset_index()\n",
    "\n",
    "result1 = round( ( 1 - h2.loc[(h2['general_color'] == 'black') | (h2['general_color'] == 'blue'), 'product_price'].sum() / 2 / h2.iloc[0,1] ) * 100, 2 )\n",
    "result2 = round( ( h2.loc[(h2['general_color'] == 'black') | (h2['general_color'] == 'blue'), 'product_price'].sum() / 2 / h2.iloc[6,1] - 1) * 100, 2 )\n",
    "print( 'Estão, na verdade, {}% abaixo do preço médio mais alto e {}% acima do mais baixo.'.format( result1, result2 ) )\n",
    "\n",
    "plt.bar( h2['general_color'], h2['product_price'] )\n",
    "plt.title( 'Mean price per color' )\n",
    "plt.show()"
   ]
  },
  {
   "cell_type": "code",
   "execution_count": 66,
   "id": "91f187f5",
   "metadata": {
    "ExecuteTime": {
     "end_time": "2023-01-10T15:40:16.454137Z",
     "start_time": "2023-01-10T15:40:16.292324Z"
    }
   },
   "outputs": [
    {
     "name": "stdout",
     "output_type": "stream",
     "text": [
      "O regular_fit, que possui a maior quantidade de calça, possui 29.43% do total.\n"
     ]
    },
    {
     "data": {
      "image/png": "[encoded data removed]",
      "text/plain": [
       "<Figure size 1500x600 with 1 Axes>"
      ]
     },
     "metadata": {},
     "output_type": "display_data"
    }
   ],
   "source": [
    "# 03- Um único fit representa mais de 50% da quantidade de calças\n",
    "h3 = df4[['product_fit', 'product_id']].groupby( 'product_fit' ).count().sort_values( 'product_id', ascending=False ).reset_index()\n",
    "\n",
    "result = round( h3.iloc[0,1] / h3['product_id'].sum() * 100, 2 )\n",
    "print( 'O {}, que possui a maior quantidade de calça, possui {}% do total.'.format( h3.iloc[0,0], result ) )\n",
    "\n",
    "h3['product_id'] = h3['product_id'].apply( lambda x: x / h3['product_id'].sum() * 100 )\n",
    "\n",
    "plt.bar( h3['product_fit'], h3['product_id'] )\n",
    "plt.title( 'Amount per fit' )\n",
    "plt.show()"
   ]
  },
  {
   "cell_type": "code",
   "execution_count": 67,
   "id": "1b910d2e",
   "metadata": {
    "ExecuteTime": {
     "end_time": "2023-01-10T15:40:17.382630Z",
     "start_time": "2023-01-10T15:40:17.312976Z"
    },
    "cell_style": "center"
   },
   "outputs": [
    {
     "name": "stdout",
     "output_type": "stream",
     "text": [
      "Apenas 51.77% das calças possuem polyester.\n"
     ]
    },
    {
     "data": {
      "image/png": "[encoded data removed]",
      "text/plain": [
       "<Figure size 1500x600 with 1 Axes>"
      ]
     },
     "metadata": {},
     "output_type": "display_data"
    }
   ],
   "source": [
    "# 04- 70% das calças possuem polyester em sua composição\n",
    "h4 = df4[['polyester', 'product_id']].groupby( 'polyester' ).count().reset_index()\n",
    "\n",
    "result = round( h4.iloc[1,1] / h4['product_id'].sum() * 100, 2 )\n",
    "print( 'Apenas {}% das calças possuem polyester.'.format( result ) )\n",
    "\n",
    "plt.pie( [h4.iloc[1,1], h4.iloc[0,1]],labels = ['yes', 'no'], autopct='%.2f%%' )\n",
    "plt.title( 'With/without polyester' )\n",
    "plt.show()"
   ]
  },
  {
   "cell_type": "code",
   "execution_count": 24,
   "id": "1f92470f",
   "metadata": {
    "ExecuteTime": {
     "end_time": "2023-01-10T14:33:10.209330Z",
     "start_time": "2023-01-10T14:33:10.069064Z"
    }
   },
   "outputs": [
    {
     "name": "stdout",
     "output_type": "stream",
     "text": [
      "Na verdade, está 0.01% abaixo.\n"
     ]
    },
    {
     "data": {
      "image/png": "[encoded data removed]",
      "text/plain": [
       "<Figure size 1500x600 with 1 Axes>"
      ]
     },
     "metadata": {},
     "output_type": "display_data"
    }
   ],
   "source": [
    "# 05- O preço médio das calças que possuem polyester está 30% acima do preço médio das que não possuem\n",
    "h5 = df4[['polyester', 'product_price']].groupby( 'polyester' ).mean().reset_index()\n",
    "\n",
    "result = round( ( 1 - h5.iloc[1,1] /h5.iloc[0,1] ) * 100 , 2 )\n",
    "print( 'Na verdade, está {}% abaixo.'.format( result ) )\n",
    "\n",
    "plt.bar( h5['polyester'], h5['product_price'] )\n",
    "plt.title( 'Mean price per with/without polyester' )\n",
    "plt.show()"
   ]
  },
  {
   "cell_type": "markdown",
   "id": "afa060a8",
   "metadata": {},
   "source": [
    "## 4.2 Answering Business Questions"
   ]
  },
  {
   "cell_type": "markdown",
   "id": "bb04ee8a",
   "metadata": {},
   "source": [
    "- 1. Qual o melhor preço de venda para as calças?\n",
    "- 2. Quantos tipos de calças e suas cores para o produto inicial?\n",
    "- 3. Quais as matérias-prima necessárias para confeccionar as calças?"
   ]
  },
  {
   "cell_type": "code",
   "execution_count": 68,
   "id": "2b8f7051",
   "metadata": {
    "ExecuteTime": {
     "end_time": "2023-01-10T15:43:45.394352Z",
     "start_time": "2023-01-10T15:43:45.389754Z"
    }
   },
   "outputs": [],
   "source": [
    "# 01 amount for blue e black varitations\n",
    "# 02 mean price per fit"
   ]
  },
  {
   "cell_type": "code",
   "execution_count": 69,
   "id": "2057031a",
   "metadata": {
    "ExecuteTime": {
     "end_time": "2023-01-10T15:43:46.360676Z",
     "start_time": "2023-01-10T15:43:46.341802Z"
    }
   },
   "outputs": [
    {
     "data": {
      "text/html": [
       "<div>\n",
       "<style scoped>\n",
       "    .dataframe tbody tr th:only-of-type {\n",
       "        vertical-align: middle;\n",
       "    }\n",
       "\n",
       "    .dataframe tbody tr th {\n",
       "        vertical-align: top;\n",
       "    }\n",
       "\n",
       "    .dataframe thead th {\n",
       "        text-align: right;\n",
       "    }\n",
       "</style>\n",
       "<table border=\"1\" class=\"dataframe\">\n",
       "  <thead>\n",
       "    <tr style=\"text-align: right;\">\n",
       "      <th></th>\n",
       "      <th>product_id</th>\n",
       "      <th>style_id</th>\n",
       "      <th>color_id</th>\n",
       "      <th>product_name</th>\n",
       "      <th>product_color</th>\n",
       "      <th>product_fit</th>\n",
       "      <th>product_price</th>\n",
       "      <th>cotton</th>\n",
       "      <th>polyester</th>\n",
       "      <th>spandex</th>\n",
       "      <th>scrapy_datetime</th>\n",
       "      <th>general_color</th>\n",
       "    </tr>\n",
       "  </thead>\n",
       "  <tbody>\n",
       "    <tr>\n",
       "      <th>0</th>\n",
       "      <td>1024256001</td>\n",
       "      <td>1024256</td>\n",
       "      <td>001</td>\n",
       "      <td>slim_jeans</td>\n",
       "      <td>black</td>\n",
       "      <td>slim_fit</td>\n",
       "      <td>24.99</td>\n",
       "      <td>1</td>\n",
       "      <td>1</td>\n",
       "      <td>1</td>\n",
       "      <td>2023-01-09 12:48:50</td>\n",
       "      <td>black</td>\n",
       "    </tr>\n",
       "    <tr>\n",
       "      <th>1</th>\n",
       "      <td>1024256002</td>\n",
       "      <td>1024256</td>\n",
       "      <td>002</td>\n",
       "      <td>slim_jeans</td>\n",
       "      <td>light_blue</td>\n",
       "      <td>slim_fit</td>\n",
       "      <td>24.99</td>\n",
       "      <td>1</td>\n",
       "      <td>1</td>\n",
       "      <td>1</td>\n",
       "      <td>2023-01-09 12:48:50</td>\n",
       "      <td>blue</td>\n",
       "    </tr>\n",
       "    <tr>\n",
       "      <th>2</th>\n",
       "      <td>1024256003</td>\n",
       "      <td>1024256</td>\n",
       "      <td>003</td>\n",
       "      <td>slim_jeans</td>\n",
       "      <td>light_blue</td>\n",
       "      <td>slim_fit</td>\n",
       "      <td>24.99</td>\n",
       "      <td>1</td>\n",
       "      <td>1</td>\n",
       "      <td>1</td>\n",
       "      <td>2023-01-09 12:48:50</td>\n",
       "      <td>blue</td>\n",
       "    </tr>\n",
       "    <tr>\n",
       "      <th>3</th>\n",
       "      <td>1024256004</td>\n",
       "      <td>1024256</td>\n",
       "      <td>004</td>\n",
       "      <td>slim_jeans</td>\n",
       "      <td>blue</td>\n",
       "      <td>slim_fit</td>\n",
       "      <td>24.99</td>\n",
       "      <td>1</td>\n",
       "      <td>1</td>\n",
       "      <td>1</td>\n",
       "      <td>2023-01-09 12:48:50</td>\n",
       "      <td>blue</td>\n",
       "    </tr>\n",
       "    <tr>\n",
       "      <th>4</th>\n",
       "      <td>1024256005</td>\n",
       "      <td>1024256</td>\n",
       "      <td>005</td>\n",
       "      <td>slim_jeans</td>\n",
       "      <td>dark_blue</td>\n",
       "      <td>slim_fit</td>\n",
       "      <td>24.99</td>\n",
       "      <td>1</td>\n",
       "      <td>1</td>\n",
       "      <td>1</td>\n",
       "      <td>2023-01-09 12:48:50</td>\n",
       "      <td>blue</td>\n",
       "    </tr>\n",
       "    <tr>\n",
       "      <th>...</th>\n",
       "      <td>...</td>\n",
       "      <td>...</td>\n",
       "      <td>...</td>\n",
       "      <td>...</td>\n",
       "      <td>...</td>\n",
       "      <td>...</td>\n",
       "      <td>...</td>\n",
       "      <td>...</td>\n",
       "      <td>...</td>\n",
       "      <td>...</td>\n",
       "      <td>...</td>\n",
       "      <td>...</td>\n",
       "    </tr>\n",
       "    <tr>\n",
       "      <th>362</th>\n",
       "      <td>0927964013</td>\n",
       "      <td>0927964</td>\n",
       "      <td>013</td>\n",
       "      <td>regular_tapered_crop_jeans</td>\n",
       "      <td>black</td>\n",
       "      <td>regular_fit</td>\n",
       "      <td>19.99</td>\n",
       "      <td>1</td>\n",
       "      <td>0</td>\n",
       "      <td>1</td>\n",
       "      <td>2023-01-10 10:25:42</td>\n",
       "      <td>black</td>\n",
       "    </tr>\n",
       "    <tr>\n",
       "      <th>363</th>\n",
       "      <td>1063141001</td>\n",
       "      <td>1063141</td>\n",
       "      <td>001</td>\n",
       "      <td>loose_jeans</td>\n",
       "      <td>blue</td>\n",
       "      <td>loose_fit</td>\n",
       "      <td>44.99</td>\n",
       "      <td>1</td>\n",
       "      <td>0</td>\n",
       "      <td>1</td>\n",
       "      <td>2023-01-10 10:25:42</td>\n",
       "      <td>blue</td>\n",
       "    </tr>\n",
       "    <tr>\n",
       "      <th>364</th>\n",
       "      <td>1051644001</td>\n",
       "      <td>1051644</td>\n",
       "      <td>001</td>\n",
       "      <td>loose_jeans</td>\n",
       "      <td>blue</td>\n",
       "      <td>loose_fit</td>\n",
       "      <td>44.99</td>\n",
       "      <td>1</td>\n",
       "      <td>0</td>\n",
       "      <td>1</td>\n",
       "      <td>2023-01-10 10:25:42</td>\n",
       "      <td>blue</td>\n",
       "    </tr>\n",
       "    <tr>\n",
       "      <th>365</th>\n",
       "      <td>1025726002</td>\n",
       "      <td>1025726</td>\n",
       "      <td>002</td>\n",
       "      <td>relaxed_jeans</td>\n",
       "      <td>light_blue</td>\n",
       "      <td>relaxed_fit</td>\n",
       "      <td>11.99</td>\n",
       "      <td>1</td>\n",
       "      <td>0</td>\n",
       "      <td>1</td>\n",
       "      <td>2023-01-10 10:25:42</td>\n",
       "      <td>blue</td>\n",
       "    </tr>\n",
       "    <tr>\n",
       "      <th>366</th>\n",
       "      <td>1025726003</td>\n",
       "      <td>1025726</td>\n",
       "      <td>003</td>\n",
       "      <td>relaxed_jeans</td>\n",
       "      <td>graphite_gray</td>\n",
       "      <td>relaxed_fit</td>\n",
       "      <td>39.99</td>\n",
       "      <td>1</td>\n",
       "      <td>0</td>\n",
       "      <td>1</td>\n",
       "      <td>2023-01-10 10:25:42</td>\n",
       "      <td>gray</td>\n",
       "    </tr>\n",
       "  </tbody>\n",
       "</table>\n",
       "<p>367 rows × 12 columns</p>\n",
       "</div>"
      ],
      "text/plain": [
       "     product_id style_id color_id                product_name  product_color  product_fit  product_price  cotton  polyester  spandex     scrapy_datetime general_color\n",
       "0    1024256001  1024256      001                  slim_jeans          black     slim_fit          24.99       1          1        1 2023-01-09 12:48:50         black\n",
       "1    1024256002  1024256      002                  slim_jeans     light_blue     slim_fit          24.99       1          1        1 2023-01-09 12:48:50          blue\n",
       "2    1024256003  1024256      003                  slim_jeans     light_blue     slim_fit          24.99       1          1        1 2023-01-09 12:48:50          blue\n",
       "3    1024256004  1024256      004                  slim_jeans           blue     slim_fit          24.99       1          1        1 2023-01-09 12:48:50          blue\n",
       "4    1024256005  1024256      005                  slim_jeans      dark_blue     slim_fit          24.99       1          1        1 2023-01-09 12:48:50          blue\n",
       "..          ...      ...      ...                         ...            ...          ...            ...     ...        ...      ...                 ...           ...\n",
       "362  0927964013  0927964      013  regular_tapered_crop_jeans          black  regular_fit          19.99       1          0        1 2023-01-10 10:25:42         black\n",
       "363  1063141001  1063141      001                 loose_jeans           blue    loose_fit          44.99       1          0        1 2023-01-10 10:25:42          blue\n",
       "364  1051644001  1051644      001                 loose_jeans           blue    loose_fit          44.99       1          0        1 2023-01-10 10:25:42          blue\n",
       "365  1025726002  1025726      002               relaxed_jeans     light_blue  relaxed_fit          11.99       1          0        1 2023-01-10 10:25:42          blue\n",
       "366  1025726003  1025726      003               relaxed_jeans  graphite_gray  relaxed_fit          39.99       1          0        1 2023-01-10 10:25:42          gray\n",
       "\n",
       "[367 rows x 12 columns]"
      ]
     },
     "execution_count": 69,
     "metadata": {},
     "output_type": "execute_result"
    }
   ],
   "source": [
    "df4.loc[df4['scrapy_datetime'] > '2023-01-09 10:15:23']"
   ]
  },
  {
   "cell_type": "code",
   "execution_count": 70,
   "id": "851d29ff",
   "metadata": {
    "ExecuteTime": {
     "end_time": "2023-01-10T15:43:47.384524Z",
     "start_time": "2023-01-10T15:43:47.367891Z"
    },
    "cell_style": "split",
    "hide_input": true
   },
   "outputs": [
    {
     "data": {
      "text/html": [
       "<div>\n",
       "<style scoped>\n",
       "    .dataframe tbody tr th:only-of-type {\n",
       "        vertical-align: middle;\n",
       "    }\n",
       "\n",
       "    .dataframe tbody tr th {\n",
       "        vertical-align: top;\n",
       "    }\n",
       "\n",
       "    .dataframe thead th {\n",
       "        text-align: right;\n",
       "    }\n",
       "</style>\n",
       "<table border=\"1\" class=\"dataframe\">\n",
       "  <thead>\n",
       "    <tr style=\"text-align: right;\">\n",
       "      <th></th>\n",
       "      <th>color</th>\n",
       "      <th>amount</th>\n",
       "      <th>percentage</th>\n",
       "    </tr>\n",
       "  </thead>\n",
       "  <tbody>\n",
       "    <tr>\n",
       "      <th>0</th>\n",
       "      <td>blue</td>\n",
       "      <td>73</td>\n",
       "      <td>24.83</td>\n",
       "    </tr>\n",
       "    <tr>\n",
       "      <th>1</th>\n",
       "      <td>light_blue</td>\n",
       "      <td>71</td>\n",
       "      <td>24.15</td>\n",
       "    </tr>\n",
       "    <tr>\n",
       "      <th>2</th>\n",
       "      <td>black</td>\n",
       "      <td>57</td>\n",
       "      <td>19.39</td>\n",
       "    </tr>\n",
       "    <tr>\n",
       "      <th>3</th>\n",
       "      <td>dark_blue</td>\n",
       "      <td>50</td>\n",
       "      <td>17.01</td>\n",
       "    </tr>\n",
       "    <tr>\n",
       "      <th>4</th>\n",
       "      <td>pale_blue</td>\n",
       "      <td>10</td>\n",
       "      <td>3.40</td>\n",
       "    </tr>\n",
       "  </tbody>\n",
       "</table>\n",
       "</div>"
      ],
      "text/plain": [
       "        color  amount  percentage\n",
       "0        blue      73       24.83\n",
       "1  light_blue      71       24.15\n",
       "2       black      57       19.39\n",
       "3   dark_blue      50       17.01\n",
       "4   pale_blue      10        3.40"
      ]
     },
     "execution_count": 70,
     "metadata": {},
     "output_type": "execute_result"
    }
   ],
   "source": [
    "aux_amount = df4.loc[df4['product_color'].str.contains( 'blue', na=True ) | df4['product_color'].str.contains( 'black', na=True ),\n",
    "        ['product_color', 'product_id']].groupby( 'product_color' ).count().sort_values( 'product_id', ascending=False ).reset_index()\n",
    "aux_amount.columns = ['color', 'amount']\n",
    "aux_amount['percentage'] = aux_amount['amount'].apply( lambda x: x / aux_amount['amount'].sum() * 100 )\n",
    "aux_amount.head(5)"
   ]
  },
  {
   "cell_type": "code",
   "execution_count": 71,
   "id": "6e3ac584",
   "metadata": {
    "ExecuteTime": {
     "end_time": "2023-01-10T15:47:29.980313Z",
     "start_time": "2023-01-10T15:47:29.968587Z"
    },
    "cell_style": "split",
    "hide_input": true
   },
   "outputs": [
    {
     "data": {
      "text/html": [
       "<div>\n",
       "<style scoped>\n",
       "    .dataframe tbody tr th:only-of-type {\n",
       "        vertical-align: middle;\n",
       "    }\n",
       "\n",
       "    .dataframe tbody tr th {\n",
       "        vertical-align: top;\n",
       "    }\n",
       "\n",
       "    .dataframe thead th {\n",
       "        text-align: right;\n",
       "    }\n",
       "</style>\n",
       "<table border=\"1\" class=\"dataframe\">\n",
       "  <thead>\n",
       "    <tr style=\"text-align: right;\">\n",
       "      <th></th>\n",
       "      <th>product_fit</th>\n",
       "      <th>product_price</th>\n",
       "    </tr>\n",
       "  </thead>\n",
       "  <tbody>\n",
       "    <tr>\n",
       "      <th>0</th>\n",
       "      <td>loose_fit</td>\n",
       "      <td>39.99</td>\n",
       "    </tr>\n",
       "    <tr>\n",
       "      <th>1</th>\n",
       "      <td>relaxed_fit</td>\n",
       "      <td>34.33</td>\n",
       "    </tr>\n",
       "    <tr>\n",
       "      <th>2</th>\n",
       "      <td>slim_fit</td>\n",
       "      <td>32.31</td>\n",
       "    </tr>\n",
       "    <tr>\n",
       "      <th>3</th>\n",
       "      <td>regular_fit</td>\n",
       "      <td>27.71</td>\n",
       "    </tr>\n",
       "    <tr>\n",
       "      <th>4</th>\n",
       "      <td>skinny_fit</td>\n",
       "      <td>27.13</td>\n",
       "    </tr>\n",
       "  </tbody>\n",
       "</table>\n",
       "</div>"
      ],
      "text/plain": [
       "   product_fit  product_price\n",
       "0    loose_fit          39.99\n",
       "1  relaxed_fit          34.33\n",
       "2     slim_fit          32.31\n",
       "3  regular_fit          27.71\n",
       "4   skinny_fit          27.13"
      ]
     },
     "execution_count": 71,
     "metadata": {},
     "output_type": "execute_result"
    }
   ],
   "source": [
    "df4[['product_fit', 'product_price']].groupby( 'product_fit' ).mean().sort_values( 'product_price', ascending=False ).reset_index()"
   ]
  },
  {
   "cell_type": "code",
   "execution_count": 72,
   "id": "8bac4821",
   "metadata": {
    "ExecuteTime": {
     "end_time": "2023-01-10T15:47:30.158718Z",
     "start_time": "2023-01-10T15:47:30.154599Z"
    },
    "cell_style": "center",
    "hide_input": false
   },
   "outputs": [],
   "source": [
    "# 01 mean price per color\n",
    "# 02 mean price per color for only regular fit"
   ]
  },
  {
   "cell_type": "code",
   "execution_count": 73,
   "id": "44442bb3",
   "metadata": {
    "ExecuteTime": {
     "end_time": "2023-01-10T15:47:30.371395Z",
     "start_time": "2023-01-10T15:47:30.359602Z"
    },
    "cell_style": "split",
    "hide_input": true
   },
   "outputs": [
    {
     "data": {
      "text/html": [
       "<div>\n",
       "<style scoped>\n",
       "    .dataframe tbody tr th:only-of-type {\n",
       "        vertical-align: middle;\n",
       "    }\n",
       "\n",
       "    .dataframe tbody tr th {\n",
       "        vertical-align: top;\n",
       "    }\n",
       "\n",
       "    .dataframe thead th {\n",
       "        text-align: right;\n",
       "    }\n",
       "</style>\n",
       "<table border=\"1\" class=\"dataframe\">\n",
       "  <thead>\n",
       "    <tr style=\"text-align: right;\">\n",
       "      <th></th>\n",
       "      <th>color</th>\n",
       "      <th>mean_price</th>\n",
       "    </tr>\n",
       "  </thead>\n",
       "  <tbody>\n",
       "    <tr>\n",
       "      <th>0</th>\n",
       "      <td>black/no_fade_black</td>\n",
       "      <td>44.99</td>\n",
       "    </tr>\n",
       "    <tr>\n",
       "      <th>1</th>\n",
       "      <td>black/patterned</td>\n",
       "      <td>39.99</td>\n",
       "    </tr>\n",
       "    <tr>\n",
       "      <th>2</th>\n",
       "      <td>black/trashed</td>\n",
       "      <td>39.99</td>\n",
       "    </tr>\n",
       "    <tr>\n",
       "      <th>3</th>\n",
       "      <td>blue</td>\n",
       "      <td>33.11</td>\n",
       "    </tr>\n",
       "    <tr>\n",
       "      <th>4</th>\n",
       "      <td>black</td>\n",
       "      <td>32.41</td>\n",
       "    </tr>\n",
       "    <tr>\n",
       "      <th>5</th>\n",
       "      <td>pale_blue</td>\n",
       "      <td>32.39</td>\n",
       "    </tr>\n",
       "    <tr>\n",
       "      <th>6</th>\n",
       "      <td>dark_blue</td>\n",
       "      <td>31.23</td>\n",
       "    </tr>\n",
       "    <tr>\n",
       "      <th>7</th>\n",
       "      <td>light_blue</td>\n",
       "      <td>30.05</td>\n",
       "    </tr>\n",
       "    <tr>\n",
       "      <th>8</th>\n",
       "      <td>light_blue/trashed</td>\n",
       "      <td>26.99</td>\n",
       "    </tr>\n",
       "    <tr>\n",
       "      <th>9</th>\n",
       "      <td>dark_blue/trashed</td>\n",
       "      <td>23.49</td>\n",
       "    </tr>\n",
       "  </tbody>\n",
       "</table>\n",
       "</div>"
      ],
      "text/plain": [
       "                 color  mean_price\n",
       "0  black/no_fade_black       44.99\n",
       "1      black/patterned       39.99\n",
       "2        black/trashed       39.99\n",
       "3                 blue       33.11\n",
       "4                black       32.41\n",
       "5            pale_blue       32.39\n",
       "6            dark_blue       31.23\n",
       "7           light_blue       30.05\n",
       "8   light_blue/trashed       26.99\n",
       "9    dark_blue/trashed       23.49"
      ]
     },
     "execution_count": 73,
     "metadata": {},
     "output_type": "execute_result"
    }
   ],
   "source": [
    "aux_price = df4.loc[df4['product_color'].str.contains( 'blue', na=True ) | df4['product_color'].str.contains( 'black', na=True ),\n",
    "        ['product_color', 'product_price']].groupby( 'product_color' ).mean().sort_values( 'product_price', ascending=False ).reset_index()\n",
    "aux_price.columns = ['color', 'mean_price']\n",
    "aux_price.head(10)"
   ]
  },
  {
   "cell_type": "code",
   "execution_count": 74,
   "id": "cf405863",
   "metadata": {
    "ExecuteTime": {
     "end_time": "2023-01-10T15:47:30.586368Z",
     "start_time": "2023-01-10T15:47:30.571321Z"
    },
    "cell_style": "split",
    "hide_input": true
   },
   "outputs": [
    {
     "data": {
      "text/html": [
       "<div>\n",
       "<style scoped>\n",
       "    .dataframe tbody tr th:only-of-type {\n",
       "        vertical-align: middle;\n",
       "    }\n",
       "\n",
       "    .dataframe tbody tr th {\n",
       "        vertical-align: top;\n",
       "    }\n",
       "\n",
       "    .dataframe thead th {\n",
       "        text-align: right;\n",
       "    }\n",
       "</style>\n",
       "<table border=\"1\" class=\"dataframe\">\n",
       "  <thead>\n",
       "    <tr style=\"text-align: right;\">\n",
       "      <th></th>\n",
       "      <th>color</th>\n",
       "      <th>mean_price</th>\n",
       "    </tr>\n",
       "  </thead>\n",
       "  <tbody>\n",
       "    <tr>\n",
       "      <th>0</th>\n",
       "      <td>black/no_fade_black</td>\n",
       "      <td>44.99</td>\n",
       "    </tr>\n",
       "    <tr>\n",
       "      <th>1</th>\n",
       "      <td>black/patterned</td>\n",
       "      <td>39.99</td>\n",
       "    </tr>\n",
       "    <tr>\n",
       "      <th>2</th>\n",
       "      <td>black/trashed</td>\n",
       "      <td>39.99</td>\n",
       "    </tr>\n",
       "    <tr>\n",
       "      <th>3</th>\n",
       "      <td>blue</td>\n",
       "      <td>33.11</td>\n",
       "    </tr>\n",
       "    <tr>\n",
       "      <th>4</th>\n",
       "      <td>black</td>\n",
       "      <td>32.41</td>\n",
       "    </tr>\n",
       "    <tr>\n",
       "      <th>5</th>\n",
       "      <td>pale_blue</td>\n",
       "      <td>32.39</td>\n",
       "    </tr>\n",
       "    <tr>\n",
       "      <th>6</th>\n",
       "      <td>dark_blue</td>\n",
       "      <td>31.23</td>\n",
       "    </tr>\n",
       "    <tr>\n",
       "      <th>7</th>\n",
       "      <td>light_blue</td>\n",
       "      <td>30.05</td>\n",
       "    </tr>\n",
       "    <tr>\n",
       "      <th>8</th>\n",
       "      <td>light_blue/trashed</td>\n",
       "      <td>26.99</td>\n",
       "    </tr>\n",
       "    <tr>\n",
       "      <th>9</th>\n",
       "      <td>dark_blue/trashed</td>\n",
       "      <td>23.49</td>\n",
       "    </tr>\n",
       "  </tbody>\n",
       "</table>\n",
       "</div>"
      ],
      "text/plain": [
       "                 color  mean_price\n",
       "0  black/no_fade_black       44.99\n",
       "1      black/patterned       39.99\n",
       "2        black/trashed       39.99\n",
       "3                 blue       33.11\n",
       "4                black       32.41\n",
       "5            pale_blue       32.39\n",
       "6            dark_blue       31.23\n",
       "7           light_blue       30.05\n",
       "8   light_blue/trashed       26.99\n",
       "9    dark_blue/trashed       23.49"
      ]
     },
     "execution_count": 74,
     "metadata": {},
     "output_type": "execute_result"
    }
   ],
   "source": [
    "aux_fit = df4.loc[df4['product_fit'] == 'regular_fit', :]\n",
    "aux_fit = df4.loc[(df4['product_color'].str.contains( 'blue', na=True ) | df4['product_color'].str.contains( 'black', na=True )),\n",
    "                  ['product_color', 'product_price']].groupby( 'product_color' ).mean().sort_values( 'product_price', ascending=False ).reset_index()\n",
    "aux_fit.columns = ['color', 'mean_price']\n",
    "aux_fit.head(10)"
   ]
  },
  {
   "cell_type": "code",
   "execution_count": 75,
   "id": "9fd3bc09",
   "metadata": {
    "ExecuteTime": {
     "end_time": "2023-01-10T15:47:31.340646Z",
     "start_time": "2023-01-10T15:47:31.336079Z"
    }
   },
   "outputs": [],
   "source": [
    "# 01 amount per with/without polyester for both regular fit and skinny_fit\n",
    "# 02 mean price per with/without polyester for both regular fit and skinny_fit"
   ]
  },
  {
   "cell_type": "code",
   "execution_count": 76,
   "id": "843cd3d0",
   "metadata": {
    "ExecuteTime": {
     "end_time": "2023-01-10T15:47:31.646946Z",
     "start_time": "2023-01-10T15:47:31.571885Z"
    },
    "cell_style": "split",
    "hide_input": true
   },
   "outputs": [
    {
     "data": {
      "image/png": "[encoded data removed]",
      "text/plain": [
       "<Figure size 1500x600 with 1 Axes>"
      ]
     },
     "metadata": {},
     "output_type": "display_data"
    }
   ],
   "source": [
    "aux_composition = df4.loc[(df4['product_fit'] == 'regular_fit') | (df4['product_fit'] == 'skinny_fit'), :]\n",
    "aux_composition = aux_composition[['polyester', 'product_id']].groupby( 'polyester' ).count().reset_index()\n",
    "aux_composition.columns = ['polyester', 'amount']\n",
    "\n",
    "plt.pie( [aux_composition.iloc[1,1], aux_composition.iloc[0,1]],labels = ['yes', 'no'], autopct='%.2f%%' )\n",
    "plt.title( 'With/without polyester' )\n",
    "plt.show()"
   ]
  },
  {
   "cell_type": "code",
   "execution_count": 77,
   "id": "39040b19",
   "metadata": {
    "ExecuteTime": {
     "end_time": "2023-01-10T15:47:31.927622Z",
     "start_time": "2023-01-10T15:47:31.913052Z"
    },
    "cell_style": "split",
    "hide_input": true
   },
   "outputs": [
    {
     "name": "stdout",
     "output_type": "stream",
     "text": [
      "A diferença é de 9.75%\n"
     ]
    },
    {
     "data": {
      "text/html": [
       "<div>\n",
       "<style scoped>\n",
       "    .dataframe tbody tr th:only-of-type {\n",
       "        vertical-align: middle;\n",
       "    }\n",
       "\n",
       "    .dataframe tbody tr th {\n",
       "        vertical-align: top;\n",
       "    }\n",
       "\n",
       "    .dataframe thead th {\n",
       "        text-align: right;\n",
       "    }\n",
       "</style>\n",
       "<table border=\"1\" class=\"dataframe\">\n",
       "  <thead>\n",
       "    <tr style=\"text-align: right;\">\n",
       "      <th></th>\n",
       "      <th>polyester</th>\n",
       "      <th>mean_price</th>\n",
       "    </tr>\n",
       "  </thead>\n",
       "  <tbody>\n",
       "    <tr>\n",
       "      <th>0</th>\n",
       "      <td>0</td>\n",
       "      <td>29.00</td>\n",
       "    </tr>\n",
       "    <tr>\n",
       "      <th>1</th>\n",
       "      <td>1</td>\n",
       "      <td>26.18</td>\n",
       "    </tr>\n",
       "  </tbody>\n",
       "</table>\n",
       "</div>"
      ],
      "text/plain": [
       "   polyester  mean_price\n",
       "0          0       29.00\n",
       "1          1       26.18"
      ]
     },
     "execution_count": 77,
     "metadata": {},
     "output_type": "execute_result"
    }
   ],
   "source": [
    "aux_composition = df4.loc[(df4['product_fit'] == 'regular_fit') | (df4['product_fit'] == 'skinny_fit'), :]\n",
    "aux_composition = aux_composition[['polyester', 'product_price']].groupby( 'polyester' ).mean().reset_index()\n",
    "aux_composition.columns = ['polyester', 'mean_price']\n",
    "\n",
    "result = round( (aux_composition.iloc[0, 1] - aux_composition.iloc[1,1]) / aux_composition.iloc[0,1] * 100, 2 )\n",
    "print( 'A diferença é de {}%'.format( result ) )\n",
    "\n",
    "aux_composition"
   ]
  },
  {
   "cell_type": "code",
   "execution_count": 78,
   "id": "39aedf27",
   "metadata": {
    "ExecuteTime": {
     "end_time": "2023-01-10T15:47:32.481294Z",
     "start_time": "2023-01-10T15:47:32.476785Z"
    }
   },
   "outputs": [],
   "source": [
    "# 01 amount per with/without polyester for only regular fit\n",
    "# 02 mean price per with/without polyester for only regular fit"
   ]
  },
  {
   "cell_type": "code",
   "execution_count": 79,
   "id": "5a04ec3d",
   "metadata": {
    "ExecuteTime": {
     "end_time": "2023-01-10T15:47:34.138787Z",
     "start_time": "2023-01-10T15:47:34.068358Z"
    },
    "cell_style": "split",
    "hide_input": true
   },
   "outputs": [
    {
     "data": {
      "image/png": "[encoded data removed]",
      "text/plain": [
       "<Figure size 1500x600 with 1 Axes>"
      ]
     },
     "metadata": {},
     "output_type": "display_data"
    }
   ],
   "source": [
    "aux_composition = df4.loc[df4['product_fit'] == 'regular_fit', :]\n",
    "aux_composition = aux_composition[['polyester', 'product_id']].groupby( 'polyester' ).count().reset_index()\n",
    "aux_composition.columns = ['polyester', 'amount']\n",
    "\n",
    "plt.pie( [aux_composition.iloc[1,1], aux_composition.iloc[0,1]],labels = ['yes', 'no'], autopct='%.2f%%' )\n",
    "plt.title( 'With/without polyester' )\n",
    "plt.show()"
   ]
  },
  {
   "cell_type": "code",
   "execution_count": 80,
   "id": "a62a9d90",
   "metadata": {
    "ExecuteTime": {
     "end_time": "2023-01-10T15:47:34.541779Z",
     "start_time": "2023-01-10T15:47:34.527627Z"
    },
    "cell_style": "split",
    "hide_input": true
   },
   "outputs": [
    {
     "name": "stdout",
     "output_type": "stream",
     "text": [
      "A diferença é de 16.48%\n"
     ]
    },
    {
     "data": {
      "text/html": [
       "<div>\n",
       "<style scoped>\n",
       "    .dataframe tbody tr th:only-of-type {\n",
       "        vertical-align: middle;\n",
       "    }\n",
       "\n",
       "    .dataframe tbody tr th {\n",
       "        vertical-align: top;\n",
       "    }\n",
       "\n",
       "    .dataframe thead th {\n",
       "        text-align: right;\n",
       "    }\n",
       "</style>\n",
       "<table border=\"1\" class=\"dataframe\">\n",
       "  <thead>\n",
       "    <tr style=\"text-align: right;\">\n",
       "      <th></th>\n",
       "      <th>polyester</th>\n",
       "      <th>mean_price</th>\n",
       "    </tr>\n",
       "  </thead>\n",
       "  <tbody>\n",
       "    <tr>\n",
       "      <th>0</th>\n",
       "      <td>0</td>\n",
       "      <td>29.37</td>\n",
       "    </tr>\n",
       "    <tr>\n",
       "      <th>1</th>\n",
       "      <td>1</td>\n",
       "      <td>24.53</td>\n",
       "    </tr>\n",
       "  </tbody>\n",
       "</table>\n",
       "</div>"
      ],
      "text/plain": [
       "   polyester  mean_price\n",
       "0          0       29.37\n",
       "1          1       24.53"
      ]
     },
     "execution_count": 80,
     "metadata": {},
     "output_type": "execute_result"
    }
   ],
   "source": [
    "aux_composition = df4.loc[df4['product_fit'] == 'regular_fit', :]\n",
    "aux_composition = aux_composition[['polyester', 'product_price']].groupby( 'polyester' ).mean().reset_index()\n",
    "aux_composition.columns = ['polyester', 'mean_price']\n",
    "\n",
    "result = round( (aux_composition.iloc[0, 1] - aux_composition.iloc[1,1]) / aux_composition.iloc[0,1] * 100, 2 )\n",
    "print( 'A diferença é de {}%'.format( result ) )\n",
    "\n",
    "aux_composition"
   ]
  },
  {
   "cell_type": "code",
   "execution_count": 81,
   "id": "c3a1607c",
   "metadata": {
    "ExecuteTime": {
     "end_time": "2023-01-10T15:47:35.191687Z",
     "start_time": "2023-01-10T15:47:35.186597Z"
    }
   },
   "outputs": [],
   "source": [
    "# 01 amount per with/without polyester for only skinny_fit\n",
    "# 02 mean price per with/without polyester for only skinny_fit"
   ]
  },
  {
   "cell_type": "code",
   "execution_count": 94,
   "id": "471bf083",
   "metadata": {
    "ExecuteTime": {
     "end_time": "2023-01-10T15:56:25.509631Z",
     "start_time": "2023-01-10T15:56:25.436742Z"
    },
    "cell_style": "split",
    "hide_input": true
   },
   "outputs": [
    {
     "data": {
      "image/png": "[encoded data removed]",
      "text/plain": [
       "<Figure size 1500x600 with 1 Axes>"
      ]
     },
     "metadata": {},
     "output_type": "display_data"
    }
   ],
   "source": [
    "aux_composition = df4.loc[df4['product_fit'] == 'skinny_fit', :]\n",
    "aux_composition = aux_composition[['polyester', 'product_id']].groupby( 'polyester' ).count().reset_index()\n",
    "aux_composition.columns = ['polyester', 'amount']\n",
    "\n",
    "plt.pie( [aux_composition.iloc[1,1], aux_composition.iloc[0,1]],labels = ['yes', 'no'], autopct='%.2f%%' )\n",
    "plt.title( 'With/without polyester' )\n",
    "plt.show()"
   ]
  },
  {
   "cell_type": "code",
   "execution_count": 93,
   "id": "e8cd1eec",
   "metadata": {
    "ExecuteTime": {
     "end_time": "2023-01-10T15:56:14.710517Z",
     "start_time": "2023-01-10T15:56:14.697047Z"
    },
    "cell_style": "split",
    "hide_input": true
   },
   "outputs": [
    {
     "name": "stdout",
     "output_type": "stream",
     "text": [
      "A diferença é de -1.37%\n"
     ]
    },
    {
     "data": {
      "text/html": [
       "<div>\n",
       "<style scoped>\n",
       "    .dataframe tbody tr th:only-of-type {\n",
       "        vertical-align: middle;\n",
       "    }\n",
       "\n",
       "    .dataframe tbody tr th {\n",
       "        vertical-align: top;\n",
       "    }\n",
       "\n",
       "    .dataframe thead th {\n",
       "        text-align: right;\n",
       "    }\n",
       "</style>\n",
       "<table border=\"1\" class=\"dataframe\">\n",
       "  <thead>\n",
       "    <tr style=\"text-align: right;\">\n",
       "      <th></th>\n",
       "      <th>polyester</th>\n",
       "      <th>mean_price</th>\n",
       "    </tr>\n",
       "  </thead>\n",
       "  <tbody>\n",
       "    <tr>\n",
       "      <th>0</th>\n",
       "      <td>0</td>\n",
       "      <td>26.82</td>\n",
       "    </tr>\n",
       "    <tr>\n",
       "      <th>1</th>\n",
       "      <td>1</td>\n",
       "      <td>27.19</td>\n",
       "    </tr>\n",
       "  </tbody>\n",
       "</table>\n",
       "</div>"
      ],
      "text/plain": [
       "   polyester  mean_price\n",
       "0          0       26.82\n",
       "1          1       27.19"
      ]
     },
     "execution_count": 93,
     "metadata": {},
     "output_type": "execute_result"
    }
   ],
   "source": [
    "aux_composition = df4.loc[df4['product_fit'] == 'skinny_fit', :]\n",
    "aux_composition = aux_composition[['polyester', 'product_price']].groupby( 'polyester' ).mean().reset_index()\n",
    "aux_composition.columns = ['polyester', 'mean_price']\n",
    "\n",
    "result = round( (aux_composition.iloc[0, 1] - aux_composition.iloc[1,1]) / aux_composition.iloc[0,1] * 100, 2 )\n",
    "print( 'A diferença é de {}%'.format( result ) )\n",
    "\n",
    "aux_composition"
   ]
  },
  {
   "cell_type": "markdown",
   "id": "4213321b",
   "metadata": {
    "ExecuteTime": {
     "end_time": "2022-12-31T22:21:39.354489Z",
     "start_time": "2022-12-31T22:21:39.347059Z"
    }
   },
   "source": [
    "### 4.2.1 Case 01\n",
    "\n",
    "    fits   -> regular_fit\n",
    "    colors -> black, blue"
   ]
  },
  {
   "cell_type": "code",
   "execution_count": 84,
   "id": "bdefe919",
   "metadata": {
    "ExecuteTime": {
     "end_time": "2023-01-10T15:47:45.117414Z",
     "start_time": "2023-01-10T15:47:45.109207Z"
    }
   },
   "outputs": [],
   "source": [
    "case_01 = df4.loc[(df4['product_fit'] == 'regular_fit') &\n",
    "                  ((df4['product_color'] == 'black') | (df4['product_color'] == 'blue')), :]"
   ]
  },
  {
   "cell_type": "code",
   "execution_count": 85,
   "id": "d61e38e9",
   "metadata": {
    "ExecuteTime": {
     "end_time": "2023-01-10T15:47:45.677393Z",
     "start_time": "2023-01-10T15:47:45.661004Z"
    },
    "cell_style": "split",
    "hide_input": true
   },
   "outputs": [
    {
     "name": "stdout",
     "output_type": "stream",
     "text": [
      "Com polyester:\n",
      "O preço médio total é $28.79\n"
     ]
    },
    {
     "data": {
      "text/html": [
       "<div>\n",
       "<style scoped>\n",
       "    .dataframe tbody tr th:only-of-type {\n",
       "        vertical-align: middle;\n",
       "    }\n",
       "\n",
       "    .dataframe tbody tr th {\n",
       "        vertical-align: top;\n",
       "    }\n",
       "\n",
       "    .dataframe thead th {\n",
       "        text-align: right;\n",
       "    }\n",
       "</style>\n",
       "<table border=\"1\" class=\"dataframe\">\n",
       "  <thead>\n",
       "    <tr style=\"text-align: right;\">\n",
       "      <th></th>\n",
       "      <th>product_fit</th>\n",
       "      <th>color</th>\n",
       "      <th>mean_price</th>\n",
       "    </tr>\n",
       "  </thead>\n",
       "  <tbody>\n",
       "    <tr>\n",
       "      <th>0</th>\n",
       "      <td>regular_fit</td>\n",
       "      <td>black</td>\n",
       "      <td>26.55</td>\n",
       "    </tr>\n",
       "    <tr>\n",
       "      <th>1</th>\n",
       "      <td>regular_fit</td>\n",
       "      <td>blue</td>\n",
       "      <td>30.63</td>\n",
       "    </tr>\n",
       "  </tbody>\n",
       "</table>\n",
       "</div>"
      ],
      "text/plain": [
       "   product_fit  color  mean_price\n",
       "0  regular_fit  black       26.55\n",
       "1  regular_fit   blue       30.63"
      ]
     },
     "execution_count": 85,
     "metadata": {},
     "output_type": "execute_result"
    }
   ],
   "source": [
    "print( 'Com polyester:' )\n",
    "print( 'O preço médio total é ${}'.format( round( case_01['product_price'].mean(), 2 ) ) )\n",
    "case_01_1 = case_01[['product_fit', 'product_color', 'product_price']].groupby( ['product_fit', 'product_color'] ).mean().reset_index()\n",
    "case_01_1.columns = ['product_fit', 'color', 'mean_price']\n",
    "case_01_1"
   ]
  },
  {
   "cell_type": "code",
   "execution_count": 87,
   "id": "0c2c0895",
   "metadata": {
    "ExecuteTime": {
     "end_time": "2023-01-10T15:49:17.829678Z",
     "start_time": "2023-01-10T15:49:17.814215Z"
    },
    "cell_style": "split",
    "hide_input": true
   },
   "outputs": [
    {
     "name": "stdout",
     "output_type": "stream",
     "text": [
      "Sem polyester:\n",
      "O preço médio total é $29.62\n"
     ]
    },
    {
     "data": {
      "text/html": [
       "<div>\n",
       "<style scoped>\n",
       "    .dataframe tbody tr th:only-of-type {\n",
       "        vertical-align: middle;\n",
       "    }\n",
       "\n",
       "    .dataframe tbody tr th {\n",
       "        vertical-align: top;\n",
       "    }\n",
       "\n",
       "    .dataframe thead th {\n",
       "        text-align: right;\n",
       "    }\n",
       "</style>\n",
       "<table border=\"1\" class=\"dataframe\">\n",
       "  <thead>\n",
       "    <tr style=\"text-align: right;\">\n",
       "      <th></th>\n",
       "      <th>product_fit</th>\n",
       "      <th>color</th>\n",
       "      <th>mean_price</th>\n",
       "    </tr>\n",
       "  </thead>\n",
       "  <tbody>\n",
       "    <tr>\n",
       "      <th>0</th>\n",
       "      <td>regular_fit</td>\n",
       "      <td>black</td>\n",
       "      <td>26.56</td>\n",
       "    </tr>\n",
       "    <tr>\n",
       "      <th>1</th>\n",
       "      <td>regular_fit</td>\n",
       "      <td>blue</td>\n",
       "      <td>32.30</td>\n",
       "    </tr>\n",
       "  </tbody>\n",
       "</table>\n",
       "</div>"
      ],
      "text/plain": [
       "   product_fit  color  mean_price\n",
       "0  regular_fit  black       26.56\n",
       "1  regular_fit   blue       32.30"
      ]
     },
     "execution_count": 87,
     "metadata": {},
     "output_type": "execute_result"
    }
   ],
   "source": [
    "print( 'Sem polyester:' )\n",
    "case_01_2 = case_01.loc[case_01['polyester'] == 0, :]\n",
    "print( 'O preço médio total é ${}'.format( round( case_01_2['product_price'].mean(), 2 ) ) )\n",
    "case_01_2 = case_01_2[['product_fit', 'product_color', 'product_price']].groupby( ['product_fit', 'product_color'] ).mean().reset_index()\n",
    "case_01_2.columns = ['product_fit', 'color', 'mean_price']\n",
    "case_01_2"
   ]
  },
  {
   "cell_type": "markdown",
   "id": "2f438aae",
   "metadata": {},
   "source": [
    "### 4.2.2 Case 02\n",
    "\n",
    "    fits   -> regular_fit\n",
    "    colors -> black, blue, dark_blue, light_blue"
   ]
  },
  {
   "cell_type": "code",
   "execution_count": 88,
   "id": "a28deb53",
   "metadata": {
    "ExecuteTime": {
     "end_time": "2023-01-10T15:49:18.726930Z",
     "start_time": "2023-01-10T15:49:18.718805Z"
    }
   },
   "outputs": [],
   "source": [
    "case_02 = df4.loc[(df4['product_fit'] == 'regular_fit') &\n",
    "                  ((df4['product_color'] == 'black') | (df4['product_color'] == 'blue') |\n",
    "                   (df4['product_color'] == 'dark_blue') | (df4['product_color'] == 'light_blue')), :]"
   ]
  },
  {
   "cell_type": "code",
   "execution_count": 89,
   "id": "dbeecc6c",
   "metadata": {
    "ExecuteTime": {
     "end_time": "2023-01-10T15:49:19.361451Z",
     "start_time": "2023-01-10T15:49:19.346386Z"
    },
    "cell_style": "split",
    "hide_input": true
   },
   "outputs": [
    {
     "name": "stdout",
     "output_type": "stream",
     "text": [
      "Com polyester:\n",
      "O preço médio total é $27.99\n"
     ]
    },
    {
     "data": {
      "text/html": [
       "<div>\n",
       "<style scoped>\n",
       "    .dataframe tbody tr th:only-of-type {\n",
       "        vertical-align: middle;\n",
       "    }\n",
       "\n",
       "    .dataframe tbody tr th {\n",
       "        vertical-align: top;\n",
       "    }\n",
       "\n",
       "    .dataframe thead th {\n",
       "        text-align: right;\n",
       "    }\n",
       "</style>\n",
       "<table border=\"1\" class=\"dataframe\">\n",
       "  <thead>\n",
       "    <tr style=\"text-align: right;\">\n",
       "      <th></th>\n",
       "      <th>product_fit</th>\n",
       "      <th>color</th>\n",
       "      <th>mean_price</th>\n",
       "    </tr>\n",
       "  </thead>\n",
       "  <tbody>\n",
       "    <tr>\n",
       "      <th>0</th>\n",
       "      <td>regular_fit</td>\n",
       "      <td>black</td>\n",
       "      <td>26.55</td>\n",
       "    </tr>\n",
       "    <tr>\n",
       "      <th>1</th>\n",
       "      <td>regular_fit</td>\n",
       "      <td>blue</td>\n",
       "      <td>30.63</td>\n",
       "    </tr>\n",
       "    <tr>\n",
       "      <th>2</th>\n",
       "      <td>regular_fit</td>\n",
       "      <td>dark_blue</td>\n",
       "      <td>27.79</td>\n",
       "    </tr>\n",
       "    <tr>\n",
       "      <th>3</th>\n",
       "      <td>regular_fit</td>\n",
       "      <td>light_blue</td>\n",
       "      <td>26.24</td>\n",
       "    </tr>\n",
       "  </tbody>\n",
       "</table>\n",
       "</div>"
      ],
      "text/plain": [
       "   product_fit       color  mean_price\n",
       "0  regular_fit       black       26.55\n",
       "1  regular_fit        blue       30.63\n",
       "2  regular_fit   dark_blue       27.79\n",
       "3  regular_fit  light_blue       26.24"
      ]
     },
     "execution_count": 89,
     "metadata": {},
     "output_type": "execute_result"
    }
   ],
   "source": [
    "print( 'Com polyester:' )\n",
    "print( 'O preço médio total é ${}'.format( round( case_02['product_price'].mean(), 2 ) ) )\n",
    "case_02_1 = case_02[['product_fit', 'product_color', 'product_price']].groupby( ['product_fit', 'product_color'] ).mean().reset_index()\n",
    "case_02_1.columns = ['product_fit', 'color', 'mean_price']\n",
    "case_02_1"
   ]
  },
  {
   "cell_type": "code",
   "execution_count": 90,
   "id": "a483ed1e",
   "metadata": {
    "ExecuteTime": {
     "end_time": "2023-01-10T15:49:20.047480Z",
     "start_time": "2023-01-10T15:49:20.033038Z"
    },
    "cell_style": "split",
    "hide_input": true
   },
   "outputs": [
    {
     "name": "stdout",
     "output_type": "stream",
     "text": [
      "Sem polyester:\n",
      "O preço médio total é $29.57\n"
     ]
    },
    {
     "data": {
      "text/html": [
       "<div>\n",
       "<style scoped>\n",
       "    .dataframe tbody tr th:only-of-type {\n",
       "        vertical-align: middle;\n",
       "    }\n",
       "\n",
       "    .dataframe tbody tr th {\n",
       "        vertical-align: top;\n",
       "    }\n",
       "\n",
       "    .dataframe thead th {\n",
       "        text-align: right;\n",
       "    }\n",
       "</style>\n",
       "<table border=\"1\" class=\"dataframe\">\n",
       "  <thead>\n",
       "    <tr style=\"text-align: right;\">\n",
       "      <th></th>\n",
       "      <th>product_fit</th>\n",
       "      <th>color</th>\n",
       "      <th>mean_price</th>\n",
       "    </tr>\n",
       "  </thead>\n",
       "  <tbody>\n",
       "    <tr>\n",
       "      <th>0</th>\n",
       "      <td>regular_fit</td>\n",
       "      <td>black</td>\n",
       "      <td>26.56</td>\n",
       "    </tr>\n",
       "    <tr>\n",
       "      <th>1</th>\n",
       "      <td>regular_fit</td>\n",
       "      <td>blue</td>\n",
       "      <td>32.30</td>\n",
       "    </tr>\n",
       "    <tr>\n",
       "      <th>2</th>\n",
       "      <td>regular_fit</td>\n",
       "      <td>dark_blue</td>\n",
       "      <td>28.09</td>\n",
       "    </tr>\n",
       "    <tr>\n",
       "      <th>3</th>\n",
       "      <td>regular_fit</td>\n",
       "      <td>light_blue</td>\n",
       "      <td>30.89</td>\n",
       "    </tr>\n",
       "  </tbody>\n",
       "</table>\n",
       "</div>"
      ],
      "text/plain": [
       "   product_fit       color  mean_price\n",
       "0  regular_fit       black       26.56\n",
       "1  regular_fit        blue       32.30\n",
       "2  regular_fit   dark_blue       28.09\n",
       "3  regular_fit  light_blue       30.89"
      ]
     },
     "execution_count": 90,
     "metadata": {},
     "output_type": "execute_result"
    }
   ],
   "source": [
    "print( 'Sem polyester:' )\n",
    "case_02_2 = case_02.loc[case_02['polyester'] == 0, :]\n",
    "print( 'O preço médio total é ${}'.format( round( case_02_2['product_price'].mean(), 2 ) ) )\n",
    "case_02_2 = case_02_2[['product_fit', 'product_color', 'product_price']].groupby( ['product_fit', 'product_color'] ).mean().reset_index()\n",
    "case_02_2.columns = ['product_fit', 'color', 'mean_price']\n",
    "case_02_2"
   ]
  },
  {
   "cell_type": "markdown",
   "id": "c8c3dd22",
   "metadata": {},
   "source": [
    "### 4.2.3 Case 03\n",
    "\n",
    "    fits   -> regular_fit, skinny_fit\n",
    "    colors -> black, blue"
   ]
  },
  {
   "cell_type": "code",
   "execution_count": 46,
   "id": "6de3b4a9",
   "metadata": {
    "ExecuteTime": {
     "end_time": "2023-01-10T14:54:04.292598Z",
     "start_time": "2023-01-10T14:54:04.285088Z"
    }
   },
   "outputs": [],
   "source": [
    "case_03 = df4.loc[((df4['product_fit'] == 'regular_fit') | (df4['product_fit'] == 'skinny_fit')) &\n",
    "                  ((df4['product_color'] == 'black') | (df4['product_color'] == 'blue')), :]"
   ]
  },
  {
   "cell_type": "code",
   "execution_count": 95,
   "id": "8b7b7990",
   "metadata": {
    "ExecuteTime": {
     "end_time": "2023-01-10T15:57:38.252150Z",
     "start_time": "2023-01-10T15:57:38.234277Z"
    },
    "cell_style": "split",
    "hide_input": true
   },
   "outputs": [
    {
     "name": "stdout",
     "output_type": "stream",
     "text": [
      "Com polyester:\n",
      "O preço médio total é $28.49\n"
     ]
    },
    {
     "data": {
      "text/html": [
       "<div>\n",
       "<style scoped>\n",
       "    .dataframe tbody tr th:only-of-type {\n",
       "        vertical-align: middle;\n",
       "    }\n",
       "\n",
       "    .dataframe tbody tr th {\n",
       "        vertical-align: top;\n",
       "    }\n",
       "\n",
       "    .dataframe thead th {\n",
       "        text-align: right;\n",
       "    }\n",
       "</style>\n",
       "<table border=\"1\" class=\"dataframe\">\n",
       "  <thead>\n",
       "    <tr style=\"text-align: right;\">\n",
       "      <th></th>\n",
       "      <th>product_fit</th>\n",
       "      <th>color</th>\n",
       "      <th>mean_price</th>\n",
       "    </tr>\n",
       "  </thead>\n",
       "  <tbody>\n",
       "    <tr>\n",
       "      <th>0</th>\n",
       "      <td>regular_fit</td>\n",
       "      <td>black</td>\n",
       "      <td>26.55</td>\n",
       "    </tr>\n",
       "    <tr>\n",
       "      <th>1</th>\n",
       "      <td>regular_fit</td>\n",
       "      <td>blue</td>\n",
       "      <td>30.63</td>\n",
       "    </tr>\n",
       "    <tr>\n",
       "      <th>2</th>\n",
       "      <td>skinny_fit</td>\n",
       "      <td>black</td>\n",
       "      <td>31.66</td>\n",
       "    </tr>\n",
       "    <tr>\n",
       "      <th>3</th>\n",
       "      <td>skinny_fit</td>\n",
       "      <td>blue</td>\n",
       "      <td>26.28</td>\n",
       "    </tr>\n",
       "  </tbody>\n",
       "</table>\n",
       "</div>"
      ],
      "text/plain": [
       "   product_fit  color  mean_price\n",
       "0  regular_fit  black       26.55\n",
       "1  regular_fit   blue       30.63\n",
       "2   skinny_fit  black       31.66\n",
       "3   skinny_fit   blue       26.28"
      ]
     },
     "execution_count": 95,
     "metadata": {},
     "output_type": "execute_result"
    }
   ],
   "source": [
    "print( 'Com polyester:' )\n",
    "print( 'O preço médio total é ${}'.format( round( case_03['product_price'].mean(), 2 ) ) )\n",
    "case_03_1 = case_03[['product_fit', 'product_color', 'product_price']].groupby( ['product_fit', 'product_color'] ).mean().reset_index()\n",
    "case_03_1.columns = ['product_fit', 'color', 'mean_price']\n",
    "case_03_1"
   ]
  },
  {
   "cell_type": "code",
   "execution_count": 96,
   "id": "6c580755",
   "metadata": {
    "ExecuteTime": {
     "end_time": "2023-01-10T15:57:38.817256Z",
     "start_time": "2023-01-10T15:57:38.800164Z"
    },
    "cell_style": "split",
    "hide_input": true
   },
   "outputs": [
    {
     "name": "stdout",
     "output_type": "stream",
     "text": [
      "Sem polyester:\n",
      "O preço médio total é $28.63\n"
     ]
    },
    {
     "data": {
      "text/html": [
       "<div>\n",
       "<style scoped>\n",
       "    .dataframe tbody tr th:only-of-type {\n",
       "        vertical-align: middle;\n",
       "    }\n",
       "\n",
       "    .dataframe tbody tr th {\n",
       "        vertical-align: top;\n",
       "    }\n",
       "\n",
       "    .dataframe thead th {\n",
       "        text-align: right;\n",
       "    }\n",
       "</style>\n",
       "<table border=\"1\" class=\"dataframe\">\n",
       "  <thead>\n",
       "    <tr style=\"text-align: right;\">\n",
       "      <th></th>\n",
       "      <th>product_fit</th>\n",
       "      <th>color</th>\n",
       "      <th>mean_price</th>\n",
       "    </tr>\n",
       "  </thead>\n",
       "  <tbody>\n",
       "    <tr>\n",
       "      <th>0</th>\n",
       "      <td>regular_fit</td>\n",
       "      <td>black</td>\n",
       "      <td>26.56</td>\n",
       "    </tr>\n",
       "    <tr>\n",
       "      <th>1</th>\n",
       "      <td>regular_fit</td>\n",
       "      <td>blue</td>\n",
       "      <td>32.30</td>\n",
       "    </tr>\n",
       "    <tr>\n",
       "      <th>2</th>\n",
       "      <td>skinny_fit</td>\n",
       "      <td>black</td>\n",
       "      <td>29.99</td>\n",
       "    </tr>\n",
       "    <tr>\n",
       "      <th>3</th>\n",
       "      <td>skinny_fit</td>\n",
       "      <td>blue</td>\n",
       "      <td>20.49</td>\n",
       "    </tr>\n",
       "  </tbody>\n",
       "</table>\n",
       "</div>"
      ],
      "text/plain": [
       "   product_fit  color  mean_price\n",
       "0  regular_fit  black       26.56\n",
       "1  regular_fit   blue       32.30\n",
       "2   skinny_fit  black       29.99\n",
       "3   skinny_fit   blue       20.49"
      ]
     },
     "execution_count": 96,
     "metadata": {},
     "output_type": "execute_result"
    }
   ],
   "source": [
    "print( 'Sem polyester:' )\n",
    "case_03_2 = case_03.loc[case_03['polyester'] == 0, :]\n",
    "print( 'O preço médio total é ${}'.format( round( case_03_2['product_price'].mean(), 2 ) ) )\n",
    "case_03_2 = case_03_2[['product_fit', 'product_color', 'product_price']].groupby( ['product_fit', 'product_color'] ).mean().reset_index()\n",
    "case_03_2.columns = ['product_fit', 'color', 'mean_price']\n",
    "case_03_2"
   ]
  },
  {
   "cell_type": "code",
   "execution_count": null,
   "id": "d1cfe632",
   "metadata": {},
   "outputs": [],
   "source": [
    "df1.to_csv('database/dataset_hm.csv') "
   ]
  },
  {
   "cell_type": "code",
   "execution_count": null,
   "id": "0ee721de",
   "metadata": {},
   "outputs": [],
   "source": []
  },
  {
   "cell_type": "code",
   "execution_count": null,
   "id": "3d6912a4",
   "metadata": {},
   "outputs": [],
   "source": []
  },
  {
   "cell_type": "code",
   "execution_count": null,
   "id": "825492e2",
   "metadata": {},
   "outputs": [],
   "source": []
  },
  {
   "cell_type": "code",
   "execution_count": null,
   "id": "5beb0ede",
   "metadata": {},
   "outputs": [],
   "source": []
  },
  {
   "cell_type": "code",
   "execution_count": null,
   "id": "82ab51df",
   "metadata": {},
   "outputs": [],
   "source": []
  },
  {
   "cell_type": "code",
   "execution_count": null,
   "id": "dd963ccf",
   "metadata": {},
   "outputs": [],
   "source": []
  }
 ],
 "metadata": {
  "kernelspec": {
   "display_name": "Python 3 (ipykernel)",
   "language": "python",
   "name": "python3"
  },
  "language_info": {
   "codemirror_mode": {
    "name": "ipython",
    "version": 3
   },
   "file_extension": ".py",
   "mimetype": "text/x-python",
   "name": "python",
   "nbconvert_exporter": "python",
   "pygments_lexer": "ipython3",
   "version": "3.7.15"
  }
 },
 "nbformat": 4,
 "nbformat_minor": 5
}
