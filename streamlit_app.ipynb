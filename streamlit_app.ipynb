{
 "cells": [
  {
   "cell_type": "markdown",
   "id": "1110d73f",
   "metadata": {
    "heading_collapsed": true
   },
   "source": [
    "# 0.0 Config"
   ]
  },
  {
   "cell_type": "markdown",
   "id": "55b317d8",
   "metadata": {
    "heading_collapsed": true,
    "hidden": true
   },
   "source": [
    "### 0.1 Imports"
   ]
  },
  {
   "cell_type": "code",
   "execution_count": 62,
   "id": "ed52ee37",
   "metadata": {
    "ExecuteTime": {
     "end_time": "2023-01-12T17:40:52.138648Z",
     "start_time": "2023-01-12T17:40:52.135320Z"
    },
    "hidden": true
   },
   "outputs": [],
   "source": [
    "import numpy             as np\n",
    "import pandas            as pd\n",
    "import seaborn           as sns\n",
    "import matplotlib.pyplot as plt\n",
    "from IPython.display import HTML"
   ]
  },
  {
   "cell_type": "markdown",
   "id": "969f5b64",
   "metadata": {
    "heading_collapsed": true,
    "hidden": true
   },
   "source": [
    "### 0.2 Helper Function"
   ]
  },
  {
   "cell_type": "code",
   "execution_count": 63,
   "id": "27109e15",
   "metadata": {
    "ExecuteTime": {
     "end_time": "2023-01-12T17:40:52.456290Z",
     "start_time": "2023-01-12T17:40:52.442925Z"
    },
    "hidden": true
   },
   "outputs": [
    {
     "name": "stdout",
     "output_type": "stream",
     "text": [
      "Populating the interactive namespace from numpy and matplotlib\n"
     ]
    },
    {
     "data": {
      "text/html": [
       "<style>.container { width:97% !important; }</style>"
      ],
      "text/plain": [
       "<IPython.core.display.HTML object>"
      ]
     },
     "metadata": {},
     "output_type": "display_data"
    }
   ],
   "source": [
    "def jupyter_settings():\n",
    "    %matplotlib inline\n",
    "    %pylab inline\n",
    "    plt.style.use( 'bmh' )\n",
    "    plt.rcParams['figure.figsize'] = [18, 8]\n",
    "    plt.rcParams['font.size'] = 24\n",
    "    display( HTML( '<style>.container { width:97% !important; }</style>') )\n",
    "    pd.options.display.max_columns = 30\n",
    "    pd.options.display.max_rows = 30\n",
    "    pd.options.display.float_format = lambda x: f'{x:.2f}'\n",
    "    pd.set_option( 'display.expand_frame_repr', False )\n",
    "    sns.set_theme(rc={'figure.figsize': (15, 6)})\n",
    "jupyter_settings()"
   ]
  },
  {
   "cell_type": "markdown",
   "id": "0438c0f3",
   "metadata": {
    "heading_collapsed": true,
    "hidden": true
   },
   "source": [
    "### 0.3 Data Collection"
   ]
  },
  {
   "cell_type": "code",
   "execution_count": 64,
   "id": "9fb9bedf",
   "metadata": {
    "ExecuteTime": {
     "end_time": "2023-01-12T17:40:52.916299Z",
     "start_time": "2023-01-12T17:40:52.909417Z"
    },
    "hidden": true
   },
   "outputs": [],
   "source": [
    "df_raw = pd.read_csv( 'database/dataset_hm.csv' )"
   ]
  },
  {
   "cell_type": "markdown",
   "id": "c4230b29",
   "metadata": {
    "heading_collapsed": true
   },
   "source": [
    "# 1.0 Data Description"
   ]
  },
  {
   "cell_type": "code",
   "execution_count": 65,
   "id": "38eb9696",
   "metadata": {
    "ExecuteTime": {
     "end_time": "2023-01-12T17:40:53.282653Z",
     "start_time": "2023-01-12T17:40:53.277424Z"
    },
    "hidden": true
   },
   "outputs": [],
   "source": [
    "df1 = df_raw.copy()"
   ]
  },
  {
   "cell_type": "markdown",
   "id": "163ae320",
   "metadata": {
    "heading_collapsed": true,
    "hidden": true
   },
   "source": [
    "### 1.1 Data Dimension"
   ]
  },
  {
   "cell_type": "code",
   "execution_count": 66,
   "id": "2f58ef26",
   "metadata": {
    "ExecuteTime": {
     "end_time": "2023-01-12T17:40:53.629654Z",
     "start_time": "2023-01-12T17:40:53.626230Z"
    },
    "hidden": true
   },
   "outputs": [
    {
     "name": "stdout",
     "output_type": "stream",
     "text": [
      "Number of rows: 743\n",
      "Number of cols: 14\n"
     ]
    }
   ],
   "source": [
    "print( 'Number of rows: {}'.format( df1.shape[0] ) )\n",
    "print( 'Number of cols: {}'.format( df1.shape[1] ) )"
   ]
  },
  {
   "cell_type": "markdown",
   "id": "e14806a4",
   "metadata": {
    "ExecuteTime": {
     "end_time": "2022-12-29T14:09:03.969448Z",
     "start_time": "2022-12-29T14:09:03.966667Z"
    },
    "heading_collapsed": true,
    "hidden": true
   },
   "source": [
    "### 1.2 Data Types"
   ]
  },
  {
   "cell_type": "code",
   "execution_count": 67,
   "id": "e0ca4cfb",
   "metadata": {
    "ExecuteTime": {
     "end_time": "2023-01-12T17:40:53.988645Z",
     "start_time": "2023-01-12T17:40:53.983563Z"
    },
    "hidden": true
   },
   "outputs": [
    {
     "data": {
      "text/plain": [
       "Unnamed: 0           int64\n",
       "product_id           int64\n",
       "style_id             int64\n",
       "color_id             int64\n",
       "product_name        object\n",
       "product_color       object\n",
       "product_fit         object\n",
       "product_price      float64\n",
       "size_number        float64\n",
       "size_model          object\n",
       "cotton             float64\n",
       "polyester          float64\n",
       "spandex            float64\n",
       "scrapy_datetime     object\n",
       "dtype: object"
      ]
     },
     "execution_count": 67,
     "metadata": {},
     "output_type": "execute_result"
    }
   ],
   "source": [
    "df1.dtypes"
   ]
  },
  {
   "cell_type": "code",
   "execution_count": 68,
   "id": "591878bc",
   "metadata": {
    "ExecuteTime": {
     "end_time": "2023-01-12T17:40:54.166815Z",
     "start_time": "2023-01-12T17:40:54.160709Z"
    },
    "hidden": true
   },
   "outputs": [],
   "source": [
    "# convert object to datetime\n",
    "df1['scrapy_datetime'] = pd.to_datetime( df1['scrapy_datetime'] )"
   ]
  },
  {
   "cell_type": "markdown",
   "id": "fcfbfa34",
   "metadata": {
    "ExecuteTime": {
     "end_time": "2022-12-29T14:10:24.906914Z",
     "start_time": "2022-12-29T14:10:24.902584Z"
    },
    "heading_collapsed": true,
    "hidden": true
   },
   "source": [
    "### 1.3 Missing Data"
   ]
  },
  {
   "cell_type": "code",
   "execution_count": 69,
   "id": "a5abdc58",
   "metadata": {
    "ExecuteTime": {
     "end_time": "2023-01-12T17:40:54.552536Z",
     "start_time": "2023-01-12T17:40:54.544943Z"
    },
    "cell_style": "split",
    "hidden": true
   },
   "outputs": [
    {
     "data": {
      "text/plain": [
       "Unnamed: 0           0\n",
       "product_id           0\n",
       "style_id             0\n",
       "color_id             0\n",
       "product_name         0\n",
       "product_color        0\n",
       "product_fit          0\n",
       "product_price        0\n",
       "size_number        328\n",
       "size_model         384\n",
       "cotton               0\n",
       "polyester            0\n",
       "spandex              0\n",
       "scrapy_datetime      0\n",
       "dtype: int64"
      ]
     },
     "execution_count": 69,
     "metadata": {},
     "output_type": "execute_result"
    }
   ],
   "source": [
    "# amount of missing data\n",
    "df1.isna().sum()"
   ]
  },
  {
   "cell_type": "code",
   "execution_count": 70,
   "id": "85ba158a",
   "metadata": {
    "ExecuteTime": {
     "end_time": "2023-01-12T17:40:54.883359Z",
     "start_time": "2023-01-12T17:40:54.873689Z"
    },
    "cell_style": "split",
    "hidden": true,
    "scrolled": true
   },
   "outputs": [
    {
     "data": {
      "text/plain": [
       "Unnamed: 0         0.00\n",
       "product_id         0.00\n",
       "style_id           0.00\n",
       "color_id           0.00\n",
       "product_name       0.00\n",
       "product_color      0.00\n",
       "product_fit        0.00\n",
       "product_price      0.00\n",
       "size_number       44.15\n",
       "size_model        51.68\n",
       "cotton             0.00\n",
       "polyester          0.00\n",
       "spandex            0.00\n",
       "scrapy_datetime    0.00\n",
       "dtype: float64"
      ]
     },
     "execution_count": 70,
     "metadata": {},
     "output_type": "execute_result"
    }
   ],
   "source": [
    "# percentage of missing data\n",
    "df1.isna().sum() / df1.shape[0] * 100"
   ]
  },
  {
   "cell_type": "code",
   "execution_count": 71,
   "id": "f1f4691c",
   "metadata": {
    "ExecuteTime": {
     "end_time": "2023-01-12T17:40:55.084171Z",
     "start_time": "2023-01-12T17:40:55.080498Z"
    },
    "hidden": true
   },
   "outputs": [],
   "source": [
    "# remove size columns\n",
    "df1 = df1.drop( columns=['size_number', 'size_model'] )"
   ]
  },
  {
   "cell_type": "markdown",
   "id": "e672b96c",
   "metadata": {
    "heading_collapsed": true,
    "hidden": true
   },
   "source": [
    "### 1.4 Numeric Data Description"
   ]
  },
  {
   "cell_type": "code",
   "execution_count": 72,
   "id": "3b6a3f38",
   "metadata": {
    "ExecuteTime": {
     "end_time": "2023-01-12T17:40:55.812339Z",
     "start_time": "2023-01-12T17:40:55.776826Z"
    },
    "hidden": true
   },
   "outputs": [
    {
     "data": {
      "text/html": [
       "<div>\n",
       "<style scoped>\n",
       "    .dataframe tbody tr th:only-of-type {\n",
       "        vertical-align: middle;\n",
       "    }\n",
       "\n",
       "    .dataframe tbody tr th {\n",
       "        vertical-align: top;\n",
       "    }\n",
       "\n",
       "    .dataframe thead th {\n",
       "        text-align: right;\n",
       "    }\n",
       "</style>\n",
       "<table border=\"1\" class=\"dataframe\">\n",
       "  <thead>\n",
       "    <tr style=\"text-align: right;\">\n",
       "      <th></th>\n",
       "      <th>attributes</th>\n",
       "      <th>min</th>\n",
       "      <th>max</th>\n",
       "      <th>range</th>\n",
       "      <th>mean</th>\n",
       "      <th>median</th>\n",
       "      <th>std</th>\n",
       "      <th>skew</th>\n",
       "      <th>kurtosis</th>\n",
       "    </tr>\n",
       "  </thead>\n",
       "  <tbody>\n",
       "    <tr>\n",
       "      <th>0</th>\n",
       "      <td>Unnamed: 0</td>\n",
       "      <td>0.00</td>\n",
       "      <td>742.00</td>\n",
       "      <td>742.00</td>\n",
       "      <td>371.00</td>\n",
       "      <td>371.00</td>\n",
       "      <td>214.49</td>\n",
       "      <td>0.00</td>\n",
       "      <td>-1.20</td>\n",
       "    </tr>\n",
       "    <tr>\n",
       "      <th>1</th>\n",
       "      <td>product_id</td>\n",
       "      <td>690449001.00</td>\n",
       "      <td>1142955003.00</td>\n",
       "      <td>452506002.00</td>\n",
       "      <td>939094232.10</td>\n",
       "      <td>985159003.00</td>\n",
       "      <td>121740929.87</td>\n",
       "      <td>-0.77</td>\n",
       "      <td>-0.33</td>\n",
       "    </tr>\n",
       "    <tr>\n",
       "      <th>2</th>\n",
       "      <td>style_id</td>\n",
       "      <td>690449.00</td>\n",
       "      <td>1142955.00</td>\n",
       "      <td>452506.00</td>\n",
       "      <td>939094.22</td>\n",
       "      <td>985159.00</td>\n",
       "      <td>121740.94</td>\n",
       "      <td>-0.77</td>\n",
       "      <td>-0.33</td>\n",
       "    </tr>\n",
       "    <tr>\n",
       "      <th>3</th>\n",
       "      <td>color_id</td>\n",
       "      <td>1.00</td>\n",
       "      <td>67.00</td>\n",
       "      <td>66.00</td>\n",
       "      <td>12.72</td>\n",
       "      <td>6.00</td>\n",
       "      <td>15.39</td>\n",
       "      <td>1.66</td>\n",
       "      <td>1.96</td>\n",
       "    </tr>\n",
       "    <tr>\n",
       "      <th>4</th>\n",
       "      <td>product_price</td>\n",
       "      <td>5.99</td>\n",
       "      <td>49.99</td>\n",
       "      <td>44.00</td>\n",
       "      <td>31.09</td>\n",
       "      <td>29.99</td>\n",
       "      <td>10.29</td>\n",
       "      <td>-0.29</td>\n",
       "      <td>-0.78</td>\n",
       "    </tr>\n",
       "    <tr>\n",
       "      <th>5</th>\n",
       "      <td>cotton</td>\n",
       "      <td>0.99</td>\n",
       "      <td>0.99</td>\n",
       "      <td>0.00</td>\n",
       "      <td>0.99</td>\n",
       "      <td>0.99</td>\n",
       "      <td>0.00</td>\n",
       "      <td>0.00</td>\n",
       "      <td>0.00</td>\n",
       "    </tr>\n",
       "    <tr>\n",
       "      <th>6</th>\n",
       "      <td>polyester</td>\n",
       "      <td>0.00</td>\n",
       "      <td>1.00</td>\n",
       "      <td>1.00</td>\n",
       "      <td>0.38</td>\n",
       "      <td>0.00</td>\n",
       "      <td>0.39</td>\n",
       "      <td>0.19</td>\n",
       "      <td>-1.71</td>\n",
       "    </tr>\n",
       "    <tr>\n",
       "      <th>7</th>\n",
       "      <td>spandex</td>\n",
       "      <td>0.01</td>\n",
       "      <td>0.01</td>\n",
       "      <td>0.00</td>\n",
       "      <td>0.01</td>\n",
       "      <td>0.01</td>\n",
       "      <td>0.00</td>\n",
       "      <td>0.00</td>\n",
       "      <td>0.00</td>\n",
       "    </tr>\n",
       "  </tbody>\n",
       "</table>\n",
       "</div>"
      ],
      "text/plain": [
       "      attributes          min           max        range         mean       median          std  skew  kurtosis\n",
       "0     Unnamed: 0         0.00        742.00       742.00       371.00       371.00       214.49  0.00     -1.20\n",
       "1     product_id 690449001.00 1142955003.00 452506002.00 939094232.10 985159003.00 121740929.87 -0.77     -0.33\n",
       "2       style_id    690449.00    1142955.00    452506.00    939094.22    985159.00    121740.94 -0.77     -0.33\n",
       "3       color_id         1.00         67.00        66.00        12.72         6.00        15.39  1.66      1.96\n",
       "4  product_price         5.99         49.99        44.00        31.09        29.99        10.29 -0.29     -0.78\n",
       "5         cotton         0.99          0.99         0.00         0.99         0.99         0.00  0.00      0.00\n",
       "6      polyester         0.00          1.00         1.00         0.38         0.00         0.39  0.19     -1.71\n",
       "7        spandex         0.01          0.01         0.00         0.01         0.01         0.00  0.00      0.00"
      ]
     },
     "execution_count": 72,
     "metadata": {},
     "output_type": "execute_result"
    }
   ],
   "source": [
    "num_attributes = df1.select_dtypes( include=['int64', 'float64'] )\n",
    "\n",
    "# central tendency\n",
    "t1 = pd.DataFrame( num_attributes.apply( np.mean ) ).T\n",
    "t2 = pd.DataFrame( num_attributes.apply( np.median ) ).T\n",
    "\n",
    "# dispersion\n",
    "d1 = pd.DataFrame( num_attributes.apply( np.std ) ).T\n",
    "d2 = pd.DataFrame( num_attributes.apply( np.min ) ).T\n",
    "d3 = pd.DataFrame( num_attributes.apply( np.max ) ).T\n",
    "d4 = pd.DataFrame( num_attributes.apply( lambda x: x.max() - x.min() ) ).T\n",
    "d5 = pd.DataFrame( num_attributes.apply( lambda x: x.skew() ) ).T\n",
    "d6 = pd.DataFrame( num_attributes.apply( lambda x: x.kurtosis() ) ).T\n",
    "\n",
    "# concat\n",
    "ndd = pd.concat( [d2, d3, d4, t1, t2, d1, d5, d6] ).T.reset_index()\n",
    "ndd.columns = ['attributes', 'min', 'max', 'range', 'mean', 'median', 'std', 'skew', 'kurtosis']\n",
    "ndd"
   ]
  },
  {
   "cell_type": "markdown",
   "id": "253699c1",
   "metadata": {
    "heading_collapsed": true,
    "hidden": true
   },
   "source": [
    "### 1.5 Categorical Data Description"
   ]
  },
  {
   "cell_type": "code",
   "execution_count": 73,
   "id": "f87f5095",
   "metadata": {
    "ExecuteTime": {
     "end_time": "2023-01-12T17:40:57.510629Z",
     "start_time": "2023-01-12T17:40:57.503126Z"
    },
    "hidden": true
   },
   "outputs": [
    {
     "data": {
      "text/plain": [
       "product_name     17\n",
       "product_color    33\n",
       "product_fit       5\n",
       "dtype: int64"
      ]
     },
     "execution_count": 73,
     "metadata": {},
     "output_type": "execute_result"
    }
   ],
   "source": [
    "cat_attributes = df1.select_dtypes( exclude=['int64', 'float64', 'datetime64[ns]'] )\n",
    "cat_attributes.apply( lambda x: x.unique().shape[0] )"
   ]
  },
  {
   "cell_type": "markdown",
   "id": "e7c18152",
   "metadata": {
    "heading_collapsed": true
   },
   "source": [
    "# 2.0 Feature Engineering"
   ]
  },
  {
   "cell_type": "code",
   "execution_count": 74,
   "id": "389e2713",
   "metadata": {
    "ExecuteTime": {
     "end_time": "2023-01-12T17:40:58.611531Z",
     "start_time": "2023-01-12T17:40:58.605811Z"
    },
    "hidden": true
   },
   "outputs": [],
   "source": [
    "df2 = df1.copy()"
   ]
  },
  {
   "cell_type": "code",
   "execution_count": 75,
   "id": "68ddda40",
   "metadata": {
    "ExecuteTime": {
     "end_time": "2023-01-12T17:40:58.818539Z",
     "start_time": "2023-01-12T17:40:58.807921Z"
    },
    "hidden": true
   },
   "outputs": [],
   "source": [
    "# general color\n",
    "df2['general_color'] = df2['product_color'].apply( lambda x: re.search( '^[a-z]+$|_[a-z]+$|[a-z]+\\/|black', x ).group(0)\n",
    "                                                  .replace( '_', '' ).replace( '/', '' ) if pd.notnull( x ) else x)\n",
    "\n",
    "# product color\n",
    "df2['product_color'] = df2['product_color'].apply( lambda x: x.replace( 'denim_', '' ) )\n",
    "\n",
    "# transform composition in binary\n",
    "df2['cotton'] = df2['cotton'].apply(lambda x: 1 if x > 0 else 0)\n",
    "df2['polyester'] = df2['polyester'].apply(lambda x: 1 if x > 0 else 0)\n",
    "df2['spandex'] = df2['spandex'].apply(lambda x: 1 if x > 0 else 0)"
   ]
  },
  {
   "cell_type": "markdown",
   "id": "7d97be4d",
   "metadata": {
    "heading_collapsed": true
   },
   "source": [
    "# 3.0 Attribute Filtering"
   ]
  },
  {
   "cell_type": "code",
   "execution_count": 76,
   "id": "d1b193b3",
   "metadata": {
    "ExecuteTime": {
     "end_time": "2023-01-12T17:40:59.596615Z",
     "start_time": "2023-01-12T17:40:59.589146Z"
    },
    "hidden": true
   },
   "outputs": [],
   "source": [
    "df3 = df2.copy()"
   ]
  },
  {
   "cell_type": "markdown",
   "id": "a01728e2",
   "metadata": {
    "heading_collapsed": true
   },
   "source": [
    "# 4.0 EDA (Exploration Data Analysis)"
   ]
  },
  {
   "cell_type": "code",
   "execution_count": 77,
   "id": "c6ea2762",
   "metadata": {
    "ExecuteTime": {
     "end_time": "2023-01-12T17:41:00.322916Z",
     "start_time": "2023-01-12T17:41:00.317341Z"
    },
    "hidden": true
   },
   "outputs": [],
   "source": [
    "df4 =  df3.copy()"
   ]
  },
  {
   "cell_type": "markdown",
   "id": "4a165371",
   "metadata": {
    "ExecuteTime": {
     "end_time": "2022-12-29T16:46:15.476014Z",
     "start_time": "2022-12-29T16:46:15.470335Z"
    },
    "heading_collapsed": true,
    "hidden": true
   },
   "source": [
    "## 4.1 Hypotheses"
   ]
  },
  {
   "cell_type": "markdown",
   "id": "8797a7da",
   "metadata": {
    "hidden": true
   },
   "source": [
    "- 01- 70% das calças são das cores blue ou black (ou suas derivadas)\n",
    "- 02- Calças de cores blue ou black possuem os maiores preços médios, sendo 10% mais caros que a terceira cor\n",
    "- 03- Um único fit representa mais de 50% da quantidade de calças\n",
    "- 04- 70% das calças possuem polyester em sua composição\n",
    "- 05- O preço médio das calças que possuem polyester está 30% acima do preço médio das que não possuem"
   ]
  },
  {
   "cell_type": "code",
   "execution_count": 78,
   "id": "cca1a095",
   "metadata": {
    "ExecuteTime": {
     "end_time": "2023-01-12T17:41:01.189008Z",
     "start_time": "2023-01-12T17:41:01.055346Z"
    },
    "cell_style": "center",
    "hidden": true,
    "hide_input": false
   },
   "outputs": [
    {
     "name": "stdout",
     "output_type": "stream",
     "text": [
      "Representam 80.08% das calças.\n"
     ]
    },
    {
     "data": {
      "image/png": "[encoded data removed]",
      "text/plain": [
       "<Figure size 1500x600 with 1 Axes>"
      ]
     },
     "metadata": {},
     "output_type": "display_data"
    }
   ],
   "source": [
    "# 01- 70% das calças são das cores blue ou black (ou suas derivadas)\n",
    "h1 = df4[['general_color', 'product_id']].groupby( 'general_color' ).count().sort_values( 'product_id', ascending=False ).reset_index()\n",
    "\n",
    "result = round( ( h1.iloc[0, 1] + h1.iloc[1, 1] ) / h1['product_id'].sum() * 100, 2)\n",
    "print( 'Representam {}% das calças.'.format( result ) )\n",
    "\n",
    "h1['product_id'] = h1['product_id'].apply( lambda x: x / h1['product_id'].sum() * 100 )\n",
    "\n",
    "plt.bar( h1['general_color'], h1['product_id'] )\n",
    "plt.title( 'Amount per color' )\n",
    "plt.show()"
   ]
  },
  {
   "cell_type": "code",
   "execution_count": 79,
   "id": "5d1bcc1e",
   "metadata": {
    "ExecuteTime": {
     "end_time": "2023-01-12T17:41:01.880424Z",
     "start_time": "2023-01-12T17:41:01.748768Z"
    },
    "hidden": true
   },
   "outputs": [
    {
     "name": "stdout",
     "output_type": "stream",
     "text": [
      "Estão, na verdade, 21.65% abaixo do preço médio mais alto e 14.67% acima do mais baixo.\n"
     ]
    },
    {
     "data": {
      "image/png": "[encoded data removed]",
      "text/plain": [
       "<Figure size 1500x600 with 1 Axes>"
      ]
     },
     "metadata": {},
     "output_type": "display_data"
    }
   ],
   "source": [
    "# 02- Calças de cores blue ou black possuem os maiores preços médios, sendo 10% mais caros que a terceira cor\n",
    "h2 = df4[['general_color', 'product_price']].groupby( 'general_color' ).mean().sort_values( 'product_price', ascending=False ).reset_index()\n",
    "\n",
    "result1 = round( ( 1 - h2.loc[(h2['general_color'] == 'black') | (h2['general_color'] == 'blue'), 'product_price'].sum() / 2 / h2.iloc[0,1] ) * 100, 2 )\n",
    "result2 = round( ( h2.loc[(h2['general_color'] == 'black') | (h2['general_color'] == 'blue'), 'product_price'].sum() / 2 / h2.iloc[6,1] - 1) * 100, 2 )\n",
    "print( 'Estão, na verdade, {}% abaixo do preço médio mais alto e {}% acima do mais baixo.'.format( result1, result2 ) )\n",
    "\n",
    "plt.bar( h2['general_color'], h2['product_price'] )\n",
    "plt.title( 'Mean price per color' )\n",
    "plt.show()"
   ]
  },
  {
   "cell_type": "code",
   "execution_count": 80,
   "id": "91f187f5",
   "metadata": {
    "ExecuteTime": {
     "end_time": "2023-01-12T17:41:02.057490Z",
     "start_time": "2023-01-12T17:41:01.926647Z"
    },
    "hidden": true
   },
   "outputs": [
    {
     "name": "stdout",
     "output_type": "stream",
     "text": [
      "O regular_fit, que possui a maior quantidade de calça, possui 29.07% do total.\n"
     ]
    },
    {
     "data": {
      "image/png": "[encoded data removed]",
      "text/plain": [
       "<Figure size 1500x600 with 1 Axes>"
      ]
     },
     "metadata": {},
     "output_type": "display_data"
    }
   ],
   "source": [
    "# 03- Um único fit representa mais de 50% da quantidade de calças\n",
    "h3 = df4[['product_fit', 'product_id']].groupby( 'product_fit' ).count().sort_values( 'product_id', ascending=False ).reset_index()\n",
    "\n",
    "result = round( h3.iloc[0,1] / h3['product_id'].sum() * 100, 2 )\n",
    "print( 'O {}, que possui a maior quantidade de calça, possui {}% do total.'.format( h3.iloc[0,0], result ) )\n",
    "\n",
    "h3['product_id'] = h3['product_id'].apply( lambda x: x / h3['product_id'].sum() * 100 )\n",
    "\n",
    "plt.bar( h3['product_fit'], h3['product_id'] )\n",
    "plt.title( 'Amount per fit' )\n",
    "plt.show()"
   ]
  },
  {
   "cell_type": "code",
   "execution_count": 81,
   "id": "1b910d2e",
   "metadata": {
    "ExecuteTime": {
     "end_time": "2023-01-12T17:41:02.196726Z",
     "start_time": "2023-01-12T17:41:02.120810Z"
    },
    "cell_style": "center",
    "hidden": true
   },
   "outputs": [
    {
     "name": "stdout",
     "output_type": "stream",
     "text": [
      "Apenas 49.93% das calças possuem polyester.\n"
     ]
    },
    {
     "data": {
      "image/png": "[encoded data removed]",
      "text/plain": [
       "<Figure size 1500x600 with 1 Axes>"
      ]
     },
     "metadata": {},
     "output_type": "display_data"
    }
   ],
   "source": [
    "# 04- 70% das calças possuem polyester em sua composição\n",
    "h4 = df4[['polyester', 'product_id']].groupby( 'polyester' ).count().reset_index()\n",
    "\n",
    "result = round( h4.iloc[1,1] / h4['product_id'].sum() * 100, 2 )\n",
    "print( 'Apenas {}% das calças possuem polyester.'.format( result ) )\n",
    "\n",
    "plt.pie( [h4.iloc[1,1], h4.iloc[0,1]],labels = ['yes', 'no'], autopct='%.2f%%' )\n",
    "plt.title( 'With/without polyester' )\n",
    "plt.show()"
   ]
  },
  {
   "cell_type": "code",
   "execution_count": 82,
   "id": "1f92470f",
   "metadata": {
    "ExecuteTime": {
     "end_time": "2023-01-12T17:41:02.492579Z",
     "start_time": "2023-01-12T17:41:02.337286Z"
    },
    "hidden": true
   },
   "outputs": [
    {
     "name": "stdout",
     "output_type": "stream",
     "text": [
      "Na verdade, está -0.05% abaixo.\n"
     ]
    },
    {
     "data": {
      "image/png": "[encoded data removed]",
      "text/plain": [
       "<Figure size 1500x600 with 1 Axes>"
      ]
     },
     "metadata": {},
     "output_type": "display_data"
    }
   ],
   "source": [
    "# 05- O preço médio das calças que possuem polyester está 30% acima do preço médio das que não possuem\n",
    "h5 = df4[['polyester', 'product_price']].groupby( 'polyester' ).mean().reset_index()\n",
    "\n",
    "result = round( ( 1 - h5.iloc[1,1] /h5.iloc[0,1] ) * 100 , 2 )\n",
    "print( 'Na verdade, está {}% abaixo.'.format( result ) )\n",
    "\n",
    "plt.bar( h5['polyester'], h5['product_price'] )\n",
    "plt.title( 'Mean price per with/without polyester' )\n",
    "plt.show()"
   ]
  },
  {
   "cell_type": "markdown",
   "id": "afa060a8",
   "metadata": {
    "heading_collapsed": true,
    "hidden": true
   },
   "source": [
    "## 4.2 Answering Business Questions"
   ]
  },
  {
   "cell_type": "markdown",
   "id": "bb04ee8a",
   "metadata": {
    "hidden": true
   },
   "source": [
    "- 1. Qual o melhor preço de venda para as calças?\n",
    "- 2. Quantos tipos de calças e suas cores para o produto inicial?\n",
    "- 3. Quais as matérias-prima necessárias para confeccionar as calças?"
   ]
  },
  {
   "cell_type": "code",
   "execution_count": 83,
   "id": "2b8f7051",
   "metadata": {
    "ExecuteTime": {
     "end_time": "2023-01-12T17:41:03.320982Z",
     "start_time": "2023-01-12T17:41:03.316460Z"
    },
    "hidden": true
   },
   "outputs": [],
   "source": [
    "# 01 amount for blue e black varitations\n",
    "# 02 mean price per fit"
   ]
  },
  {
   "cell_type": "code",
   "execution_count": 84,
   "id": "2057031a",
   "metadata": {
    "ExecuteTime": {
     "end_time": "2023-01-12T17:41:03.731810Z",
     "start_time": "2023-01-12T17:41:03.713496Z"
    },
    "hidden": true
   },
   "outputs": [
    {
     "data": {
      "text/html": [
       "<div>\n",
       "<style scoped>\n",
       "    .dataframe tbody tr th:only-of-type {\n",
       "        vertical-align: middle;\n",
       "    }\n",
       "\n",
       "    .dataframe tbody tr th {\n",
       "        vertical-align: top;\n",
       "    }\n",
       "\n",
       "    .dataframe thead th {\n",
       "        text-align: right;\n",
       "    }\n",
       "</style>\n",
       "<table border=\"1\" class=\"dataframe\">\n",
       "  <thead>\n",
       "    <tr style=\"text-align: right;\">\n",
       "      <th></th>\n",
       "      <th>Unnamed: 0</th>\n",
       "      <th>product_id</th>\n",
       "      <th>style_id</th>\n",
       "      <th>color_id</th>\n",
       "      <th>product_name</th>\n",
       "      <th>product_color</th>\n",
       "      <th>product_fit</th>\n",
       "      <th>product_price</th>\n",
       "      <th>cotton</th>\n",
       "      <th>polyester</th>\n",
       "      <th>spandex</th>\n",
       "      <th>scrapy_datetime</th>\n",
       "      <th>general_color</th>\n",
       "    </tr>\n",
       "  </thead>\n",
       "  <tbody>\n",
       "    <tr>\n",
       "      <th>0</th>\n",
       "      <td>0</td>\n",
       "      <td>1024256001</td>\n",
       "      <td>1024256</td>\n",
       "      <td>1</td>\n",
       "      <td>slim_jeans</td>\n",
       "      <td>black</td>\n",
       "      <td>slim_fit</td>\n",
       "      <td>24.99</td>\n",
       "      <td>1</td>\n",
       "      <td>1</td>\n",
       "      <td>1</td>\n",
       "      <td>2023-01-09 12:48:50</td>\n",
       "      <td>black</td>\n",
       "    </tr>\n",
       "    <tr>\n",
       "      <th>1</th>\n",
       "      <td>1</td>\n",
       "      <td>1024256002</td>\n",
       "      <td>1024256</td>\n",
       "      <td>2</td>\n",
       "      <td>slim_jeans</td>\n",
       "      <td>light_blue</td>\n",
       "      <td>slim_fit</td>\n",
       "      <td>24.99</td>\n",
       "      <td>1</td>\n",
       "      <td>1</td>\n",
       "      <td>1</td>\n",
       "      <td>2023-01-09 12:48:50</td>\n",
       "      <td>blue</td>\n",
       "    </tr>\n",
       "    <tr>\n",
       "      <th>2</th>\n",
       "      <td>2</td>\n",
       "      <td>1024256003</td>\n",
       "      <td>1024256</td>\n",
       "      <td>3</td>\n",
       "      <td>slim_jeans</td>\n",
       "      <td>light_blue</td>\n",
       "      <td>slim_fit</td>\n",
       "      <td>24.99</td>\n",
       "      <td>1</td>\n",
       "      <td>1</td>\n",
       "      <td>1</td>\n",
       "      <td>2023-01-09 12:48:50</td>\n",
       "      <td>blue</td>\n",
       "    </tr>\n",
       "    <tr>\n",
       "      <th>3</th>\n",
       "      <td>3</td>\n",
       "      <td>1024256004</td>\n",
       "      <td>1024256</td>\n",
       "      <td>4</td>\n",
       "      <td>slim_jeans</td>\n",
       "      <td>blue</td>\n",
       "      <td>slim_fit</td>\n",
       "      <td>24.99</td>\n",
       "      <td>1</td>\n",
       "      <td>1</td>\n",
       "      <td>1</td>\n",
       "      <td>2023-01-09 12:48:50</td>\n",
       "      <td>blue</td>\n",
       "    </tr>\n",
       "    <tr>\n",
       "      <th>4</th>\n",
       "      <td>4</td>\n",
       "      <td>1024256005</td>\n",
       "      <td>1024256</td>\n",
       "      <td>5</td>\n",
       "      <td>slim_jeans</td>\n",
       "      <td>dark_blue</td>\n",
       "      <td>slim_fit</td>\n",
       "      <td>24.99</td>\n",
       "      <td>1</td>\n",
       "      <td>1</td>\n",
       "      <td>1</td>\n",
       "      <td>2023-01-09 12:48:50</td>\n",
       "      <td>blue</td>\n",
       "    </tr>\n",
       "    <tr>\n",
       "      <th>...</th>\n",
       "      <td>...</td>\n",
       "      <td>...</td>\n",
       "      <td>...</td>\n",
       "      <td>...</td>\n",
       "      <td>...</td>\n",
       "      <td>...</td>\n",
       "      <td>...</td>\n",
       "      <td>...</td>\n",
       "      <td>...</td>\n",
       "      <td>...</td>\n",
       "      <td>...</td>\n",
       "      <td>...</td>\n",
       "      <td>...</td>\n",
       "    </tr>\n",
       "    <tr>\n",
       "      <th>738</th>\n",
       "      <td>738</td>\n",
       "      <td>985197007</td>\n",
       "      <td>985197</td>\n",
       "      <td>7</td>\n",
       "      <td>slim_jeans</td>\n",
       "      <td>dark_gray</td>\n",
       "      <td>slim_fit</td>\n",
       "      <td>19.99</td>\n",
       "      <td>1</td>\n",
       "      <td>0</td>\n",
       "      <td>1</td>\n",
       "      <td>2023-01-12 10:53:24</td>\n",
       "      <td>gray</td>\n",
       "    </tr>\n",
       "    <tr>\n",
       "      <th>739</th>\n",
       "      <td>739</td>\n",
       "      <td>1063141001</td>\n",
       "      <td>1063141</td>\n",
       "      <td>1</td>\n",
       "      <td>loose_jeans</td>\n",
       "      <td>blue</td>\n",
       "      <td>loose_fit</td>\n",
       "      <td>44.99</td>\n",
       "      <td>1</td>\n",
       "      <td>0</td>\n",
       "      <td>1</td>\n",
       "      <td>2023-01-12 10:53:24</td>\n",
       "      <td>blue</td>\n",
       "    </tr>\n",
       "    <tr>\n",
       "      <th>740</th>\n",
       "      <td>740</td>\n",
       "      <td>1051644001</td>\n",
       "      <td>1051644</td>\n",
       "      <td>1</td>\n",
       "      <td>loose_jeans</td>\n",
       "      <td>blue</td>\n",
       "      <td>loose_fit</td>\n",
       "      <td>44.99</td>\n",
       "      <td>1</td>\n",
       "      <td>0</td>\n",
       "      <td>1</td>\n",
       "      <td>2023-01-12 10:53:24</td>\n",
       "      <td>blue</td>\n",
       "    </tr>\n",
       "    <tr>\n",
       "      <th>741</th>\n",
       "      <td>741</td>\n",
       "      <td>1025726002</td>\n",
       "      <td>1025726</td>\n",
       "      <td>2</td>\n",
       "      <td>relaxed_jeans</td>\n",
       "      <td>light_blue</td>\n",
       "      <td>relaxed_fit</td>\n",
       "      <td>11.99</td>\n",
       "      <td>1</td>\n",
       "      <td>0</td>\n",
       "      <td>1</td>\n",
       "      <td>2023-01-12 10:53:24</td>\n",
       "      <td>blue</td>\n",
       "    </tr>\n",
       "    <tr>\n",
       "      <th>742</th>\n",
       "      <td>742</td>\n",
       "      <td>1025726003</td>\n",
       "      <td>1025726</td>\n",
       "      <td>3</td>\n",
       "      <td>relaxed_jeans</td>\n",
       "      <td>graphite_gray</td>\n",
       "      <td>relaxed_fit</td>\n",
       "      <td>39.99</td>\n",
       "      <td>1</td>\n",
       "      <td>0</td>\n",
       "      <td>1</td>\n",
       "      <td>2023-01-12 10:53:24</td>\n",
       "      <td>gray</td>\n",
       "    </tr>\n",
       "  </tbody>\n",
       "</table>\n",
       "<p>743 rows × 13 columns</p>\n",
       "</div>"
      ],
      "text/plain": [
       "     Unnamed: 0  product_id  style_id  color_id   product_name  product_color  product_fit  product_price  cotton  polyester  spandex     scrapy_datetime general_color\n",
       "0             0  1024256001   1024256         1     slim_jeans          black     slim_fit          24.99       1          1        1 2023-01-09 12:48:50         black\n",
       "1             1  1024256002   1024256         2     slim_jeans     light_blue     slim_fit          24.99       1          1        1 2023-01-09 12:48:50          blue\n",
       "2             2  1024256003   1024256         3     slim_jeans     light_blue     slim_fit          24.99       1          1        1 2023-01-09 12:48:50          blue\n",
       "3             3  1024256004   1024256         4     slim_jeans           blue     slim_fit          24.99       1          1        1 2023-01-09 12:48:50          blue\n",
       "4             4  1024256005   1024256         5     slim_jeans      dark_blue     slim_fit          24.99       1          1        1 2023-01-09 12:48:50          blue\n",
       "..          ...         ...       ...       ...            ...            ...          ...            ...     ...        ...      ...                 ...           ...\n",
       "738         738   985197007    985197         7     slim_jeans      dark_gray     slim_fit          19.99       1          0        1 2023-01-12 10:53:24          gray\n",
       "739         739  1063141001   1063141         1    loose_jeans           blue    loose_fit          44.99       1          0        1 2023-01-12 10:53:24          blue\n",
       "740         740  1051644001   1051644         1    loose_jeans           blue    loose_fit          44.99       1          0        1 2023-01-12 10:53:24          blue\n",
       "741         741  1025726002   1025726         2  relaxed_jeans     light_blue  relaxed_fit          11.99       1          0        1 2023-01-12 10:53:24          blue\n",
       "742         742  1025726003   1025726         3  relaxed_jeans  graphite_gray  relaxed_fit          39.99       1          0        1 2023-01-12 10:53:24          gray\n",
       "\n",
       "[743 rows x 13 columns]"
      ]
     },
     "execution_count": 84,
     "metadata": {},
     "output_type": "execute_result"
    }
   ],
   "source": [
    "df4.loc[df4['scrapy_datetime'] > '2023-01-09 10:15:23']"
   ]
  },
  {
   "cell_type": "code",
   "execution_count": 85,
   "id": "596abfae",
   "metadata": {
    "ExecuteTime": {
     "end_time": "2023-01-12T17:41:04.158015Z",
     "start_time": "2023-01-12T17:41:04.154813Z"
    },
    "hidden": true
   },
   "outputs": [],
   "source": [
    "# 01 amount per blue and black variates\n",
    "# 02 mean price per fit"
   ]
  },
  {
   "cell_type": "code",
   "execution_count": 86,
   "id": "851d29ff",
   "metadata": {
    "ExecuteTime": {
     "end_time": "2023-01-12T17:41:04.357966Z",
     "start_time": "2023-01-12T17:41:04.339218Z"
    },
    "cell_style": "split",
    "hidden": true,
    "hide_input": true
   },
   "outputs": [
    {
     "data": {
      "text/html": [
       "<div>\n",
       "<style scoped>\n",
       "    .dataframe tbody tr th:only-of-type {\n",
       "        vertical-align: middle;\n",
       "    }\n",
       "\n",
       "    .dataframe tbody tr th {\n",
       "        vertical-align: top;\n",
       "    }\n",
       "\n",
       "    .dataframe thead th {\n",
       "        text-align: right;\n",
       "    }\n",
       "</style>\n",
       "<table border=\"1\" class=\"dataframe\">\n",
       "  <thead>\n",
       "    <tr style=\"text-align: right;\">\n",
       "      <th></th>\n",
       "      <th>color</th>\n",
       "      <th>amount</th>\n",
       "      <th>percentage</th>\n",
       "    </tr>\n",
       "  </thead>\n",
       "  <tbody>\n",
       "    <tr>\n",
       "      <th>0</th>\n",
       "      <td>blue</td>\n",
       "      <td>147</td>\n",
       "      <td>24.71</td>\n",
       "    </tr>\n",
       "    <tr>\n",
       "      <th>1</th>\n",
       "      <td>light_blue</td>\n",
       "      <td>143</td>\n",
       "      <td>24.03</td>\n",
       "    </tr>\n",
       "    <tr>\n",
       "      <th>2</th>\n",
       "      <td>black</td>\n",
       "      <td>115</td>\n",
       "      <td>19.33</td>\n",
       "    </tr>\n",
       "    <tr>\n",
       "      <th>3</th>\n",
       "      <td>dark_blue</td>\n",
       "      <td>103</td>\n",
       "      <td>17.31</td>\n",
       "    </tr>\n",
       "    <tr>\n",
       "      <th>4</th>\n",
       "      <td>pale_blue</td>\n",
       "      <td>20</td>\n",
       "      <td>3.36</td>\n",
       "    </tr>\n",
       "  </tbody>\n",
       "</table>\n",
       "</div>"
      ],
      "text/plain": [
       "        color  amount  percentage\n",
       "0        blue     147       24.71\n",
       "1  light_blue     143       24.03\n",
       "2       black     115       19.33\n",
       "3   dark_blue     103       17.31\n",
       "4   pale_blue      20        3.36"
      ]
     },
     "execution_count": 86,
     "metadata": {},
     "output_type": "execute_result"
    }
   ],
   "source": [
    "aux_amount = df4.loc[df4['product_color'].str.contains( 'blue', na=True ) | df4['product_color'].str.contains( 'black', na=True ),\n",
    "        ['product_color', 'product_id']].groupby( 'product_color' ).count().sort_values( 'product_id', ascending=False ).reset_index()\n",
    "aux_amount.columns = ['color', 'amount']\n",
    "aux_amount['percentage'] = aux_amount['amount'].apply( lambda x: x / aux_amount['amount'].sum() * 100 )\n",
    "aux_amount.head(5)"
   ]
  },
  {
   "cell_type": "code",
   "execution_count": 87,
   "id": "6e3ac584",
   "metadata": {
    "ExecuteTime": {
     "end_time": "2023-01-12T17:41:04.513892Z",
     "start_time": "2023-01-12T17:41:04.502813Z"
    },
    "cell_style": "split",
    "hidden": true,
    "hide_input": true
   },
   "outputs": [
    {
     "data": {
      "text/html": [
       "<div>\n",
       "<style scoped>\n",
       "    .dataframe tbody tr th:only-of-type {\n",
       "        vertical-align: middle;\n",
       "    }\n",
       "\n",
       "    .dataframe tbody tr th {\n",
       "        vertical-align: top;\n",
       "    }\n",
       "\n",
       "    .dataframe thead th {\n",
       "        text-align: right;\n",
       "    }\n",
       "</style>\n",
       "<table border=\"1\" class=\"dataframe\">\n",
       "  <thead>\n",
       "    <tr style=\"text-align: right;\">\n",
       "      <th></th>\n",
       "      <th>product_fit</th>\n",
       "      <th>product_price</th>\n",
       "    </tr>\n",
       "  </thead>\n",
       "  <tbody>\n",
       "    <tr>\n",
       "      <th>0</th>\n",
       "      <td>loose_fit</td>\n",
       "      <td>40.10</td>\n",
       "    </tr>\n",
       "    <tr>\n",
       "      <th>1</th>\n",
       "      <td>relaxed_fit</td>\n",
       "      <td>34.33</td>\n",
       "    </tr>\n",
       "    <tr>\n",
       "      <th>2</th>\n",
       "      <td>slim_fit</td>\n",
       "      <td>31.72</td>\n",
       "    </tr>\n",
       "    <tr>\n",
       "      <th>3</th>\n",
       "      <td>regular_fit</td>\n",
       "      <td>27.71</td>\n",
       "    </tr>\n",
       "    <tr>\n",
       "      <th>4</th>\n",
       "      <td>skinny_fit</td>\n",
       "      <td>27.13</td>\n",
       "    </tr>\n",
       "  </tbody>\n",
       "</table>\n",
       "</div>"
      ],
      "text/plain": [
       "   product_fit  product_price\n",
       "0    loose_fit          40.10\n",
       "1  relaxed_fit          34.33\n",
       "2     slim_fit          31.72\n",
       "3  regular_fit          27.71\n",
       "4   skinny_fit          27.13"
      ]
     },
     "execution_count": 87,
     "metadata": {},
     "output_type": "execute_result"
    }
   ],
   "source": [
    "df4[['product_fit', 'product_price']].groupby( 'product_fit' ).mean().sort_values( 'product_price', ascending=False ).reset_index()"
   ]
  },
  {
   "cell_type": "code",
   "execution_count": 88,
   "id": "8bac4821",
   "metadata": {
    "ExecuteTime": {
     "end_time": "2023-01-12T17:41:04.681485Z",
     "start_time": "2023-01-12T17:41:04.677080Z"
    },
    "cell_style": "center",
    "hidden": true,
    "hide_input": false
   },
   "outputs": [],
   "source": [
    "# 01 mean price per color\n",
    "# 02 mean price per color for only regular fit"
   ]
  },
  {
   "cell_type": "code",
   "execution_count": 89,
   "id": "44442bb3",
   "metadata": {
    "ExecuteTime": {
     "end_time": "2023-01-12T17:41:05.333589Z",
     "start_time": "2023-01-12T17:41:05.316976Z"
    },
    "cell_style": "split",
    "hidden": true,
    "hide_input": true
   },
   "outputs": [
    {
     "data": {
      "text/html": [
       "<div>\n",
       "<style scoped>\n",
       "    .dataframe tbody tr th:only-of-type {\n",
       "        vertical-align: middle;\n",
       "    }\n",
       "\n",
       "    .dataframe tbody tr th {\n",
       "        vertical-align: top;\n",
       "    }\n",
       "\n",
       "    .dataframe thead th {\n",
       "        text-align: right;\n",
       "    }\n",
       "</style>\n",
       "<table border=\"1\" class=\"dataframe\">\n",
       "  <thead>\n",
       "    <tr style=\"text-align: right;\">\n",
       "      <th></th>\n",
       "      <th>color</th>\n",
       "      <th>mean_price</th>\n",
       "    </tr>\n",
       "  </thead>\n",
       "  <tbody>\n",
       "    <tr>\n",
       "      <th>0</th>\n",
       "      <td>black/no_fade_black</td>\n",
       "      <td>44.99</td>\n",
       "    </tr>\n",
       "    <tr>\n",
       "      <th>1</th>\n",
       "      <td>black/patterned</td>\n",
       "      <td>39.99</td>\n",
       "    </tr>\n",
       "    <tr>\n",
       "      <th>2</th>\n",
       "      <td>black/trashed</td>\n",
       "      <td>39.99</td>\n",
       "    </tr>\n",
       "    <tr>\n",
       "      <th>3</th>\n",
       "      <td>blue</td>\n",
       "      <td>33.02</td>\n",
       "    </tr>\n",
       "    <tr>\n",
       "      <th>4</th>\n",
       "      <td>pale_blue</td>\n",
       "      <td>32.39</td>\n",
       "    </tr>\n",
       "    <tr>\n",
       "      <th>5</th>\n",
       "      <td>black</td>\n",
       "      <td>32.30</td>\n",
       "    </tr>\n",
       "    <tr>\n",
       "      <th>6</th>\n",
       "      <td>dark_blue</td>\n",
       "      <td>31.11</td>\n",
       "    </tr>\n",
       "    <tr>\n",
       "      <th>7</th>\n",
       "      <td>light_blue</td>\n",
       "      <td>29.98</td>\n",
       "    </tr>\n",
       "    <tr>\n",
       "      <th>8</th>\n",
       "      <td>light_blue/trashed</td>\n",
       "      <td>26.99</td>\n",
       "    </tr>\n",
       "    <tr>\n",
       "      <th>9</th>\n",
       "      <td>dark_blue/trashed</td>\n",
       "      <td>23.49</td>\n",
       "    </tr>\n",
       "  </tbody>\n",
       "</table>\n",
       "</div>"
      ],
      "text/plain": [
       "                 color  mean_price\n",
       "0  black/no_fade_black       44.99\n",
       "1      black/patterned       39.99\n",
       "2        black/trashed       39.99\n",
       "3                 blue       33.02\n",
       "4            pale_blue       32.39\n",
       "5                black       32.30\n",
       "6            dark_blue       31.11\n",
       "7           light_blue       29.98\n",
       "8   light_blue/trashed       26.99\n",
       "9    dark_blue/trashed       23.49"
      ]
     },
     "execution_count": 89,
     "metadata": {},
     "output_type": "execute_result"
    }
   ],
   "source": [
    "aux_price = df4.loc[df4['product_color'].str.contains( 'blue', na=True ) | df4['product_color'].str.contains( 'black', na=True ),\n",
    "        ['product_color', 'product_price']].groupby( 'product_color' ).mean().sort_values( 'product_price', ascending=False ).reset_index()\n",
    "aux_price.columns = ['color', 'mean_price']\n",
    "aux_price.head(10)"
   ]
  },
  {
   "cell_type": "code",
   "execution_count": 90,
   "id": "cf405863",
   "metadata": {
    "ExecuteTime": {
     "end_time": "2023-01-12T17:41:06.339439Z",
     "start_time": "2023-01-12T17:41:06.323729Z"
    },
    "cell_style": "split",
    "hidden": true,
    "hide_input": true
   },
   "outputs": [
    {
     "data": {
      "text/html": [
       "<div>\n",
       "<style scoped>\n",
       "    .dataframe tbody tr th:only-of-type {\n",
       "        vertical-align: middle;\n",
       "    }\n",
       "\n",
       "    .dataframe tbody tr th {\n",
       "        vertical-align: top;\n",
       "    }\n",
       "\n",
       "    .dataframe thead th {\n",
       "        text-align: right;\n",
       "    }\n",
       "</style>\n",
       "<table border=\"1\" class=\"dataframe\">\n",
       "  <thead>\n",
       "    <tr style=\"text-align: right;\">\n",
       "      <th></th>\n",
       "      <th>color</th>\n",
       "      <th>mean_price</th>\n",
       "    </tr>\n",
       "  </thead>\n",
       "  <tbody>\n",
       "    <tr>\n",
       "      <th>0</th>\n",
       "      <td>black/no_fade_black</td>\n",
       "      <td>44.99</td>\n",
       "    </tr>\n",
       "    <tr>\n",
       "      <th>1</th>\n",
       "      <td>black/patterned</td>\n",
       "      <td>39.99</td>\n",
       "    </tr>\n",
       "    <tr>\n",
       "      <th>2</th>\n",
       "      <td>black/trashed</td>\n",
       "      <td>39.99</td>\n",
       "    </tr>\n",
       "    <tr>\n",
       "      <th>3</th>\n",
       "      <td>blue</td>\n",
       "      <td>33.02</td>\n",
       "    </tr>\n",
       "    <tr>\n",
       "      <th>4</th>\n",
       "      <td>pale_blue</td>\n",
       "      <td>32.39</td>\n",
       "    </tr>\n",
       "    <tr>\n",
       "      <th>5</th>\n",
       "      <td>black</td>\n",
       "      <td>32.30</td>\n",
       "    </tr>\n",
       "    <tr>\n",
       "      <th>6</th>\n",
       "      <td>dark_blue</td>\n",
       "      <td>31.11</td>\n",
       "    </tr>\n",
       "    <tr>\n",
       "      <th>7</th>\n",
       "      <td>light_blue</td>\n",
       "      <td>29.98</td>\n",
       "    </tr>\n",
       "    <tr>\n",
       "      <th>8</th>\n",
       "      <td>light_blue/trashed</td>\n",
       "      <td>26.99</td>\n",
       "    </tr>\n",
       "    <tr>\n",
       "      <th>9</th>\n",
       "      <td>dark_blue/trashed</td>\n",
       "      <td>23.49</td>\n",
       "    </tr>\n",
       "  </tbody>\n",
       "</table>\n",
       "</div>"
      ],
      "text/plain": [
       "                 color  mean_price\n",
       "0  black/no_fade_black       44.99\n",
       "1      black/patterned       39.99\n",
       "2        black/trashed       39.99\n",
       "3                 blue       33.02\n",
       "4            pale_blue       32.39\n",
       "5                black       32.30\n",
       "6            dark_blue       31.11\n",
       "7           light_blue       29.98\n",
       "8   light_blue/trashed       26.99\n",
       "9    dark_blue/trashed       23.49"
      ]
     },
     "execution_count": 90,
     "metadata": {},
     "output_type": "execute_result"
    }
   ],
   "source": [
    "aux_fit = df4.loc[df4['product_fit'] == 'regular_fit', :]\n",
    "aux_fit = df4.loc[(df4['product_color'].str.contains( 'blue', na=True ) | df4['product_color'].str.contains( 'black', na=True )),\n",
    "                  ['product_color', 'product_price']].groupby( 'product_color' ).mean().sort_values( 'product_price', ascending=False ).reset_index()\n",
    "aux_fit.columns = ['color', 'mean_price']\n",
    "aux_fit.head(10)"
   ]
  },
  {
   "cell_type": "code",
   "execution_count": 91,
   "id": "9fd3bc09",
   "metadata": {
    "ExecuteTime": {
     "end_time": "2023-01-12T17:41:06.712200Z",
     "start_time": "2023-01-12T17:41:06.707382Z"
    },
    "hidden": true
   },
   "outputs": [],
   "source": [
    "# 01 amount per with/without polyester for both regular fit and skinny_fit\n",
    "# 02 mean price per with/without polyester for both regular fit and skinny_fit"
   ]
  },
  {
   "cell_type": "code",
   "execution_count": 92,
   "id": "843cd3d0",
   "metadata": {
    "ExecuteTime": {
     "end_time": "2023-01-12T17:41:07.463734Z",
     "start_time": "2023-01-12T17:41:07.388143Z"
    },
    "cell_style": "split",
    "hidden": true,
    "hide_input": true
   },
   "outputs": [
    {
     "data": {
      "image/png": "[encoded data removed]",
      "text/plain": [
       "<Figure size 1500x600 with 1 Axes>"
      ]
     },
     "metadata": {},
     "output_type": "display_data"
    }
   ],
   "source": [
    "aux_composition = df4.loc[(df4['product_fit'] == 'regular_fit') | (df4['product_fit'] == 'skinny_fit'), :]\n",
    "aux_composition = aux_composition[['polyester', 'product_id']].groupby( 'polyester' ).count().reset_index()\n",
    "aux_composition.columns = ['polyester', 'amount']\n",
    "\n",
    "plt.pie( [aux_composition.iloc[1,1], aux_composition.iloc[0,1]],labels = ['yes', 'no'], autopct='%.2f%%' )\n",
    "plt.title( 'With/without polyester' )\n",
    "plt.show()"
   ]
  },
  {
   "cell_type": "code",
   "execution_count": 93,
   "id": "39040b19",
   "metadata": {
    "ExecuteTime": {
     "end_time": "2023-01-12T17:41:08.356818Z",
     "start_time": "2023-01-12T17:41:08.337852Z"
    },
    "cell_style": "split",
    "hidden": true,
    "hide_input": true
   },
   "outputs": [
    {
     "name": "stdout",
     "output_type": "stream",
     "text": [
      "A diferença é de 6.53%\n"
     ]
    },
    {
     "data": {
      "text/html": [
       "<div>\n",
       "<style scoped>\n",
       "    .dataframe tbody tr th:only-of-type {\n",
       "        vertical-align: middle;\n",
       "    }\n",
       "\n",
       "    .dataframe tbody tr th {\n",
       "        vertical-align: top;\n",
       "    }\n",
       "\n",
       "    .dataframe thead th {\n",
       "        text-align: right;\n",
       "    }\n",
       "</style>\n",
       "<table border=\"1\" class=\"dataframe\">\n",
       "  <thead>\n",
       "    <tr style=\"text-align: right;\">\n",
       "      <th></th>\n",
       "      <th>polyester</th>\n",
       "      <th>mean_price</th>\n",
       "    </tr>\n",
       "  </thead>\n",
       "  <tbody>\n",
       "    <tr>\n",
       "      <th>0</th>\n",
       "      <td>0</td>\n",
       "      <td>28.43</td>\n",
       "    </tr>\n",
       "    <tr>\n",
       "      <th>1</th>\n",
       "      <td>1</td>\n",
       "      <td>26.57</td>\n",
       "    </tr>\n",
       "  </tbody>\n",
       "</table>\n",
       "</div>"
      ],
      "text/plain": [
       "   polyester  mean_price\n",
       "0          0       28.43\n",
       "1          1       26.57"
      ]
     },
     "execution_count": 93,
     "metadata": {},
     "output_type": "execute_result"
    }
   ],
   "source": [
    "aux_composition = df4.loc[(df4['product_fit'] == 'regular_fit') | (df4['product_fit'] == 'skinny_fit'), :]\n",
    "aux_composition = aux_composition[['polyester', 'product_price']].groupby( 'polyester' ).mean().reset_index()\n",
    "aux_composition.columns = ['polyester', 'mean_price']\n",
    "\n",
    "result = round( (aux_composition.iloc[0, 1] - aux_composition.iloc[1,1]) / aux_composition.iloc[0,1] * 100, 2 )\n",
    "print( 'A diferença é de {}%'.format( result ) )\n",
    "\n",
    "aux_composition"
   ]
  },
  {
   "cell_type": "code",
   "execution_count": 94,
   "id": "39aedf27",
   "metadata": {
    "ExecuteTime": {
     "end_time": "2023-01-12T17:41:08.909696Z",
     "start_time": "2023-01-12T17:41:08.906383Z"
    },
    "hidden": true
   },
   "outputs": [],
   "source": [
    "# 01 amount per with/without polyester for only regular fit\n",
    "# 02 mean price per with/without polyester for only regular fit"
   ]
  },
  {
   "cell_type": "code",
   "execution_count": 95,
   "id": "5a04ec3d",
   "metadata": {
    "ExecuteTime": {
     "end_time": "2023-01-12T17:41:09.161980Z",
     "start_time": "2023-01-12T17:41:09.094117Z"
    },
    "cell_style": "split",
    "hidden": true,
    "hide_input": true
   },
   "outputs": [
    {
     "data": {
      "image/png": "[encoded data removed]",
      "text/plain": [
       "<Figure size 1500x600 with 1 Axes>"
      ]
     },
     "metadata": {},
     "output_type": "display_data"
    }
   ],
   "source": [
    "aux_composition = df4.loc[df4['product_fit'] == 'regular_fit', :]\n",
    "aux_composition = aux_composition[['polyester', 'product_id']].groupby( 'polyester' ).count().reset_index()\n",
    "aux_composition.columns = ['polyester', 'amount']\n",
    "\n",
    "plt.pie( [aux_composition.iloc[1,1], aux_composition.iloc[0,1]],labels = ['yes', 'no'], autopct='%.2f%%' )\n",
    "plt.title( 'With/without polyester' )\n",
    "plt.show()"
   ]
  },
  {
   "cell_type": "code",
   "execution_count": 96,
   "id": "a62a9d90",
   "metadata": {
    "ExecuteTime": {
     "end_time": "2023-01-12T17:41:09.294645Z",
     "start_time": "2023-01-12T17:41:09.283034Z"
    },
    "cell_style": "split",
    "hidden": true,
    "hide_input": true
   },
   "outputs": [
    {
     "name": "stdout",
     "output_type": "stream",
     "text": [
      "A diferença é de 11.4%\n"
     ]
    },
    {
     "data": {
      "text/html": [
       "<div>\n",
       "<style scoped>\n",
       "    .dataframe tbody tr th:only-of-type {\n",
       "        vertical-align: middle;\n",
       "    }\n",
       "\n",
       "    .dataframe tbody tr th {\n",
       "        vertical-align: top;\n",
       "    }\n",
       "\n",
       "    .dataframe thead th {\n",
       "        text-align: right;\n",
       "    }\n",
       "</style>\n",
       "<table border=\"1\" class=\"dataframe\">\n",
       "  <thead>\n",
       "    <tr style=\"text-align: right;\">\n",
       "      <th></th>\n",
       "      <th>polyester</th>\n",
       "      <th>mean_price</th>\n",
       "    </tr>\n",
       "  </thead>\n",
       "  <tbody>\n",
       "    <tr>\n",
       "      <th>0</th>\n",
       "      <td>0</td>\n",
       "      <td>28.68</td>\n",
       "    </tr>\n",
       "    <tr>\n",
       "      <th>1</th>\n",
       "      <td>1</td>\n",
       "      <td>25.41</td>\n",
       "    </tr>\n",
       "  </tbody>\n",
       "</table>\n",
       "</div>"
      ],
      "text/plain": [
       "   polyester  mean_price\n",
       "0          0       28.68\n",
       "1          1       25.41"
      ]
     },
     "execution_count": 96,
     "metadata": {},
     "output_type": "execute_result"
    }
   ],
   "source": [
    "aux_composition = df4.loc[df4['product_fit'] == 'regular_fit', :]\n",
    "aux_composition = aux_composition[['polyester', 'product_price']].groupby( 'polyester' ).mean().reset_index()\n",
    "aux_composition.columns = ['polyester', 'mean_price']\n",
    "\n",
    "result = round( (aux_composition.iloc[0, 1] - aux_composition.iloc[1,1]) / aux_composition.iloc[0,1] * 100, 2 )\n",
    "print( 'A diferença é de {}%'.format( result ) )\n",
    "\n",
    "aux_composition"
   ]
  },
  {
   "cell_type": "code",
   "execution_count": 97,
   "id": "c3a1607c",
   "metadata": {
    "ExecuteTime": {
     "end_time": "2023-01-12T17:41:09.551944Z",
     "start_time": "2023-01-12T17:41:09.547692Z"
    },
    "hidden": true
   },
   "outputs": [],
   "source": [
    "# 01 amount per with/without polyester for only skinny_fit\n",
    "# 02 mean price per with/without polyester for only skinny_fit"
   ]
  },
  {
   "cell_type": "code",
   "execution_count": 98,
   "id": "471bf083",
   "metadata": {
    "ExecuteTime": {
     "end_time": "2023-01-12T17:41:10.223090Z",
     "start_time": "2023-01-12T17:41:10.146329Z"
    },
    "cell_style": "split",
    "hidden": true,
    "hide_input": true
   },
   "outputs": [
    {
     "data": {
      "image/png": "[encoded data removed]",
      "text/plain": [
       "<Figure size 1500x600 with 1 Axes>"
      ]
     },
     "metadata": {},
     "output_type": "display_data"
    }
   ],
   "source": [
    "aux_composition = df4.loc[df4['product_fit'] == 'skinny_fit', :]\n",
    "aux_composition = aux_composition[['polyester', 'product_id']].groupby( 'polyester' ).count().reset_index()\n",
    "aux_composition.columns = ['polyester', 'amount']\n",
    "\n",
    "plt.pie( [aux_composition.iloc[1,1], aux_composition.iloc[0,1]],labels = ['yes', 'no'], autopct='%.2f%%' )\n",
    "plt.title( 'With/without polyester' )\n",
    "plt.show()"
   ]
  },
  {
   "cell_type": "code",
   "execution_count": 99,
   "id": "e8cd1eec",
   "metadata": {
    "ExecuteTime": {
     "end_time": "2023-01-12T17:41:10.494515Z",
     "start_time": "2023-01-12T17:41:10.479903Z"
    },
    "cell_style": "split",
    "hidden": true,
    "hide_input": true
   },
   "outputs": [
    {
     "name": "stdout",
     "output_type": "stream",
     "text": [
      "A diferença é de -1.37%\n"
     ]
    },
    {
     "data": {
      "text/html": [
       "<div>\n",
       "<style scoped>\n",
       "    .dataframe tbody tr th:only-of-type {\n",
       "        vertical-align: middle;\n",
       "    }\n",
       "\n",
       "    .dataframe tbody tr th {\n",
       "        vertical-align: top;\n",
       "    }\n",
       "\n",
       "    .dataframe thead th {\n",
       "        text-align: right;\n",
       "    }\n",
       "</style>\n",
       "<table border=\"1\" class=\"dataframe\">\n",
       "  <thead>\n",
       "    <tr style=\"text-align: right;\">\n",
       "      <th></th>\n",
       "      <th>polyester</th>\n",
       "      <th>mean_price</th>\n",
       "    </tr>\n",
       "  </thead>\n",
       "  <tbody>\n",
       "    <tr>\n",
       "      <th>0</th>\n",
       "      <td>0</td>\n",
       "      <td>26.82</td>\n",
       "    </tr>\n",
       "    <tr>\n",
       "      <th>1</th>\n",
       "      <td>1</td>\n",
       "      <td>27.19</td>\n",
       "    </tr>\n",
       "  </tbody>\n",
       "</table>\n",
       "</div>"
      ],
      "text/plain": [
       "   polyester  mean_price\n",
       "0          0       26.82\n",
       "1          1       27.19"
      ]
     },
     "execution_count": 99,
     "metadata": {},
     "output_type": "execute_result"
    }
   ],
   "source": [
    "aux_composition = df4.loc[df4['product_fit'] == 'skinny_fit', :]\n",
    "aux_composition = aux_composition[['polyester', 'product_price']].groupby( 'polyester' ).mean().reset_index()\n",
    "aux_composition.columns = ['polyester', 'mean_price']\n",
    "\n",
    "result = round( (aux_composition.iloc[0, 1] - aux_composition.iloc[1,1]) / aux_composition.iloc[0,1] * 100, 2 )\n",
    "print( 'A diferença é de {}%'.format( result ) )\n",
    "\n",
    "aux_composition"
   ]
  },
  {
   "cell_type": "markdown",
   "id": "4213321b",
   "metadata": {
    "ExecuteTime": {
     "end_time": "2022-12-31T22:21:39.354489Z",
     "start_time": "2022-12-31T22:21:39.347059Z"
    },
    "hidden": true
   },
   "source": [
    "### 4.2.1 Case 01\n",
    "\n",
    "    fits   -> regular_fit\n",
    "    colors -> black, blue"
   ]
  },
  {
   "cell_type": "code",
   "execution_count": 100,
   "id": "bdefe919",
   "metadata": {
    "ExecuteTime": {
     "end_time": "2023-01-12T17:41:11.092112Z",
     "start_time": "2023-01-12T17:41:11.088022Z"
    },
    "hidden": true
   },
   "outputs": [],
   "source": [
    "case_01 = df4.loc[(df4['product_fit'] == 'regular_fit') &\n",
    "                  ((df4['product_color'] == 'black') | (df4['product_color'] == 'blue')), :]"
   ]
  },
  {
   "cell_type": "code",
   "execution_count": 101,
   "id": "d61e38e9",
   "metadata": {
    "ExecuteTime": {
     "end_time": "2023-01-12T17:41:11.301534Z",
     "start_time": "2023-01-12T17:41:11.287965Z"
    },
    "cell_style": "split",
    "hidden": true,
    "hide_input": true
   },
   "outputs": [
    {
     "name": "stdout",
     "output_type": "stream",
     "text": [
      "Com polyester:\n",
      "O preço médio total é $28.79\n"
     ]
    },
    {
     "data": {
      "text/html": [
       "<div>\n",
       "<style scoped>\n",
       "    .dataframe tbody tr th:only-of-type {\n",
       "        vertical-align: middle;\n",
       "    }\n",
       "\n",
       "    .dataframe tbody tr th {\n",
       "        vertical-align: top;\n",
       "    }\n",
       "\n",
       "    .dataframe thead th {\n",
       "        text-align: right;\n",
       "    }\n",
       "</style>\n",
       "<table border=\"1\" class=\"dataframe\">\n",
       "  <thead>\n",
       "    <tr style=\"text-align: right;\">\n",
       "      <th></th>\n",
       "      <th>product_fit</th>\n",
       "      <th>color</th>\n",
       "      <th>mean_price</th>\n",
       "    </tr>\n",
       "  </thead>\n",
       "  <tbody>\n",
       "    <tr>\n",
       "      <th>0</th>\n",
       "      <td>regular_fit</td>\n",
       "      <td>black</td>\n",
       "      <td>26.55</td>\n",
       "    </tr>\n",
       "    <tr>\n",
       "      <th>1</th>\n",
       "      <td>regular_fit</td>\n",
       "      <td>blue</td>\n",
       "      <td>30.63</td>\n",
       "    </tr>\n",
       "  </tbody>\n",
       "</table>\n",
       "</div>"
      ],
      "text/plain": [
       "   product_fit  color  mean_price\n",
       "0  regular_fit  black       26.55\n",
       "1  regular_fit   blue       30.63"
      ]
     },
     "execution_count": 101,
     "metadata": {},
     "output_type": "execute_result"
    }
   ],
   "source": [
    "print( 'Com polyester:' )\n",
    "print( 'O preço médio total é ${}'.format( round( case_01['product_price'].mean(), 2 ) ) )\n",
    "case_01_1 = case_01[['product_fit', 'product_color', 'product_price']].groupby( ['product_fit', 'product_color'] ).mean().reset_index()\n",
    "case_01_1.columns = ['product_fit', 'color', 'mean_price']\n",
    "case_01_1"
   ]
  },
  {
   "cell_type": "code",
   "execution_count": 102,
   "id": "0c2c0895",
   "metadata": {
    "ExecuteTime": {
     "end_time": "2023-01-12T17:41:11.736905Z",
     "start_time": "2023-01-12T17:41:11.719820Z"
    },
    "cell_style": "split",
    "hidden": true,
    "hide_input": true
   },
   "outputs": [
    {
     "name": "stdout",
     "output_type": "stream",
     "text": [
      "Sem polyester:\n",
      "O preço médio total é $29.19\n"
     ]
    },
    {
     "data": {
      "text/html": [
       "<div>\n",
       "<style scoped>\n",
       "    .dataframe tbody tr th:only-of-type {\n",
       "        vertical-align: middle;\n",
       "    }\n",
       "\n",
       "    .dataframe tbody tr th {\n",
       "        vertical-align: top;\n",
       "    }\n",
       "\n",
       "    .dataframe thead th {\n",
       "        text-align: right;\n",
       "    }\n",
       "</style>\n",
       "<table border=\"1\" class=\"dataframe\">\n",
       "  <thead>\n",
       "    <tr style=\"text-align: right;\">\n",
       "      <th></th>\n",
       "      <th>product_fit</th>\n",
       "      <th>color</th>\n",
       "      <th>mean_price</th>\n",
       "    </tr>\n",
       "  </thead>\n",
       "  <tbody>\n",
       "    <tr>\n",
       "      <th>0</th>\n",
       "      <td>regular_fit</td>\n",
       "      <td>black</td>\n",
       "      <td>26.66</td>\n",
       "    </tr>\n",
       "    <tr>\n",
       "      <th>1</th>\n",
       "      <td>regular_fit</td>\n",
       "      <td>blue</td>\n",
       "      <td>31.20</td>\n",
       "    </tr>\n",
       "  </tbody>\n",
       "</table>\n",
       "</div>"
      ],
      "text/plain": [
       "   product_fit  color  mean_price\n",
       "0  regular_fit  black       26.66\n",
       "1  regular_fit   blue       31.20"
      ]
     },
     "execution_count": 102,
     "metadata": {},
     "output_type": "execute_result"
    }
   ],
   "source": [
    "print( 'Sem polyester:' )\n",
    "case_01_2 = case_01.loc[case_01['polyester'] == 0, :]\n",
    "print( 'O preço médio total é ${}'.format( round( case_01_2['product_price'].mean(), 2 ) ) )\n",
    "case_01_2 = case_01_2[['product_fit', 'product_color', 'product_price']].groupby( ['product_fit', 'product_color'] ).mean().reset_index()\n",
    "case_01_2.columns = ['product_fit', 'color', 'mean_price']\n",
    "case_01_2"
   ]
  },
  {
   "cell_type": "markdown",
   "id": "2f438aae",
   "metadata": {
    "hidden": true
   },
   "source": [
    "### 4.2.2 Case 02\n",
    "\n",
    "    fits   -> regular_fit\n",
    "    colors -> black, blue, dark_blue, light_blue"
   ]
  },
  {
   "cell_type": "code",
   "execution_count": 103,
   "id": "a28deb53",
   "metadata": {
    "ExecuteTime": {
     "end_time": "2023-01-12T17:41:12.439846Z",
     "start_time": "2023-01-12T17:41:12.432112Z"
    },
    "hidden": true
   },
   "outputs": [],
   "source": [
    "case_02 = df4.loc[(df4['product_fit'] == 'regular_fit') &\n",
    "                  ((df4['product_color'] == 'black') | (df4['product_color'] == 'blue') |\n",
    "                   (df4['product_color'] == 'dark_blue') | (df4['product_color'] == 'light_blue')), :]"
   ]
  },
  {
   "cell_type": "code",
   "execution_count": 104,
   "id": "dbeecc6c",
   "metadata": {
    "ExecuteTime": {
     "end_time": "2023-01-12T17:41:12.866663Z",
     "start_time": "2023-01-12T17:41:12.854869Z"
    },
    "cell_style": "split",
    "hidden": true,
    "hide_input": true
   },
   "outputs": [
    {
     "name": "stdout",
     "output_type": "stream",
     "text": [
      "Com polyester:\n",
      "O preço médio total é $27.99\n"
     ]
    },
    {
     "data": {
      "text/html": [
       "<div>\n",
       "<style scoped>\n",
       "    .dataframe tbody tr th:only-of-type {\n",
       "        vertical-align: middle;\n",
       "    }\n",
       "\n",
       "    .dataframe tbody tr th {\n",
       "        vertical-align: top;\n",
       "    }\n",
       "\n",
       "    .dataframe thead th {\n",
       "        text-align: right;\n",
       "    }\n",
       "</style>\n",
       "<table border=\"1\" class=\"dataframe\">\n",
       "  <thead>\n",
       "    <tr style=\"text-align: right;\">\n",
       "      <th></th>\n",
       "      <th>product_fit</th>\n",
       "      <th>color</th>\n",
       "      <th>mean_price</th>\n",
       "    </tr>\n",
       "  </thead>\n",
       "  <tbody>\n",
       "    <tr>\n",
       "      <th>0</th>\n",
       "      <td>regular_fit</td>\n",
       "      <td>black</td>\n",
       "      <td>26.55</td>\n",
       "    </tr>\n",
       "    <tr>\n",
       "      <th>1</th>\n",
       "      <td>regular_fit</td>\n",
       "      <td>blue</td>\n",
       "      <td>30.63</td>\n",
       "    </tr>\n",
       "    <tr>\n",
       "      <th>2</th>\n",
       "      <td>regular_fit</td>\n",
       "      <td>dark_blue</td>\n",
       "      <td>27.79</td>\n",
       "    </tr>\n",
       "    <tr>\n",
       "      <th>3</th>\n",
       "      <td>regular_fit</td>\n",
       "      <td>light_blue</td>\n",
       "      <td>26.24</td>\n",
       "    </tr>\n",
       "  </tbody>\n",
       "</table>\n",
       "</div>"
      ],
      "text/plain": [
       "   product_fit       color  mean_price\n",
       "0  regular_fit       black       26.55\n",
       "1  regular_fit        blue       30.63\n",
       "2  regular_fit   dark_blue       27.79\n",
       "3  regular_fit  light_blue       26.24"
      ]
     },
     "execution_count": 104,
     "metadata": {},
     "output_type": "execute_result"
    }
   ],
   "source": [
    "print( 'Com polyester:' )\n",
    "print( 'O preço médio total é ${}'.format( round( case_02['product_price'].mean(), 2 ) ) )\n",
    "case_02_1 = case_02[['product_fit', 'product_color', 'product_price']].groupby( ['product_fit', 'product_color'] ).mean().reset_index()\n",
    "case_02_1.columns = ['product_fit', 'color', 'mean_price']\n",
    "case_02_1"
   ]
  },
  {
   "cell_type": "code",
   "execution_count": 105,
   "id": "a483ed1e",
   "metadata": {
    "ExecuteTime": {
     "end_time": "2023-01-12T17:41:13.129247Z",
     "start_time": "2023-01-12T17:41:13.113862Z"
    },
    "cell_style": "split",
    "hidden": true,
    "hide_input": true
   },
   "outputs": [
    {
     "name": "stdout",
     "output_type": "stream",
     "text": [
      "Sem polyester:\n",
      "O preço médio total é $28.96\n"
     ]
    },
    {
     "data": {
      "text/html": [
       "<div>\n",
       "<style scoped>\n",
       "    .dataframe tbody tr th:only-of-type {\n",
       "        vertical-align: middle;\n",
       "    }\n",
       "\n",
       "    .dataframe tbody tr th {\n",
       "        vertical-align: top;\n",
       "    }\n",
       "\n",
       "    .dataframe thead th {\n",
       "        text-align: right;\n",
       "    }\n",
       "</style>\n",
       "<table border=\"1\" class=\"dataframe\">\n",
       "  <thead>\n",
       "    <tr style=\"text-align: right;\">\n",
       "      <th></th>\n",
       "      <th>product_fit</th>\n",
       "      <th>color</th>\n",
       "      <th>mean_price</th>\n",
       "    </tr>\n",
       "  </thead>\n",
       "  <tbody>\n",
       "    <tr>\n",
       "      <th>0</th>\n",
       "      <td>regular_fit</td>\n",
       "      <td>black</td>\n",
       "      <td>26.66</td>\n",
       "    </tr>\n",
       "    <tr>\n",
       "      <th>1</th>\n",
       "      <td>regular_fit</td>\n",
       "      <td>blue</td>\n",
       "      <td>31.20</td>\n",
       "    </tr>\n",
       "    <tr>\n",
       "      <th>2</th>\n",
       "      <td>regular_fit</td>\n",
       "      <td>dark_blue</td>\n",
       "      <td>28.49</td>\n",
       "    </tr>\n",
       "    <tr>\n",
       "      <th>3</th>\n",
       "      <td>regular_fit</td>\n",
       "      <td>light_blue</td>\n",
       "      <td>28.84</td>\n",
       "    </tr>\n",
       "  </tbody>\n",
       "</table>\n",
       "</div>"
      ],
      "text/plain": [
       "   product_fit       color  mean_price\n",
       "0  regular_fit       black       26.66\n",
       "1  regular_fit        blue       31.20\n",
       "2  regular_fit   dark_blue       28.49\n",
       "3  regular_fit  light_blue       28.84"
      ]
     },
     "execution_count": 105,
     "metadata": {},
     "output_type": "execute_result"
    }
   ],
   "source": [
    "print( 'Sem polyester:' )\n",
    "case_02_2 = case_02.loc[case_02['polyester'] == 0, :]\n",
    "print( 'O preço médio total é ${}'.format( round( case_02_2['product_price'].mean(), 2 ) ) )\n",
    "case_02_2 = case_02_2[['product_fit', 'product_color', 'product_price']].groupby( ['product_fit', 'product_color'] ).mean().reset_index()\n",
    "case_02_2.columns = ['product_fit', 'color', 'mean_price']\n",
    "case_02_2"
   ]
  },
  {
   "cell_type": "markdown",
   "id": "c8c3dd22",
   "metadata": {
    "hidden": true
   },
   "source": [
    "### 4.2.3 Case 03\n",
    "\n",
    "    fits   -> regular_fit, skinny_fit\n",
    "    colors -> black, blue"
   ]
  },
  {
   "cell_type": "code",
   "execution_count": 106,
   "id": "6de3b4a9",
   "metadata": {
    "ExecuteTime": {
     "end_time": "2023-01-12T17:41:13.963520Z",
     "start_time": "2023-01-12T17:41:13.955640Z"
    },
    "hidden": true
   },
   "outputs": [],
   "source": [
    "case_03 = df4.loc[((df4['product_fit'] == 'regular_fit') | (df4['product_fit'] == 'skinny_fit')) &\n",
    "                  ((df4['product_color'] == 'black') | (df4['product_color'] == 'blue')), :]"
   ]
  },
  {
   "cell_type": "code",
   "execution_count": 107,
   "id": "8b7b7990",
   "metadata": {
    "ExecuteTime": {
     "end_time": "2023-01-12T17:41:14.442148Z",
     "start_time": "2023-01-12T17:41:14.427946Z"
    },
    "cell_style": "split",
    "hidden": true,
    "hide_input": true
   },
   "outputs": [
    {
     "name": "stdout",
     "output_type": "stream",
     "text": [
      "Com polyester:\n",
      "O preço médio total é $28.49\n"
     ]
    },
    {
     "data": {
      "text/html": [
       "<div>\n",
       "<style scoped>\n",
       "    .dataframe tbody tr th:only-of-type {\n",
       "        vertical-align: middle;\n",
       "    }\n",
       "\n",
       "    .dataframe tbody tr th {\n",
       "        vertical-align: top;\n",
       "    }\n",
       "\n",
       "    .dataframe thead th {\n",
       "        text-align: right;\n",
       "    }\n",
       "</style>\n",
       "<table border=\"1\" class=\"dataframe\">\n",
       "  <thead>\n",
       "    <tr style=\"text-align: right;\">\n",
       "      <th></th>\n",
       "      <th>product_fit</th>\n",
       "      <th>color</th>\n",
       "      <th>mean_price</th>\n",
       "    </tr>\n",
       "  </thead>\n",
       "  <tbody>\n",
       "    <tr>\n",
       "      <th>0</th>\n",
       "      <td>regular_fit</td>\n",
       "      <td>black</td>\n",
       "      <td>26.55</td>\n",
       "    </tr>\n",
       "    <tr>\n",
       "      <th>1</th>\n",
       "      <td>regular_fit</td>\n",
       "      <td>blue</td>\n",
       "      <td>30.63</td>\n",
       "    </tr>\n",
       "    <tr>\n",
       "      <th>2</th>\n",
       "      <td>skinny_fit</td>\n",
       "      <td>black</td>\n",
       "      <td>31.66</td>\n",
       "    </tr>\n",
       "    <tr>\n",
       "      <th>3</th>\n",
       "      <td>skinny_fit</td>\n",
       "      <td>blue</td>\n",
       "      <td>26.28</td>\n",
       "    </tr>\n",
       "  </tbody>\n",
       "</table>\n",
       "</div>"
      ],
      "text/plain": [
       "   product_fit  color  mean_price\n",
       "0  regular_fit  black       26.55\n",
       "1  regular_fit   blue       30.63\n",
       "2   skinny_fit  black       31.66\n",
       "3   skinny_fit   blue       26.28"
      ]
     },
     "execution_count": 107,
     "metadata": {},
     "output_type": "execute_result"
    }
   ],
   "source": [
    "print( 'Com polyester:' )\n",
    "print( 'O preço médio total é ${}'.format( round( case_03['product_price'].mean(), 2 ) ) )\n",
    "case_03_1 = case_03[['product_fit', 'product_color', 'product_price']].groupby( ['product_fit', 'product_color'] ).mean().reset_index()\n",
    "case_03_1.columns = ['product_fit', 'color', 'mean_price']\n",
    "case_03_1"
   ]
  },
  {
   "cell_type": "code",
   "execution_count": 108,
   "id": "6c580755",
   "metadata": {
    "ExecuteTime": {
     "end_time": "2023-01-12T17:41:14.753576Z",
     "start_time": "2023-01-12T17:41:14.736244Z"
    },
    "cell_style": "split",
    "hidden": true,
    "hide_input": true
   },
   "outputs": [
    {
     "name": "stdout",
     "output_type": "stream",
     "text": [
      "Sem polyester:\n",
      "O preço médio total é $28.28\n"
     ]
    },
    {
     "data": {
      "text/html": [
       "<div>\n",
       "<style scoped>\n",
       "    .dataframe tbody tr th:only-of-type {\n",
       "        vertical-align: middle;\n",
       "    }\n",
       "\n",
       "    .dataframe tbody tr th {\n",
       "        vertical-align: top;\n",
       "    }\n",
       "\n",
       "    .dataframe thead th {\n",
       "        text-align: right;\n",
       "    }\n",
       "</style>\n",
       "<table border=\"1\" class=\"dataframe\">\n",
       "  <thead>\n",
       "    <tr style=\"text-align: right;\">\n",
       "      <th></th>\n",
       "      <th>product_fit</th>\n",
       "      <th>color</th>\n",
       "      <th>mean_price</th>\n",
       "    </tr>\n",
       "  </thead>\n",
       "  <tbody>\n",
       "    <tr>\n",
       "      <th>0</th>\n",
       "      <td>regular_fit</td>\n",
       "      <td>black</td>\n",
       "      <td>26.66</td>\n",
       "    </tr>\n",
       "    <tr>\n",
       "      <th>1</th>\n",
       "      <td>regular_fit</td>\n",
       "      <td>blue</td>\n",
       "      <td>31.20</td>\n",
       "    </tr>\n",
       "    <tr>\n",
       "      <th>2</th>\n",
       "      <td>skinny_fit</td>\n",
       "      <td>black</td>\n",
       "      <td>29.99</td>\n",
       "    </tr>\n",
       "    <tr>\n",
       "      <th>3</th>\n",
       "      <td>skinny_fit</td>\n",
       "      <td>blue</td>\n",
       "      <td>20.49</td>\n",
       "    </tr>\n",
       "  </tbody>\n",
       "</table>\n",
       "</div>"
      ],
      "text/plain": [
       "   product_fit  color  mean_price\n",
       "0  regular_fit  black       26.66\n",
       "1  regular_fit   blue       31.20\n",
       "2   skinny_fit  black       29.99\n",
       "3   skinny_fit   blue       20.49"
      ]
     },
     "execution_count": 108,
     "metadata": {},
     "output_type": "execute_result"
    }
   ],
   "source": [
    "print( 'Sem polyester:' )\n",
    "case_03_2 = case_03.loc[case_03['polyester'] == 0, :]\n",
    "print( 'O preço médio total é ${}'.format( round( case_03_2['product_price'].mean(), 2 ) ) )\n",
    "case_03_2 = case_03_2[['product_fit', 'product_color', 'product_price']].groupby( ['product_fit', 'product_color'] ).mean().reset_index()\n",
    "case_03_2.columns = ['product_fit', 'color', 'mean_price']\n",
    "case_03_2"
   ]
  },
  {
   "cell_type": "code",
   "execution_count": null,
   "id": "43108b3a",
   "metadata": {
    "hidden": true
   },
   "outputs": [],
   "source": []
  }
 ],
 "metadata": {
  "kernelspec": {
   "display_name": "Python 3 (ipykernel)",
   "language": "python",
   "name": "python3"
  },
  "language_info": {
   "codemirror_mode": {
    "name": "ipython",
    "version": 3
   },
   "file_extension": ".py",
   "mimetype": "text/x-python",
   "name": "python",
   "nbconvert_exporter": "python",
   "pygments_lexer": "ipython3",
   "version": "3.7.15"
  }
 },
 "nbformat": 4,
 "nbformat_minor": 5
}
