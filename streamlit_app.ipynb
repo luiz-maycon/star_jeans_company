{
 "cells": [
  {
   "cell_type": "markdown",
   "id": "1110d73f",
   "metadata": {
    "heading_collapsed": true
   },
   "source": [
    "# 0.0 Config"
   ]
  },
  {
   "cell_type": "markdown",
   "id": "55b317d8",
   "metadata": {
    "heading_collapsed": true,
    "hidden": true
   },
   "source": [
    "### 0.1 Imports"
   ]
  },
  {
   "cell_type": "code",
   "execution_count": 13,
   "id": "ed52ee37",
   "metadata": {
    "ExecuteTime": {
     "end_time": "2023-01-13T16:40:42.564695Z",
     "start_time": "2023-01-13T16:40:42.560317Z"
    },
    "hidden": true
   },
   "outputs": [],
   "source": [
    "import numpy             as np\n",
    "import pandas            as pd\n",
    "import seaborn           as sns\n",
    "import matplotlib.pyplot as plt\n",
    "from IPython.display import HTML"
   ]
  },
  {
   "cell_type": "markdown",
   "id": "969f5b64",
   "metadata": {
    "heading_collapsed": true,
    "hidden": true
   },
   "source": [
    "### 0.2 Helper Function"
   ]
  },
  {
   "cell_type": "code",
   "execution_count": 14,
   "id": "27109e15",
   "metadata": {
    "ExecuteTime": {
     "end_time": "2023-01-13T16:40:42.926399Z",
     "start_time": "2023-01-13T16:40:42.914333Z"
    },
    "hidden": true
   },
   "outputs": [
    {
     "name": "stdout",
     "output_type": "stream",
     "text": [
      "Populating the interactive namespace from numpy and matplotlib\n"
     ]
    },
    {
     "data": {
      "text/html": [
       "<style>.container { width:97% !important; }</style>"
      ],
      "text/plain": [
       "<IPython.core.display.HTML object>"
      ]
     },
     "metadata": {},
     "output_type": "display_data"
    }
   ],
   "source": [
    "def jupyter_settings():\n",
    "    %matplotlib inline\n",
    "    %pylab inline\n",
    "    plt.style.use( 'bmh' )\n",
    "    plt.rcParams['figure.figsize'] = [18, 8]\n",
    "    plt.rcParams['font.size'] = 24\n",
    "    display( HTML( '<style>.container { width:97% !important; }</style>') )\n",
    "    pd.options.display.max_columns = 30\n",
    "    pd.options.display.max_rows = 30\n",
    "    pd.options.display.float_format = lambda x: f'{x:.2f}'\n",
    "    pd.set_option( 'display.expand_frame_repr', False )\n",
    "    sns.set_theme(rc={'figure.figsize': (15, 6)})\n",
    "jupyter_settings()"
   ]
  },
  {
   "cell_type": "markdown",
   "id": "0438c0f3",
   "metadata": {
    "heading_collapsed": true,
    "hidden": true
   },
   "source": [
    "### 0.3 Data Collection"
   ]
  },
  {
   "cell_type": "code",
   "execution_count": 15,
   "id": "9fb9bedf",
   "metadata": {
    "ExecuteTime": {
     "end_time": "2023-01-13T16:40:43.499516Z",
     "start_time": "2023-01-13T16:40:43.489167Z"
    },
    "hidden": true
   },
   "outputs": [],
   "source": [
    "df_raw = pd.read_csv( 'database/dataset_hm.csv' )"
   ]
  },
  {
   "cell_type": "markdown",
   "id": "c4230b29",
   "metadata": {
    "heading_collapsed": true
   },
   "source": [
    "# 1.0 Data Description"
   ]
  },
  {
   "cell_type": "code",
   "execution_count": 16,
   "id": "38eb9696",
   "metadata": {
    "ExecuteTime": {
     "end_time": "2023-01-13T16:40:44.154653Z",
     "start_time": "2023-01-13T16:40:44.151960Z"
    },
    "hidden": true
   },
   "outputs": [],
   "source": [
    "df1 = df_raw.copy()"
   ]
  },
  {
   "cell_type": "markdown",
   "id": "163ae320",
   "metadata": {
    "heading_collapsed": true,
    "hidden": true
   },
   "source": [
    "### 1.1 Data Dimension"
   ]
  },
  {
   "cell_type": "code",
   "execution_count": 17,
   "id": "2f58ef26",
   "metadata": {
    "ExecuteTime": {
     "end_time": "2023-01-13T16:40:44.637344Z",
     "start_time": "2023-01-13T16:40:44.631962Z"
    },
    "hidden": true
   },
   "outputs": [
    {
     "name": "stdout",
     "output_type": "stream",
     "text": [
      "Number of rows: 932\n",
      "Number of cols: 14\n"
     ]
    }
   ],
   "source": [
    "print( 'Number of rows: {}'.format( df1.shape[0] ) )\n",
    "print( 'Number of cols: {}'.format( df1.shape[1] ) )"
   ]
  },
  {
   "cell_type": "markdown",
   "id": "e14806a4",
   "metadata": {
    "ExecuteTime": {
     "end_time": "2022-12-29T14:09:03.969448Z",
     "start_time": "2022-12-29T14:09:03.966667Z"
    },
    "heading_collapsed": true,
    "hidden": true
   },
   "source": [
    "### 1.2 Data Types"
   ]
  },
  {
   "cell_type": "code",
   "execution_count": 18,
   "id": "e0ca4cfb",
   "metadata": {
    "ExecuteTime": {
     "end_time": "2023-01-13T16:40:45.340627Z",
     "start_time": "2023-01-13T16:40:45.331766Z"
    },
    "hidden": true
   },
   "outputs": [
    {
     "data": {
      "text/plain": [
       "Unnamed: 0           int64\n",
       "product_id           int64\n",
       "style_id             int64\n",
       "color_id             int64\n",
       "product_name        object\n",
       "product_color       object\n",
       "product_fit         object\n",
       "product_price      float64\n",
       "size_number        float64\n",
       "size_model          object\n",
       "cotton             float64\n",
       "polyester          float64\n",
       "spandex            float64\n",
       "scrapy_datetime     object\n",
       "dtype: object"
      ]
     },
     "execution_count": 18,
     "metadata": {},
     "output_type": "execute_result"
    }
   ],
   "source": [
    "df1.dtypes"
   ]
  },
  {
   "cell_type": "code",
   "execution_count": 19,
   "id": "591878bc",
   "metadata": {
    "ExecuteTime": {
     "end_time": "2023-01-13T16:40:45.642586Z",
     "start_time": "2023-01-13T16:40:45.637941Z"
    },
    "hidden": true
   },
   "outputs": [],
   "source": [
    "# convert object to datetime\n",
    "df1['scrapy_datetime'] = pd.to_datetime( df1['scrapy_datetime'] )"
   ]
  },
  {
   "cell_type": "markdown",
   "id": "fcfbfa34",
   "metadata": {
    "ExecuteTime": {
     "end_time": "2022-12-29T14:10:24.906914Z",
     "start_time": "2022-12-29T14:10:24.902584Z"
    },
    "heading_collapsed": true,
    "hidden": true
   },
   "source": [
    "### 1.3 Missing Data"
   ]
  },
  {
   "cell_type": "code",
   "execution_count": 20,
   "id": "a5abdc58",
   "metadata": {
    "ExecuteTime": {
     "end_time": "2023-01-13T16:40:46.225668Z",
     "start_time": "2023-01-13T16:40:46.215064Z"
    },
    "cell_style": "split",
    "hidden": true
   },
   "outputs": [
    {
     "data": {
      "text/plain": [
       "Unnamed: 0           0\n",
       "product_id           0\n",
       "style_id             0\n",
       "color_id             0\n",
       "product_name         0\n",
       "product_color        0\n",
       "product_fit          0\n",
       "product_price        0\n",
       "size_number        413\n",
       "size_model         483\n",
       "cotton               0\n",
       "polyester            0\n",
       "spandex              0\n",
       "scrapy_datetime      0\n",
       "dtype: int64"
      ]
     },
     "execution_count": 20,
     "metadata": {},
     "output_type": "execute_result"
    }
   ],
   "source": [
    "# amount of missing data\n",
    "df1.isna().sum()"
   ]
  },
  {
   "cell_type": "code",
   "execution_count": 21,
   "id": "85ba158a",
   "metadata": {
    "ExecuteTime": {
     "end_time": "2023-01-13T16:40:46.579516Z",
     "start_time": "2023-01-13T16:40:46.572149Z"
    },
    "cell_style": "split",
    "hidden": true,
    "scrolled": true
   },
   "outputs": [
    {
     "data": {
      "text/plain": [
       "Unnamed: 0         0.00\n",
       "product_id         0.00\n",
       "style_id           0.00\n",
       "color_id           0.00\n",
       "product_name       0.00\n",
       "product_color      0.00\n",
       "product_fit        0.00\n",
       "product_price      0.00\n",
       "size_number       44.31\n",
       "size_model        51.82\n",
       "cotton             0.00\n",
       "polyester          0.00\n",
       "spandex            0.00\n",
       "scrapy_datetime    0.00\n",
       "dtype: float64"
      ]
     },
     "execution_count": 21,
     "metadata": {},
     "output_type": "execute_result"
    }
   ],
   "source": [
    "# percentage of missing data\n",
    "df1.isna().sum() / df1.shape[0] * 100"
   ]
  },
  {
   "cell_type": "code",
   "execution_count": 22,
   "id": "f1f4691c",
   "metadata": {
    "ExecuteTime": {
     "end_time": "2023-01-13T16:40:46.941966Z",
     "start_time": "2023-01-13T16:40:46.937069Z"
    },
    "hidden": true
   },
   "outputs": [],
   "source": [
    "# remove size columns\n",
    "df1 = df1.drop( columns=['Unnamed: 0' ,'size_number', 'size_model'] )"
   ]
  },
  {
   "cell_type": "markdown",
   "id": "e672b96c",
   "metadata": {
    "heading_collapsed": true,
    "hidden": true
   },
   "source": [
    "### 1.4 Numeric Data Description"
   ]
  },
  {
   "cell_type": "code",
   "execution_count": 23,
   "id": "3b6a3f38",
   "metadata": {
    "ExecuteTime": {
     "end_time": "2023-01-13T16:40:50.145897Z",
     "start_time": "2023-01-13T16:40:50.117171Z"
    },
    "hidden": true
   },
   "outputs": [
    {
     "data": {
      "text/html": [
       "<div>\n",
       "<style scoped>\n",
       "    .dataframe tbody tr th:only-of-type {\n",
       "        vertical-align: middle;\n",
       "    }\n",
       "\n",
       "    .dataframe tbody tr th {\n",
       "        vertical-align: top;\n",
       "    }\n",
       "\n",
       "    .dataframe thead th {\n",
       "        text-align: right;\n",
       "    }\n",
       "</style>\n",
       "<table border=\"1\" class=\"dataframe\">\n",
       "  <thead>\n",
       "    <tr style=\"text-align: right;\">\n",
       "      <th></th>\n",
       "      <th>attributes</th>\n",
       "      <th>min</th>\n",
       "      <th>max</th>\n",
       "      <th>range</th>\n",
       "      <th>mean</th>\n",
       "      <th>median</th>\n",
       "      <th>std</th>\n",
       "      <th>skew</th>\n",
       "      <th>kurtosis</th>\n",
       "    </tr>\n",
       "  </thead>\n",
       "  <tbody>\n",
       "    <tr>\n",
       "      <th>0</th>\n",
       "      <td>product_id</td>\n",
       "      <td>690449001.00</td>\n",
       "      <td>1142955003.00</td>\n",
       "      <td>452506002.00</td>\n",
       "      <td>939471122.13</td>\n",
       "      <td>985159004.00</td>\n",
       "      <td>121759564.66</td>\n",
       "      <td>-0.78</td>\n",
       "      <td>-0.33</td>\n",
       "    </tr>\n",
       "    <tr>\n",
       "      <th>1</th>\n",
       "      <td>style_id</td>\n",
       "      <td>690449.00</td>\n",
       "      <td>1142955.00</td>\n",
       "      <td>452506.00</td>\n",
       "      <td>939471.11</td>\n",
       "      <td>985159.00</td>\n",
       "      <td>121759.57</td>\n",
       "      <td>-0.78</td>\n",
       "      <td>-0.33</td>\n",
       "    </tr>\n",
       "    <tr>\n",
       "      <th>2</th>\n",
       "      <td>color_id</td>\n",
       "      <td>1.00</td>\n",
       "      <td>67.00</td>\n",
       "      <td>66.00</td>\n",
       "      <td>12.69</td>\n",
       "      <td>6.00</td>\n",
       "      <td>15.37</td>\n",
       "      <td>1.67</td>\n",
       "      <td>1.97</td>\n",
       "    </tr>\n",
       "    <tr>\n",
       "      <th>3</th>\n",
       "      <td>product_price</td>\n",
       "      <td>5.99</td>\n",
       "      <td>49.99</td>\n",
       "      <td>44.00</td>\n",
       "      <td>31.09</td>\n",
       "      <td>29.99</td>\n",
       "      <td>10.31</td>\n",
       "      <td>-0.29</td>\n",
       "      <td>-0.78</td>\n",
       "    </tr>\n",
       "    <tr>\n",
       "      <th>4</th>\n",
       "      <td>cotton</td>\n",
       "      <td>0.99</td>\n",
       "      <td>0.99</td>\n",
       "      <td>0.00</td>\n",
       "      <td>0.99</td>\n",
       "      <td>0.99</td>\n",
       "      <td>0.00</td>\n",
       "      <td>0.00</td>\n",
       "      <td>0.00</td>\n",
       "    </tr>\n",
       "    <tr>\n",
       "      <th>5</th>\n",
       "      <td>polyester</td>\n",
       "      <td>0.00</td>\n",
       "      <td>1.00</td>\n",
       "      <td>1.00</td>\n",
       "      <td>0.39</td>\n",
       "      <td>0.65</td>\n",
       "      <td>0.40</td>\n",
       "      <td>0.17</td>\n",
       "      <td>-1.72</td>\n",
       "    </tr>\n",
       "    <tr>\n",
       "      <th>6</th>\n",
       "      <td>spandex</td>\n",
       "      <td>0.01</td>\n",
       "      <td>0.01</td>\n",
       "      <td>0.00</td>\n",
       "      <td>0.01</td>\n",
       "      <td>0.01</td>\n",
       "      <td>0.00</td>\n",
       "      <td>0.00</td>\n",
       "      <td>0.00</td>\n",
       "    </tr>\n",
       "  </tbody>\n",
       "</table>\n",
       "</div>"
      ],
      "text/plain": [
       "      attributes          min           max        range         mean       median          std  skew  kurtosis\n",
       "0     product_id 690449001.00 1142955003.00 452506002.00 939471122.13 985159004.00 121759564.66 -0.78     -0.33\n",
       "1       style_id    690449.00    1142955.00    452506.00    939471.11    985159.00    121759.57 -0.78     -0.33\n",
       "2       color_id         1.00         67.00        66.00        12.69         6.00        15.37  1.67      1.97\n",
       "3  product_price         5.99         49.99        44.00        31.09        29.99        10.31 -0.29     -0.78\n",
       "4         cotton         0.99          0.99         0.00         0.99         0.99         0.00  0.00      0.00\n",
       "5      polyester         0.00          1.00         1.00         0.39         0.65         0.40  0.17     -1.72\n",
       "6        spandex         0.01          0.01         0.00         0.01         0.01         0.00  0.00      0.00"
      ]
     },
     "execution_count": 23,
     "metadata": {},
     "output_type": "execute_result"
    }
   ],
   "source": [
    "num_attributes = df1.select_dtypes( include=['int64', 'float64'] )\n",
    "\n",
    "# central tendency\n",
    "t1 = pd.DataFrame( num_attributes.apply( np.mean ) ).T\n",
    "t2 = pd.DataFrame( num_attributes.apply( np.median ) ).T\n",
    "\n",
    "# dispersion\n",
    "d1 = pd.DataFrame( num_attributes.apply( np.std ) ).T\n",
    "d2 = pd.DataFrame( num_attributes.apply( np.min ) ).T\n",
    "d3 = pd.DataFrame( num_attributes.apply( np.max ) ).T\n",
    "d4 = pd.DataFrame( num_attributes.apply( lambda x: x.max() - x.min() ) ).T\n",
    "d5 = pd.DataFrame( num_attributes.apply( lambda x: x.skew() ) ).T\n",
    "d6 = pd.DataFrame( num_attributes.apply( lambda x: x.kurtosis() ) ).T\n",
    "\n",
    "# concat\n",
    "ndd = pd.concat( [d2, d3, d4, t1, t2, d1, d5, d6] ).T.reset_index()\n",
    "ndd.columns = ['attributes', 'min', 'max', 'range', 'mean', 'median', 'std', 'skew', 'kurtosis']\n",
    "ndd"
   ]
  },
  {
   "cell_type": "markdown",
   "id": "253699c1",
   "metadata": {
    "heading_collapsed": true,
    "hidden": true
   },
   "source": [
    "### 1.5 Categorical Data Description"
   ]
  },
  {
   "cell_type": "code",
   "execution_count": 24,
   "id": "f87f5095",
   "metadata": {
    "ExecuteTime": {
     "end_time": "2023-01-13T16:41:06.954566Z",
     "start_time": "2023-01-13T16:41:06.944230Z"
    },
    "hidden": true
   },
   "outputs": [
    {
     "data": {
      "text/plain": [
       "product_name     17\n",
       "product_color    33\n",
       "product_fit       5\n",
       "dtype: int64"
      ]
     },
     "execution_count": 24,
     "metadata": {},
     "output_type": "execute_result"
    }
   ],
   "source": [
    "cat_attributes = df1.select_dtypes( exclude=['int64', 'float64', 'datetime64[ns]'] )\n",
    "cat_attributes.apply( lambda x: x.unique().shape[0] )"
   ]
  },
  {
   "cell_type": "markdown",
   "id": "e7c18152",
   "metadata": {
    "heading_collapsed": true
   },
   "source": [
    "# 2.0 Feature Engineering"
   ]
  },
  {
   "cell_type": "code",
   "execution_count": 25,
   "id": "389e2713",
   "metadata": {
    "ExecuteTime": {
     "end_time": "2023-01-13T16:41:15.319833Z",
     "start_time": "2023-01-13T16:41:15.316119Z"
    },
    "hidden": true
   },
   "outputs": [],
   "source": [
    "df2 = df1.copy()"
   ]
  },
  {
   "cell_type": "code",
   "execution_count": 26,
   "id": "68ddda40",
   "metadata": {
    "ExecuteTime": {
     "end_time": "2023-01-13T16:41:16.203884Z",
     "start_time": "2023-01-13T16:41:16.188804Z"
    },
    "hidden": true
   },
   "outputs": [],
   "source": [
    "# general color\n",
    "df2['general_color'] = df2['product_color'].apply( lambda x: re.search( '^[a-z]+$|_[a-z]+$|[a-z]+\\/|black', x ).group(0)\n",
    "                                                  .replace( '_', '' ).replace( '/', '' ) if pd.notnull( x ) else x)\n",
    "\n",
    "# product color\n",
    "df2['product_color'] = df2['product_color'].apply( lambda x: x.replace( 'denim_', '' ) )\n",
    "\n",
    "# transform composition in binary\n",
    "df2['cotton'] = df2['cotton'].apply(lambda x: 1 if x > 0 else 0)\n",
    "df2['polyester'] = df2['polyester'].apply(lambda x: 1 if x > 0 else 0)\n",
    "df2['spandex'] = df2['spandex'].apply(lambda x: 1 if x > 0 else 0)"
   ]
  },
  {
   "cell_type": "markdown",
   "id": "7d97be4d",
   "metadata": {
    "heading_collapsed": true
   },
   "source": [
    "# 3.0 Attribute Filtering"
   ]
  },
  {
   "cell_type": "code",
   "execution_count": 27,
   "id": "d1b193b3",
   "metadata": {
    "ExecuteTime": {
     "end_time": "2023-01-13T16:41:17.695687Z",
     "start_time": "2023-01-13T16:41:17.689767Z"
    },
    "hidden": true
   },
   "outputs": [],
   "source": [
    "df3 = df2.copy()"
   ]
  },
  {
   "cell_type": "markdown",
   "id": "a01728e2",
   "metadata": {
    "heading_collapsed": true
   },
   "source": [
    "# 4.0 EDA (Exploration Data Analysis)"
   ]
  },
  {
   "cell_type": "code",
   "execution_count": 28,
   "id": "c6ea2762",
   "metadata": {
    "ExecuteTime": {
     "end_time": "2023-01-13T16:41:18.620033Z",
     "start_time": "2023-01-13T16:41:18.617247Z"
    },
    "hidden": true
   },
   "outputs": [],
   "source": [
    "df4 =  df3.copy()"
   ]
  },
  {
   "cell_type": "markdown",
   "id": "4a165371",
   "metadata": {
    "ExecuteTime": {
     "end_time": "2022-12-29T16:46:15.476014Z",
     "start_time": "2022-12-29T16:46:15.470335Z"
    },
    "heading_collapsed": true,
    "hidden": true
   },
   "source": [
    "## 4.1 Hypotheses"
   ]
  },
  {
   "cell_type": "markdown",
   "id": "8797a7da",
   "metadata": {
    "hidden": true
   },
   "source": [
    "- 01- 70% das calças são das cores blue ou black (ou suas derivadas)\n",
    "- 02- Calças de cores blue ou black possuem os maiores preços médios, sendo 10% mais caros que a terceira cor\n",
    "- 03- Um único fit representa mais de 50% da quantidade de calças\n",
    "- 04- 70% das calças possuem polyester em sua composição\n",
    "- 05- O preço médio das calças que possuem polyester está 30% acima do preço médio das que não possuem"
   ]
  },
  {
   "cell_type": "code",
   "execution_count": 29,
   "id": "cca1a095",
   "metadata": {
    "ExecuteTime": {
     "end_time": "2023-01-13T16:41:22.679836Z",
     "start_time": "2023-01-13T16:41:22.500900Z"
    },
    "cell_style": "center",
    "hidden": true,
    "hide_input": false
   },
   "outputs": [
    {
     "name": "stdout",
     "output_type": "stream",
     "text": [
      "Representam 80.04% das calças.\n"
     ]
    },
    {
     "data": {
      "image/png": "[encoded data removed]",
      "text/plain": [
       "<Figure size 1500x600 with 1 Axes>"
      ]
     },
     "metadata": {},
     "output_type": "display_data"
    }
   ],
   "source": [
    "# 01- 70% das calças são das cores blue ou black (ou suas derivadas)\n",
    "h1 = df4[['general_color', 'product_id']].groupby( 'general_color' ).count().sort_values( 'product_id', ascending=False ).reset_index()\n",
    "\n",
    "result = round( ( h1.iloc[0, 1] + h1.iloc[1, 1] ) / h1['product_id'].sum() * 100, 2)\n",
    "print( 'Representam {}% das calças.'.format( result ) )\n",
    "\n",
    "h1['product_id'] = h1['product_id'].apply( lambda x: x / h1['product_id'].sum() * 100 )\n",
    "\n",
    "plt.bar( h1['general_color'], h1['product_id'] )\n",
    "plt.title( 'Amount per color' )\n",
    "plt.show()"
   ]
  },
  {
   "cell_type": "code",
   "execution_count": 30,
   "id": "5d1bcc1e",
   "metadata": {
    "ExecuteTime": {
     "end_time": "2023-01-13T16:42:02.488596Z",
     "start_time": "2023-01-13T16:42:02.357285Z"
    },
    "hidden": true
   },
   "outputs": [
    {
     "name": "stdout",
     "output_type": "stream",
     "text": [
      "Estão, na verdade, 21.69% abaixo do preço médio mais alto e 14.62% acima do mais baixo.\n"
     ]
    },
    {
     "data": {
      "image/png": "[encoded data removed]",
      "text/plain": [
       "<Figure size 1500x600 with 1 Axes>"
      ]
     },
     "metadata": {},
     "output_type": "display_data"
    }
   ],
   "source": [
    "# 02- Calças de cores blue ou black possuem os maiores preços médios, sendo 10% mais caros que a terceira cor\n",
    "h2 = df4[['general_color', 'product_price']].groupby( 'general_color' ).mean().sort_values( 'product_price', ascending=False ).reset_index()\n",
    "\n",
    "result1 = round( ( 1 - h2.loc[(h2['general_color'] == 'black') | (h2['general_color'] == 'blue'), 'product_price'].sum() / 2 / h2.iloc[0,1] ) * 100, 2 )\n",
    "result2 = round( ( h2.loc[(h2['general_color'] == 'black') | (h2['general_color'] == 'blue'), 'product_price'].sum() / 2 / h2.iloc[6,1] - 1) * 100, 2 )\n",
    "print( 'Estão, na verdade, {}% abaixo do preço médio mais alto e {}% acima do mais baixo.'.format( result1, result2 ) )\n",
    "\n",
    "plt.bar( h2['general_color'], h2['product_price'] )\n",
    "plt.title( 'Mean price per color' )\n",
    "plt.show()"
   ]
  },
  {
   "cell_type": "code",
   "execution_count": 31,
   "id": "91f187f5",
   "metadata": {
    "ExecuteTime": {
     "end_time": "2023-01-13T16:42:43.622824Z",
     "start_time": "2023-01-13T16:42:43.507262Z"
    },
    "hidden": true
   },
   "outputs": [
    {
     "name": "stdout",
     "output_type": "stream",
     "text": [
      "O regular_fit, que possui a maior quantidade de calça, possui 28.97% do total.\n"
     ]
    },
    {
     "data": {
      "image/png": "[encoded data removed]",
      "text/plain": [
       "<Figure size 1500x600 with 1 Axes>"
      ]
     },
     "metadata": {},
     "output_type": "display_data"
    }
   ],
   "source": [
    "# 03- Um único fit representa mais de 50% da quantidade de calças\n",
    "h3 = df4[['product_fit', 'product_id']].groupby( 'product_fit' ).count().sort_values( 'product_id', ascending=False ).reset_index()\n",
    "\n",
    "result = round( h3.iloc[0,1] / h3['product_id'].sum() * 100, 2 )\n",
    "print( 'O {}, que possui a maior quantidade de calça, possui {}% do total.'.format( h3.iloc[0,0], result ) )\n",
    "\n",
    "h3['product_id'] = h3['product_id'].apply( lambda x: x / h3['product_id'].sum() * 100 )\n",
    "\n",
    "plt.bar( h3['product_fit'], h3['product_id'] )\n",
    "plt.title( 'Amount per fit' )\n",
    "plt.show()"
   ]
  },
  {
   "cell_type": "code",
   "execution_count": 32,
   "id": "1b910d2e",
   "metadata": {
    "ExecuteTime": {
     "end_time": "2023-01-13T16:42:53.766694Z",
     "start_time": "2023-01-13T16:42:53.691364Z"
    },
    "cell_style": "center",
    "hidden": true
   },
   "outputs": [
    {
     "name": "stdout",
     "output_type": "stream",
     "text": [
      "Apenas 50.54% das calças possuem polyester.\n"
     ]
    },
    {
     "data": {
      "image/png": "[encoded data removed]",
      "text/plain": [
       "<Figure size 1500x600 with 1 Axes>"
      ]
     },
     "metadata": {},
     "output_type": "display_data"
    }
   ],
   "source": [
    "# 04- 70% das calças possuem polyester em sua composição\n",
    "h4 = df4[['polyester', 'product_id']].groupby( 'polyester' ).count().reset_index()\n",
    "\n",
    "result = round( h4.iloc[1,1] / h4['product_id'].sum() * 100, 2 )\n",
    "print( 'Apenas {}% das calças possuem polyester.'.format( result ) )\n",
    "\n",
    "plt.pie( [h4.iloc[1,1], h4.iloc[0,1]],labels = ['yes', 'no'], autopct='%.2f%%' )\n",
    "plt.title( 'With/without polyester' )\n",
    "plt.show()"
   ]
  },
  {
   "cell_type": "code",
   "execution_count": 33,
   "id": "1f92470f",
   "metadata": {
    "ExecuteTime": {
     "end_time": "2023-01-13T16:43:26.717963Z",
     "start_time": "2023-01-13T16:43:26.583262Z"
    },
    "hidden": true
   },
   "outputs": [
    {
     "name": "stdout",
     "output_type": "stream",
     "text": [
      "Na verdade, está -1.23% abaixo.\n"
     ]
    },
    {
     "data": {
      "image/png": "[encoded data removed]",
      "text/plain": [
       "<Figure size 1500x600 with 1 Axes>"
      ]
     },
     "metadata": {},
     "output_type": "display_data"
    }
   ],
   "source": [
    "# 05- O preço médio das calças que possuem polyester está 30% acima do preço médio das que não possuem\n",
    "h5 = df4[['polyester', 'product_price']].groupby( 'polyester' ).mean().reset_index()\n",
    "\n",
    "result = round( ( 1 - h5.iloc[1,1] /h5.iloc[0,1] ) * 100 , 2 )\n",
    "print( 'Na verdade, está {}% abaixo.'.format( result ) )\n",
    "\n",
    "plt.bar( h5['polyester'], h5['product_price'] )\n",
    "plt.title( 'Mean price per with/without polyester' )\n",
    "plt.show()"
   ]
  },
  {
   "cell_type": "markdown",
   "id": "afa060a8",
   "metadata": {
    "heading_collapsed": true,
    "hidden": true
   },
   "source": [
    "## 4.2 Answering Business Questions"
   ]
  },
  {
   "cell_type": "markdown",
   "id": "bb04ee8a",
   "metadata": {
    "hidden": true
   },
   "source": [
    "- 1. Qual o melhor preço de venda para as calças?\n",
    "- 2. Quantos tipos de calças e suas cores para o produto inicial?\n",
    "- 3. Quais as matérias-prima necessárias para confeccionar as calças?"
   ]
  },
  {
   "cell_type": "code",
   "execution_count": 34,
   "id": "2b8f7051",
   "metadata": {
    "ExecuteTime": {
     "end_time": "2023-01-13T16:43:35.046441Z",
     "start_time": "2023-01-13T16:43:35.041174Z"
    },
    "hidden": true
   },
   "outputs": [],
   "source": [
    "# 01 amount for blue e black varitations\n",
    "# 02 mean price per fit"
   ]
  },
  {
   "cell_type": "code",
   "execution_count": 35,
   "id": "2057031a",
   "metadata": {
    "ExecuteTime": {
     "end_time": "2023-01-13T16:43:36.289112Z",
     "start_time": "2023-01-13T16:43:36.272459Z"
    },
    "hidden": true
   },
   "outputs": [
    {
     "data": {
      "text/html": [
       "<div>\n",
       "<style scoped>\n",
       "    .dataframe tbody tr th:only-of-type {\n",
       "        vertical-align: middle;\n",
       "    }\n",
       "\n",
       "    .dataframe tbody tr th {\n",
       "        vertical-align: top;\n",
       "    }\n",
       "\n",
       "    .dataframe thead th {\n",
       "        text-align: right;\n",
       "    }\n",
       "</style>\n",
       "<table border=\"1\" class=\"dataframe\">\n",
       "  <thead>\n",
       "    <tr style=\"text-align: right;\">\n",
       "      <th></th>\n",
       "      <th>product_id</th>\n",
       "      <th>style_id</th>\n",
       "      <th>color_id</th>\n",
       "      <th>product_name</th>\n",
       "      <th>product_color</th>\n",
       "      <th>product_fit</th>\n",
       "      <th>product_price</th>\n",
       "      <th>cotton</th>\n",
       "      <th>polyester</th>\n",
       "      <th>spandex</th>\n",
       "      <th>scrapy_datetime</th>\n",
       "      <th>general_color</th>\n",
       "    </tr>\n",
       "  </thead>\n",
       "  <tbody>\n",
       "    <tr>\n",
       "      <th>0</th>\n",
       "      <td>1024256001</td>\n",
       "      <td>1024256</td>\n",
       "      <td>1</td>\n",
       "      <td>slim_jeans</td>\n",
       "      <td>black</td>\n",
       "      <td>slim_fit</td>\n",
       "      <td>24.99</td>\n",
       "      <td>1</td>\n",
       "      <td>1</td>\n",
       "      <td>1</td>\n",
       "      <td>2023-01-09 12:48:50</td>\n",
       "      <td>black</td>\n",
       "    </tr>\n",
       "    <tr>\n",
       "      <th>1</th>\n",
       "      <td>1024256002</td>\n",
       "      <td>1024256</td>\n",
       "      <td>2</td>\n",
       "      <td>slim_jeans</td>\n",
       "      <td>light_blue</td>\n",
       "      <td>slim_fit</td>\n",
       "      <td>24.99</td>\n",
       "      <td>1</td>\n",
       "      <td>1</td>\n",
       "      <td>1</td>\n",
       "      <td>2023-01-09 12:48:50</td>\n",
       "      <td>blue</td>\n",
       "    </tr>\n",
       "    <tr>\n",
       "      <th>2</th>\n",
       "      <td>1024256003</td>\n",
       "      <td>1024256</td>\n",
       "      <td>3</td>\n",
       "      <td>slim_jeans</td>\n",
       "      <td>light_blue</td>\n",
       "      <td>slim_fit</td>\n",
       "      <td>24.99</td>\n",
       "      <td>1</td>\n",
       "      <td>1</td>\n",
       "      <td>1</td>\n",
       "      <td>2023-01-09 12:48:50</td>\n",
       "      <td>blue</td>\n",
       "    </tr>\n",
       "    <tr>\n",
       "      <th>3</th>\n",
       "      <td>1024256004</td>\n",
       "      <td>1024256</td>\n",
       "      <td>4</td>\n",
       "      <td>slim_jeans</td>\n",
       "      <td>blue</td>\n",
       "      <td>slim_fit</td>\n",
       "      <td>24.99</td>\n",
       "      <td>1</td>\n",
       "      <td>1</td>\n",
       "      <td>1</td>\n",
       "      <td>2023-01-09 12:48:50</td>\n",
       "      <td>blue</td>\n",
       "    </tr>\n",
       "    <tr>\n",
       "      <th>4</th>\n",
       "      <td>1024256005</td>\n",
       "      <td>1024256</td>\n",
       "      <td>5</td>\n",
       "      <td>slim_jeans</td>\n",
       "      <td>dark_blue</td>\n",
       "      <td>slim_fit</td>\n",
       "      <td>24.99</td>\n",
       "      <td>1</td>\n",
       "      <td>1</td>\n",
       "      <td>1</td>\n",
       "      <td>2023-01-09 12:48:50</td>\n",
       "      <td>blue</td>\n",
       "    </tr>\n",
       "    <tr>\n",
       "      <th>...</th>\n",
       "      <td>...</td>\n",
       "      <td>...</td>\n",
       "      <td>...</td>\n",
       "      <td>...</td>\n",
       "      <td>...</td>\n",
       "      <td>...</td>\n",
       "      <td>...</td>\n",
       "      <td>...</td>\n",
       "      <td>...</td>\n",
       "      <td>...</td>\n",
       "      <td>...</td>\n",
       "      <td>...</td>\n",
       "    </tr>\n",
       "    <tr>\n",
       "      <th>927</th>\n",
       "      <td>985197005</td>\n",
       "      <td>985197</td>\n",
       "      <td>5</td>\n",
       "      <td>slim_jeans</td>\n",
       "      <td>dark_blue</td>\n",
       "      <td>slim_fit</td>\n",
       "      <td>15.99</td>\n",
       "      <td>1</td>\n",
       "      <td>0</td>\n",
       "      <td>1</td>\n",
       "      <td>2023-01-13 10:15:14</td>\n",
       "      <td>blue</td>\n",
       "    </tr>\n",
       "    <tr>\n",
       "      <th>928</th>\n",
       "      <td>985197006</td>\n",
       "      <td>985197</td>\n",
       "      <td>6</td>\n",
       "      <td>slim_jeans</td>\n",
       "      <td>light_blue</td>\n",
       "      <td>slim_fit</td>\n",
       "      <td>19.99</td>\n",
       "      <td>1</td>\n",
       "      <td>0</td>\n",
       "      <td>1</td>\n",
       "      <td>2023-01-13 10:15:14</td>\n",
       "      <td>blue</td>\n",
       "    </tr>\n",
       "    <tr>\n",
       "      <th>929</th>\n",
       "      <td>985197007</td>\n",
       "      <td>985197</td>\n",
       "      <td>7</td>\n",
       "      <td>slim_jeans</td>\n",
       "      <td>dark_gray</td>\n",
       "      <td>slim_fit</td>\n",
       "      <td>19.99</td>\n",
       "      <td>1</td>\n",
       "      <td>0</td>\n",
       "      <td>1</td>\n",
       "      <td>2023-01-13 10:15:14</td>\n",
       "      <td>gray</td>\n",
       "    </tr>\n",
       "    <tr>\n",
       "      <th>930</th>\n",
       "      <td>1025726002</td>\n",
       "      <td>1025726</td>\n",
       "      <td>2</td>\n",
       "      <td>relaxed_jeans</td>\n",
       "      <td>light_blue</td>\n",
       "      <td>relaxed_fit</td>\n",
       "      <td>11.99</td>\n",
       "      <td>1</td>\n",
       "      <td>0</td>\n",
       "      <td>1</td>\n",
       "      <td>2023-01-13 10:15:14</td>\n",
       "      <td>blue</td>\n",
       "    </tr>\n",
       "    <tr>\n",
       "      <th>931</th>\n",
       "      <td>1025726003</td>\n",
       "      <td>1025726</td>\n",
       "      <td>3</td>\n",
       "      <td>relaxed_jeans</td>\n",
       "      <td>graphite_gray</td>\n",
       "      <td>relaxed_fit</td>\n",
       "      <td>39.99</td>\n",
       "      <td>1</td>\n",
       "      <td>0</td>\n",
       "      <td>1</td>\n",
       "      <td>2023-01-13 10:15:14</td>\n",
       "      <td>gray</td>\n",
       "    </tr>\n",
       "  </tbody>\n",
       "</table>\n",
       "<p>932 rows × 12 columns</p>\n",
       "</div>"
      ],
      "text/plain": [
       "     product_id  style_id  color_id   product_name  product_color  product_fit  product_price  cotton  polyester  spandex     scrapy_datetime general_color\n",
       "0    1024256001   1024256         1     slim_jeans          black     slim_fit          24.99       1          1        1 2023-01-09 12:48:50         black\n",
       "1    1024256002   1024256         2     slim_jeans     light_blue     slim_fit          24.99       1          1        1 2023-01-09 12:48:50          blue\n",
       "2    1024256003   1024256         3     slim_jeans     light_blue     slim_fit          24.99       1          1        1 2023-01-09 12:48:50          blue\n",
       "3    1024256004   1024256         4     slim_jeans           blue     slim_fit          24.99       1          1        1 2023-01-09 12:48:50          blue\n",
       "4    1024256005   1024256         5     slim_jeans      dark_blue     slim_fit          24.99       1          1        1 2023-01-09 12:48:50          blue\n",
       "..          ...       ...       ...            ...            ...          ...            ...     ...        ...      ...                 ...           ...\n",
       "927   985197005    985197         5     slim_jeans      dark_blue     slim_fit          15.99       1          0        1 2023-01-13 10:15:14          blue\n",
       "928   985197006    985197         6     slim_jeans     light_blue     slim_fit          19.99       1          0        1 2023-01-13 10:15:14          blue\n",
       "929   985197007    985197         7     slim_jeans      dark_gray     slim_fit          19.99       1          0        1 2023-01-13 10:15:14          gray\n",
       "930  1025726002   1025726         2  relaxed_jeans     light_blue  relaxed_fit          11.99       1          0        1 2023-01-13 10:15:14          blue\n",
       "931  1025726003   1025726         3  relaxed_jeans  graphite_gray  relaxed_fit          39.99       1          0        1 2023-01-13 10:15:14          gray\n",
       "\n",
       "[932 rows x 12 columns]"
      ]
     },
     "execution_count": 35,
     "metadata": {},
     "output_type": "execute_result"
    }
   ],
   "source": [
    "df4.loc[df4['scrapy_datetime'] > '2023-01-09 10:15:23']"
   ]
  },
  {
   "cell_type": "code",
   "execution_count": 36,
   "id": "596abfae",
   "metadata": {
    "ExecuteTime": {
     "end_time": "2023-01-13T16:43:38.889993Z",
     "start_time": "2023-01-13T16:43:38.885791Z"
    },
    "hidden": true
   },
   "outputs": [],
   "source": [
    "# 01 amount per blue and black variates\n",
    "# 02 mean price per fit"
   ]
  },
  {
   "cell_type": "code",
   "execution_count": 37,
   "id": "851d29ff",
   "metadata": {
    "ExecuteTime": {
     "end_time": "2023-01-13T16:43:56.686179Z",
     "start_time": "2023-01-13T16:43:56.666148Z"
    },
    "cell_style": "split",
    "hidden": true,
    "hide_input": true
   },
   "outputs": [
    {
     "data": {
      "text/html": [
       "<div>\n",
       "<style scoped>\n",
       "    .dataframe tbody tr th:only-of-type {\n",
       "        vertical-align: middle;\n",
       "    }\n",
       "\n",
       "    .dataframe tbody tr th {\n",
       "        vertical-align: top;\n",
       "    }\n",
       "\n",
       "    .dataframe thead th {\n",
       "        text-align: right;\n",
       "    }\n",
       "</style>\n",
       "<table border=\"1\" class=\"dataframe\">\n",
       "  <thead>\n",
       "    <tr style=\"text-align: right;\">\n",
       "      <th></th>\n",
       "      <th>color</th>\n",
       "      <th>amount</th>\n",
       "      <th>percentage</th>\n",
       "    </tr>\n",
       "  </thead>\n",
       "  <tbody>\n",
       "    <tr>\n",
       "      <th>0</th>\n",
       "      <td>blue</td>\n",
       "      <td>184</td>\n",
       "      <td>24.66</td>\n",
       "    </tr>\n",
       "    <tr>\n",
       "      <th>1</th>\n",
       "      <td>light_blue</td>\n",
       "      <td>179</td>\n",
       "      <td>23.99</td>\n",
       "    </tr>\n",
       "    <tr>\n",
       "      <th>2</th>\n",
       "      <td>black</td>\n",
       "      <td>144</td>\n",
       "      <td>19.30</td>\n",
       "    </tr>\n",
       "    <tr>\n",
       "      <th>3</th>\n",
       "      <td>dark_blue</td>\n",
       "      <td>130</td>\n",
       "      <td>17.43</td>\n",
       "    </tr>\n",
       "    <tr>\n",
       "      <th>4</th>\n",
       "      <td>pale_blue</td>\n",
       "      <td>25</td>\n",
       "      <td>3.35</td>\n",
       "    </tr>\n",
       "  </tbody>\n",
       "</table>\n",
       "</div>"
      ],
      "text/plain": [
       "        color  amount  percentage\n",
       "0        blue     184       24.66\n",
       "1  light_blue     179       23.99\n",
       "2       black     144       19.30\n",
       "3   dark_blue     130       17.43\n",
       "4   pale_blue      25        3.35"
      ]
     },
     "execution_count": 37,
     "metadata": {},
     "output_type": "execute_result"
    }
   ],
   "source": [
    "aux_amount = df4.loc[df4['product_color'].str.contains( 'blue', na=True ) | df4['product_color'].str.contains( 'black', na=True ),\n",
    "        ['product_color', 'product_id']].groupby( 'product_color' ).count().sort_values( 'product_id', ascending=False ).reset_index()\n",
    "aux_amount.columns = ['color', 'amount']\n",
    "aux_amount['percentage'] = aux_amount['amount'].apply( lambda x: x / aux_amount['amount'].sum() * 100 )\n",
    "aux_amount.head(5)"
   ]
  },
  {
   "cell_type": "code",
   "execution_count": 39,
   "id": "6e3ac584",
   "metadata": {
    "ExecuteTime": {
     "end_time": "2023-01-13T16:45:22.961095Z",
     "start_time": "2023-01-13T16:45:22.945764Z"
    },
    "cell_style": "split",
    "hidden": true,
    "hide_input": true
   },
   "outputs": [
    {
     "data": {
      "text/html": [
       "<div>\n",
       "<style scoped>\n",
       "    .dataframe tbody tr th:only-of-type {\n",
       "        vertical-align: middle;\n",
       "    }\n",
       "\n",
       "    .dataframe tbody tr th {\n",
       "        vertical-align: top;\n",
       "    }\n",
       "\n",
       "    .dataframe thead th {\n",
       "        text-align: right;\n",
       "    }\n",
       "</style>\n",
       "<table border=\"1\" class=\"dataframe\">\n",
       "  <thead>\n",
       "    <tr style=\"text-align: right;\">\n",
       "      <th></th>\n",
       "      <th>product_fit</th>\n",
       "      <th>product_price</th>\n",
       "    </tr>\n",
       "  </thead>\n",
       "  <tbody>\n",
       "    <tr>\n",
       "      <th>0</th>\n",
       "      <td>loose_fit</td>\n",
       "      <td>40.17</td>\n",
       "    </tr>\n",
       "    <tr>\n",
       "      <th>1</th>\n",
       "      <td>relaxed_fit</td>\n",
       "      <td>34.33</td>\n",
       "    </tr>\n",
       "    <tr>\n",
       "      <th>2</th>\n",
       "      <td>slim_fit</td>\n",
       "      <td>31.61</td>\n",
       "    </tr>\n",
       "    <tr>\n",
       "      <th>3</th>\n",
       "      <td>regular_fit</td>\n",
       "      <td>27.71</td>\n",
       "    </tr>\n",
       "    <tr>\n",
       "      <th>4</th>\n",
       "      <td>skinny_fit</td>\n",
       "      <td>27.13</td>\n",
       "    </tr>\n",
       "  </tbody>\n",
       "</table>\n",
       "</div>"
      ],
      "text/plain": [
       "   product_fit  product_price\n",
       "0    loose_fit          40.17\n",
       "1  relaxed_fit          34.33\n",
       "2     slim_fit          31.61\n",
       "3  regular_fit          27.71\n",
       "4   skinny_fit          27.13"
      ]
     },
     "execution_count": 39,
     "metadata": {},
     "output_type": "execute_result"
    }
   ],
   "source": [
    "df4[['product_fit', 'product_price']].groupby( 'product_fit' ).mean().sort_values( 'product_price', ascending=False ).reset_index()"
   ]
  },
  {
   "cell_type": "code",
   "execution_count": 40,
   "id": "8bac4821",
   "metadata": {
    "ExecuteTime": {
     "end_time": "2023-01-13T16:45:23.175204Z",
     "start_time": "2023-01-13T16:45:23.172772Z"
    },
    "cell_style": "center",
    "hidden": true,
    "hide_input": false
   },
   "outputs": [],
   "source": [
    "# 01 mean price per color\n",
    "# 02 mean price per color for only regular fit"
   ]
  },
  {
   "cell_type": "code",
   "execution_count": 41,
   "id": "44442bb3",
   "metadata": {
    "ExecuteTime": {
     "end_time": "2023-01-13T16:45:23.470100Z",
     "start_time": "2023-01-13T16:45:23.451800Z"
    },
    "cell_style": "split",
    "hidden": true,
    "hide_input": true
   },
   "outputs": [
    {
     "data": {
      "text/html": [
       "<div>\n",
       "<style scoped>\n",
       "    .dataframe tbody tr th:only-of-type {\n",
       "        vertical-align: middle;\n",
       "    }\n",
       "\n",
       "    .dataframe tbody tr th {\n",
       "        vertical-align: top;\n",
       "    }\n",
       "\n",
       "    .dataframe thead th {\n",
       "        text-align: right;\n",
       "    }\n",
       "</style>\n",
       "<table border=\"1\" class=\"dataframe\">\n",
       "  <thead>\n",
       "    <tr style=\"text-align: right;\">\n",
       "      <th></th>\n",
       "      <th>color</th>\n",
       "      <th>mean_price</th>\n",
       "    </tr>\n",
       "  </thead>\n",
       "  <tbody>\n",
       "    <tr>\n",
       "      <th>0</th>\n",
       "      <td>black/no_fade_black</td>\n",
       "      <td>44.99</td>\n",
       "    </tr>\n",
       "    <tr>\n",
       "      <th>1</th>\n",
       "      <td>black/patterned</td>\n",
       "      <td>39.99</td>\n",
       "    </tr>\n",
       "    <tr>\n",
       "      <th>2</th>\n",
       "      <td>black/trashed</td>\n",
       "      <td>39.99</td>\n",
       "    </tr>\n",
       "    <tr>\n",
       "      <th>3</th>\n",
       "      <td>blue</td>\n",
       "      <td>33.01</td>\n",
       "    </tr>\n",
       "    <tr>\n",
       "      <th>4</th>\n",
       "      <td>pale_blue</td>\n",
       "      <td>32.39</td>\n",
       "    </tr>\n",
       "    <tr>\n",
       "      <th>5</th>\n",
       "      <td>black</td>\n",
       "      <td>32.28</td>\n",
       "    </tr>\n",
       "    <tr>\n",
       "      <th>6</th>\n",
       "      <td>dark_blue</td>\n",
       "      <td>31.14</td>\n",
       "    </tr>\n",
       "    <tr>\n",
       "      <th>7</th>\n",
       "      <td>light_blue</td>\n",
       "      <td>29.96</td>\n",
       "    </tr>\n",
       "    <tr>\n",
       "      <th>8</th>\n",
       "      <td>light_blue/trashed</td>\n",
       "      <td>26.99</td>\n",
       "    </tr>\n",
       "    <tr>\n",
       "      <th>9</th>\n",
       "      <td>dark_blue/trashed</td>\n",
       "      <td>23.49</td>\n",
       "    </tr>\n",
       "  </tbody>\n",
       "</table>\n",
       "</div>"
      ],
      "text/plain": [
       "                 color  mean_price\n",
       "0  black/no_fade_black       44.99\n",
       "1      black/patterned       39.99\n",
       "2        black/trashed       39.99\n",
       "3                 blue       33.01\n",
       "4            pale_blue       32.39\n",
       "5                black       32.28\n",
       "6            dark_blue       31.14\n",
       "7           light_blue       29.96\n",
       "8   light_blue/trashed       26.99\n",
       "9    dark_blue/trashed       23.49"
      ]
     },
     "execution_count": 41,
     "metadata": {},
     "output_type": "execute_result"
    }
   ],
   "source": [
    "aux_price = df4.loc[df4['product_color'].str.contains( 'blue', na=True ) | df4['product_color'].str.contains( 'black', na=True ),\n",
    "        ['product_color', 'product_price']].groupby( 'product_color' ).mean().sort_values( 'product_price', ascending=False ).reset_index()\n",
    "aux_price.columns = ['color', 'mean_price']\n",
    "aux_price.head(10)"
   ]
  },
  {
   "cell_type": "code",
   "execution_count": 42,
   "id": "cf405863",
   "metadata": {
    "ExecuteTime": {
     "end_time": "2023-01-13T16:45:23.856508Z",
     "start_time": "2023-01-13T16:45:23.841698Z"
    },
    "cell_style": "split",
    "hidden": true,
    "hide_input": true
   },
   "outputs": [
    {
     "data": {
      "text/html": [
       "<div>\n",
       "<style scoped>\n",
       "    .dataframe tbody tr th:only-of-type {\n",
       "        vertical-align: middle;\n",
       "    }\n",
       "\n",
       "    .dataframe tbody tr th {\n",
       "        vertical-align: top;\n",
       "    }\n",
       "\n",
       "    .dataframe thead th {\n",
       "        text-align: right;\n",
       "    }\n",
       "</style>\n",
       "<table border=\"1\" class=\"dataframe\">\n",
       "  <thead>\n",
       "    <tr style=\"text-align: right;\">\n",
       "      <th></th>\n",
       "      <th>color</th>\n",
       "      <th>mean_price</th>\n",
       "    </tr>\n",
       "  </thead>\n",
       "  <tbody>\n",
       "    <tr>\n",
       "      <th>0</th>\n",
       "      <td>black/no_fade_black</td>\n",
       "      <td>44.99</td>\n",
       "    </tr>\n",
       "    <tr>\n",
       "      <th>1</th>\n",
       "      <td>black/patterned</td>\n",
       "      <td>39.99</td>\n",
       "    </tr>\n",
       "    <tr>\n",
       "      <th>2</th>\n",
       "      <td>black/trashed</td>\n",
       "      <td>39.99</td>\n",
       "    </tr>\n",
       "    <tr>\n",
       "      <th>3</th>\n",
       "      <td>blue</td>\n",
       "      <td>33.01</td>\n",
       "    </tr>\n",
       "    <tr>\n",
       "      <th>4</th>\n",
       "      <td>pale_blue</td>\n",
       "      <td>32.39</td>\n",
       "    </tr>\n",
       "    <tr>\n",
       "      <th>5</th>\n",
       "      <td>black</td>\n",
       "      <td>32.28</td>\n",
       "    </tr>\n",
       "    <tr>\n",
       "      <th>6</th>\n",
       "      <td>dark_blue</td>\n",
       "      <td>31.14</td>\n",
       "    </tr>\n",
       "    <tr>\n",
       "      <th>7</th>\n",
       "      <td>light_blue</td>\n",
       "      <td>29.96</td>\n",
       "    </tr>\n",
       "    <tr>\n",
       "      <th>8</th>\n",
       "      <td>light_blue/trashed</td>\n",
       "      <td>26.99</td>\n",
       "    </tr>\n",
       "    <tr>\n",
       "      <th>9</th>\n",
       "      <td>dark_blue/trashed</td>\n",
       "      <td>23.49</td>\n",
       "    </tr>\n",
       "  </tbody>\n",
       "</table>\n",
       "</div>"
      ],
      "text/plain": [
       "                 color  mean_price\n",
       "0  black/no_fade_black       44.99\n",
       "1      black/patterned       39.99\n",
       "2        black/trashed       39.99\n",
       "3                 blue       33.01\n",
       "4            pale_blue       32.39\n",
       "5                black       32.28\n",
       "6            dark_blue       31.14\n",
       "7           light_blue       29.96\n",
       "8   light_blue/trashed       26.99\n",
       "9    dark_blue/trashed       23.49"
      ]
     },
     "execution_count": 42,
     "metadata": {},
     "output_type": "execute_result"
    }
   ],
   "source": [
    "aux_fit = df4.loc[df4['product_fit'] == 'regular_fit', :]\n",
    "aux_fit = df4.loc[(df4['product_color'].str.contains( 'blue', na=True ) | df4['product_color'].str.contains( 'black', na=True )),\n",
    "                  ['product_color', 'product_price']].groupby( 'product_color' ).mean().sort_values( 'product_price', ascending=False ).reset_index()\n",
    "aux_fit.columns = ['color', 'mean_price']\n",
    "aux_fit.head(10)"
   ]
  },
  {
   "cell_type": "code",
   "execution_count": 43,
   "id": "9fd3bc09",
   "metadata": {
    "ExecuteTime": {
     "end_time": "2023-01-13T16:45:26.855729Z",
     "start_time": "2023-01-13T16:45:26.851092Z"
    },
    "hidden": true
   },
   "outputs": [],
   "source": [
    "# 01 amount per with/without polyester for both regular fit and skinny_fit\n",
    "# 02 mean price per with/without polyester for both regular fit and skinny_fit"
   ]
  },
  {
   "cell_type": "code",
   "execution_count": 45,
   "id": "843cd3d0",
   "metadata": {
    "ExecuteTime": {
     "end_time": "2023-01-13T16:45:41.754072Z",
     "start_time": "2023-01-13T16:45:41.685109Z"
    },
    "cell_style": "split",
    "hidden": true,
    "hide_input": true
   },
   "outputs": [
    {
     "data": {
      "image/png": "[encoded data removed]",
      "text/plain": [
       "<Figure size 1500x600 with 1 Axes>"
      ]
     },
     "metadata": {},
     "output_type": "display_data"
    }
   ],
   "source": [
    "aux_composition = df4.loc[(df4['product_fit'] == 'regular_fit') | (df4['product_fit'] == 'skinny_fit'), :]\n",
    "aux_composition = aux_composition[['polyester', 'product_id']].groupby( 'polyester' ).count().reset_index()\n",
    "aux_composition.columns = ['polyester', 'amount']\n",
    "\n",
    "plt.pie( [aux_composition.iloc[1,1], aux_composition.iloc[0,1]],labels = ['yes', 'no'], autopct='%.2f%%' )\n",
    "plt.title( 'With/without polyester' )\n",
    "plt.show()"
   ]
  },
  {
   "cell_type": "code",
   "execution_count": 48,
   "id": "39040b19",
   "metadata": {
    "ExecuteTime": {
     "end_time": "2023-01-13T16:46:14.047996Z",
     "start_time": "2023-01-13T16:46:14.031102Z"
    },
    "cell_style": "split",
    "hidden": true,
    "hide_input": true
   },
   "outputs": [
    {
     "name": "stdout",
     "output_type": "stream",
     "text": [
      "A diferença é de 4.8%\n"
     ]
    },
    {
     "data": {
      "text/html": [
       "<div>\n",
       "<style scoped>\n",
       "    .dataframe tbody tr th:only-of-type {\n",
       "        vertical-align: middle;\n",
       "    }\n",
       "\n",
       "    .dataframe tbody tr th {\n",
       "        vertical-align: top;\n",
       "    }\n",
       "\n",
       "    .dataframe thead th {\n",
       "        text-align: right;\n",
       "    }\n",
       "</style>\n",
       "<table border=\"1\" class=\"dataframe\">\n",
       "  <thead>\n",
       "    <tr style=\"text-align: right;\">\n",
       "      <th></th>\n",
       "      <th>polyester</th>\n",
       "      <th>mean_price</th>\n",
       "    </tr>\n",
       "  </thead>\n",
       "  <tbody>\n",
       "    <tr>\n",
       "      <th>0</th>\n",
       "      <td>0</td>\n",
       "      <td>28.18</td>\n",
       "    </tr>\n",
       "    <tr>\n",
       "      <th>1</th>\n",
       "      <td>1</td>\n",
       "      <td>26.83</td>\n",
       "    </tr>\n",
       "  </tbody>\n",
       "</table>\n",
       "</div>"
      ],
      "text/plain": [
       "   polyester  mean_price\n",
       "0          0       28.18\n",
       "1          1       26.83"
      ]
     },
     "execution_count": 48,
     "metadata": {},
     "output_type": "execute_result"
    }
   ],
   "source": [
    "aux_composition = df4.loc[(df4['product_fit'] == 'regular_fit') | (df4['product_fit'] == 'skinny_fit'), :]\n",
    "aux_composition = aux_composition[['polyester', 'product_price']].groupby( 'polyester' ).mean().reset_index()\n",
    "aux_composition.columns = ['polyester', 'mean_price']\n",
    "\n",
    "result = round( (aux_composition.iloc[0, 1] - aux_composition.iloc[1,1]) / aux_composition.iloc[0,1] * 100, 2 )\n",
    "print( 'A diferença é de {}%'.format( result ) )\n",
    "\n",
    "aux_composition"
   ]
  },
  {
   "cell_type": "code",
   "execution_count": 49,
   "id": "39aedf27",
   "metadata": {
    "ExecuteTime": {
     "end_time": "2023-01-13T16:46:14.913289Z",
     "start_time": "2023-01-13T16:46:14.907822Z"
    },
    "hidden": true
   },
   "outputs": [],
   "source": [
    "# 01 amount per with/without polyester for only regular fit\n",
    "# 02 mean price per with/without polyester for only regular fit"
   ]
  },
  {
   "cell_type": "code",
   "execution_count": 51,
   "id": "5a04ec3d",
   "metadata": {
    "ExecuteTime": {
     "end_time": "2023-01-13T16:46:25.627231Z",
     "start_time": "2023-01-13T16:46:25.555618Z"
    },
    "cell_style": "split",
    "hidden": true,
    "hide_input": true
   },
   "outputs": [
    {
     "data": {
      "image/png": "[encoded data removed]",
      "text/plain": [
       "<Figure size 1500x600 with 1 Axes>"
      ]
     },
     "metadata": {},
     "output_type": "display_data"
    }
   ],
   "source": [
    "aux_composition = df4.loc[df4['product_fit'] == 'regular_fit', :]\n",
    "aux_composition = aux_composition[['polyester', 'product_id']].groupby( 'polyester' ).count().reset_index()\n",
    "aux_composition.columns = ['polyester', 'amount']\n",
    "\n",
    "plt.pie( [aux_composition.iloc[1,1], aux_composition.iloc[0,1]],labels = ['yes', 'no'], autopct='%.2f%%' )\n",
    "plt.title( 'With/without polyester' )\n",
    "plt.show()"
   ]
  },
  {
   "cell_type": "code",
   "execution_count": 52,
   "id": "a62a9d90",
   "metadata": {
    "ExecuteTime": {
     "end_time": "2023-01-13T16:46:26.618902Z",
     "start_time": "2023-01-13T16:46:26.602445Z"
    },
    "cell_style": "split",
    "hidden": true,
    "hide_input": true
   },
   "outputs": [
    {
     "name": "stdout",
     "output_type": "stream",
     "text": [
      "A diferença é de 7.84%\n"
     ]
    },
    {
     "data": {
      "text/html": [
       "<div>\n",
       "<style scoped>\n",
       "    .dataframe tbody tr th:only-of-type {\n",
       "        vertical-align: middle;\n",
       "    }\n",
       "\n",
       "    .dataframe tbody tr th {\n",
       "        vertical-align: top;\n",
       "    }\n",
       "\n",
       "    .dataframe thead th {\n",
       "        text-align: right;\n",
       "    }\n",
       "</style>\n",
       "<table border=\"1\" class=\"dataframe\">\n",
       "  <thead>\n",
       "    <tr style=\"text-align: right;\">\n",
       "      <th></th>\n",
       "      <th>polyester</th>\n",
       "      <th>mean_price</th>\n",
       "    </tr>\n",
       "  </thead>\n",
       "  <tbody>\n",
       "    <tr>\n",
       "      <th>0</th>\n",
       "      <td>0</td>\n",
       "      <td>28.40</td>\n",
       "    </tr>\n",
       "    <tr>\n",
       "      <th>1</th>\n",
       "      <td>1</td>\n",
       "      <td>26.17</td>\n",
       "    </tr>\n",
       "  </tbody>\n",
       "</table>\n",
       "</div>"
      ],
      "text/plain": [
       "   polyester  mean_price\n",
       "0          0       28.40\n",
       "1          1       26.17"
      ]
     },
     "execution_count": 52,
     "metadata": {},
     "output_type": "execute_result"
    }
   ],
   "source": [
    "aux_composition = df4.loc[df4['product_fit'] == 'regular_fit', :]\n",
    "aux_composition = aux_composition[['polyester', 'product_price']].groupby( 'polyester' ).mean().reset_index()\n",
    "aux_composition.columns = ['polyester', 'mean_price']\n",
    "\n",
    "result = round( (aux_composition.iloc[0, 1] - aux_composition.iloc[1,1]) / aux_composition.iloc[0,1] * 100, 2 )\n",
    "print( 'A diferença é de {}%'.format( result ) )\n",
    "\n",
    "aux_composition"
   ]
  },
  {
   "cell_type": "code",
   "execution_count": 53,
   "id": "c3a1607c",
   "metadata": {
    "ExecuteTime": {
     "end_time": "2023-01-13T16:46:50.627715Z",
     "start_time": "2023-01-13T16:46:50.622924Z"
    },
    "hidden": true
   },
   "outputs": [],
   "source": [
    "# 01 amount per with/without polyester for only skinny_fit\n",
    "# 02 mean price per with/without polyester for only skinny_fit"
   ]
  },
  {
   "cell_type": "code",
   "execution_count": 55,
   "id": "471bf083",
   "metadata": {
    "ExecuteTime": {
     "end_time": "2023-01-13T16:46:52.878726Z",
     "start_time": "2023-01-13T16:46:52.755901Z"
    },
    "cell_style": "split",
    "hidden": true,
    "hide_input": true
   },
   "outputs": [
    {
     "data": {
      "image/png": "[encoded data removed]",
      "text/plain": [
       "<Figure size 1500x600 with 1 Axes>"
      ]
     },
     "metadata": {},
     "output_type": "display_data"
    }
   ],
   "source": [
    "aux_composition = df4.loc[df4['product_fit'] == 'skinny_fit', :]\n",
    "aux_composition = aux_composition[['polyester', 'product_id']].groupby( 'polyester' ).count().reset_index()\n",
    "aux_composition.columns = ['polyester', 'amount']\n",
    "\n",
    "plt.pie( [aux_composition.iloc[1,1], aux_composition.iloc[0,1]],labels = ['yes', 'no'], autopct='%.2f%%' )\n",
    "plt.title( 'With/without polyester' )\n",
    "plt.show()"
   ]
  },
  {
   "cell_type": "code",
   "execution_count": 56,
   "id": "e8cd1eec",
   "metadata": {
    "ExecuteTime": {
     "end_time": "2023-01-13T16:46:53.491216Z",
     "start_time": "2023-01-13T16:46:53.474223Z"
    },
    "cell_style": "split",
    "hidden": true,
    "hide_input": true
   },
   "outputs": [
    {
     "name": "stdout",
     "output_type": "stream",
     "text": [
      "A diferença é de -1.37%\n"
     ]
    },
    {
     "data": {
      "text/html": [
       "<div>\n",
       "<style scoped>\n",
       "    .dataframe tbody tr th:only-of-type {\n",
       "        vertical-align: middle;\n",
       "    }\n",
       "\n",
       "    .dataframe tbody tr th {\n",
       "        vertical-align: top;\n",
       "    }\n",
       "\n",
       "    .dataframe thead th {\n",
       "        text-align: right;\n",
       "    }\n",
       "</style>\n",
       "<table border=\"1\" class=\"dataframe\">\n",
       "  <thead>\n",
       "    <tr style=\"text-align: right;\">\n",
       "      <th></th>\n",
       "      <th>polyester</th>\n",
       "      <th>mean_price</th>\n",
       "    </tr>\n",
       "  </thead>\n",
       "  <tbody>\n",
       "    <tr>\n",
       "      <th>0</th>\n",
       "      <td>0</td>\n",
       "      <td>26.82</td>\n",
       "    </tr>\n",
       "    <tr>\n",
       "      <th>1</th>\n",
       "      <td>1</td>\n",
       "      <td>27.19</td>\n",
       "    </tr>\n",
       "  </tbody>\n",
       "</table>\n",
       "</div>"
      ],
      "text/plain": [
       "   polyester  mean_price\n",
       "0          0       26.82\n",
       "1          1       27.19"
      ]
     },
     "execution_count": 56,
     "metadata": {},
     "output_type": "execute_result"
    }
   ],
   "source": [
    "aux_composition = df4.loc[df4['product_fit'] == 'skinny_fit', :]\n",
    "aux_composition = aux_composition[['polyester', 'product_price']].groupby( 'polyester' ).mean().reset_index()\n",
    "aux_composition.columns = ['polyester', 'mean_price']\n",
    "\n",
    "result = round( (aux_composition.iloc[0, 1] - aux_composition.iloc[1,1]) / aux_composition.iloc[0,1] * 100, 2 )\n",
    "print( 'A diferença é de {}%'.format( result ) )\n",
    "\n",
    "aux_composition"
   ]
  },
  {
   "cell_type": "markdown",
   "id": "4213321b",
   "metadata": {
    "ExecuteTime": {
     "end_time": "2022-12-31T22:21:39.354489Z",
     "start_time": "2022-12-31T22:21:39.347059Z"
    },
    "heading_collapsed": true,
    "hidden": true
   },
   "source": [
    "### 4.2.1 Case 01\n",
    "\n",
    "    fits   -> regular_fit\n",
    "    colors -> black, blue"
   ]
  },
  {
   "cell_type": "code",
   "execution_count": 57,
   "id": "bdefe919",
   "metadata": {
    "ExecuteTime": {
     "end_time": "2023-01-13T16:47:03.788800Z",
     "start_time": "2023-01-13T16:47:03.779324Z"
    },
    "hidden": true
   },
   "outputs": [],
   "source": [
    "case_01 = df4.loc[(df4['product_fit'] == 'regular_fit') &\n",
    "                  ((df4['product_color'] == 'black') | (df4['product_color'] == 'blue')), :]"
   ]
  },
  {
   "cell_type": "code",
   "execution_count": 60,
   "id": "d61e38e9",
   "metadata": {
    "ExecuteTime": {
     "end_time": "2023-01-13T16:47:20.192789Z",
     "start_time": "2023-01-13T16:47:20.177228Z"
    },
    "cell_style": "split",
    "hidden": true,
    "hide_input": true
   },
   "outputs": [
    {
     "name": "stdout",
     "output_type": "stream",
     "text": [
      "Com polyester:\n",
      "O preço médio total é $28.79\n"
     ]
    },
    {
     "data": {
      "text/html": [
       "<div>\n",
       "<style scoped>\n",
       "    .dataframe tbody tr th:only-of-type {\n",
       "        vertical-align: middle;\n",
       "    }\n",
       "\n",
       "    .dataframe tbody tr th {\n",
       "        vertical-align: top;\n",
       "    }\n",
       "\n",
       "    .dataframe thead th {\n",
       "        text-align: right;\n",
       "    }\n",
       "</style>\n",
       "<table border=\"1\" class=\"dataframe\">\n",
       "  <thead>\n",
       "    <tr style=\"text-align: right;\">\n",
       "      <th></th>\n",
       "      <th>product_fit</th>\n",
       "      <th>color</th>\n",
       "      <th>mean_price</th>\n",
       "    </tr>\n",
       "  </thead>\n",
       "  <tbody>\n",
       "    <tr>\n",
       "      <th>0</th>\n",
       "      <td>regular_fit</td>\n",
       "      <td>black</td>\n",
       "      <td>26.55</td>\n",
       "    </tr>\n",
       "    <tr>\n",
       "      <th>1</th>\n",
       "      <td>regular_fit</td>\n",
       "      <td>blue</td>\n",
       "      <td>30.63</td>\n",
       "    </tr>\n",
       "  </tbody>\n",
       "</table>\n",
       "</div>"
      ],
      "text/plain": [
       "   product_fit  color  mean_price\n",
       "0  regular_fit  black       26.55\n",
       "1  regular_fit   blue       30.63"
      ]
     },
     "execution_count": 60,
     "metadata": {},
     "output_type": "execute_result"
    }
   ],
   "source": [
    "print( 'Com polyester:' )\n",
    "print( 'O preço médio total é ${}'.format( round( case_01['product_price'].mean(), 2 ) ) )\n",
    "case_01_1 = case_01[['product_fit', 'product_color', 'product_price']].groupby( ['product_fit', 'product_color'] ).mean().reset_index()\n",
    "case_01_1.columns = ['product_fit', 'color', 'mean_price']\n",
    "case_01_1"
   ]
  },
  {
   "cell_type": "code",
   "execution_count": 61,
   "id": "0c2c0895",
   "metadata": {
    "ExecuteTime": {
     "end_time": "2023-01-13T16:47:20.412661Z",
     "start_time": "2023-01-13T16:47:20.396591Z"
    },
    "cell_style": "split",
    "hidden": true,
    "hide_input": true
   },
   "outputs": [
    {
     "name": "stdout",
     "output_type": "stream",
     "text": [
      "Sem polyester:\n",
      "O preço médio total é $29.0\n"
     ]
    },
    {
     "data": {
      "text/html": [
       "<div>\n",
       "<style scoped>\n",
       "    .dataframe tbody tr th:only-of-type {\n",
       "        vertical-align: middle;\n",
       "    }\n",
       "\n",
       "    .dataframe tbody tr th {\n",
       "        vertical-align: top;\n",
       "    }\n",
       "\n",
       "    .dataframe thead th {\n",
       "        text-align: right;\n",
       "    }\n",
       "</style>\n",
       "<table border=\"1\" class=\"dataframe\">\n",
       "  <thead>\n",
       "    <tr style=\"text-align: right;\">\n",
       "      <th></th>\n",
       "      <th>product_fit</th>\n",
       "      <th>color</th>\n",
       "      <th>mean_price</th>\n",
       "    </tr>\n",
       "  </thead>\n",
       "  <tbody>\n",
       "    <tr>\n",
       "      <th>0</th>\n",
       "      <td>regular_fit</td>\n",
       "      <td>black</td>\n",
       "      <td>26.68</td>\n",
       "    </tr>\n",
       "    <tr>\n",
       "      <th>1</th>\n",
       "      <td>regular_fit</td>\n",
       "      <td>blue</td>\n",
       "      <td>30.78</td>\n",
       "    </tr>\n",
       "  </tbody>\n",
       "</table>\n",
       "</div>"
      ],
      "text/plain": [
       "   product_fit  color  mean_price\n",
       "0  regular_fit  black       26.68\n",
       "1  regular_fit   blue       30.78"
      ]
     },
     "execution_count": 61,
     "metadata": {},
     "output_type": "execute_result"
    }
   ],
   "source": [
    "print( 'Sem polyester:' )\n",
    "case_01_2 = case_01.loc[case_01['polyester'] == 0, :]\n",
    "print( 'O preço médio total é ${}'.format( round( case_01_2['product_price'].mean(), 2 ) ) )\n",
    "case_01_2 = case_01_2[['product_fit', 'product_color', 'product_price']].groupby( ['product_fit', 'product_color'] ).mean().reset_index()\n",
    "case_01_2.columns = ['product_fit', 'color', 'mean_price']\n",
    "case_01_2"
   ]
  },
  {
   "cell_type": "markdown",
   "id": "2f438aae",
   "metadata": {
    "heading_collapsed": true,
    "hidden": true
   },
   "source": [
    "### 4.2.2 Case 02\n",
    "\n",
    "    fits   -> regular_fit\n",
    "    colors -> black, blue, dark_blue, light_blue"
   ]
  },
  {
   "cell_type": "code",
   "execution_count": 62,
   "id": "a28deb53",
   "metadata": {
    "ExecuteTime": {
     "end_time": "2023-01-13T16:47:22.026411Z",
     "start_time": "2023-01-13T16:47:22.017677Z"
    },
    "hidden": true
   },
   "outputs": [],
   "source": [
    "case_02 = df4.loc[(df4['product_fit'] == 'regular_fit') &\n",
    "                  ((df4['product_color'] == 'black') | (df4['product_color'] == 'blue') |\n",
    "                   (df4['product_color'] == 'dark_blue') | (df4['product_color'] == 'light_blue')), :]"
   ]
  },
  {
   "cell_type": "code",
   "execution_count": 63,
   "id": "dbeecc6c",
   "metadata": {
    "ExecuteTime": {
     "end_time": "2023-01-13T16:47:23.063256Z",
     "start_time": "2023-01-13T16:47:23.044841Z"
    },
    "cell_style": "split",
    "hidden": true,
    "hide_input": true
   },
   "outputs": [
    {
     "name": "stdout",
     "output_type": "stream",
     "text": [
      "Com polyester:\n",
      "O preço médio total é $27.99\n"
     ]
    },
    {
     "data": {
      "text/html": [
       "<div>\n",
       "<style scoped>\n",
       "    .dataframe tbody tr th:only-of-type {\n",
       "        vertical-align: middle;\n",
       "    }\n",
       "\n",
       "    .dataframe tbody tr th {\n",
       "        vertical-align: top;\n",
       "    }\n",
       "\n",
       "    .dataframe thead th {\n",
       "        text-align: right;\n",
       "    }\n",
       "</style>\n",
       "<table border=\"1\" class=\"dataframe\">\n",
       "  <thead>\n",
       "    <tr style=\"text-align: right;\">\n",
       "      <th></th>\n",
       "      <th>product_fit</th>\n",
       "      <th>color</th>\n",
       "      <th>mean_price</th>\n",
       "    </tr>\n",
       "  </thead>\n",
       "  <tbody>\n",
       "    <tr>\n",
       "      <th>0</th>\n",
       "      <td>regular_fit</td>\n",
       "      <td>black</td>\n",
       "      <td>26.55</td>\n",
       "    </tr>\n",
       "    <tr>\n",
       "      <th>1</th>\n",
       "      <td>regular_fit</td>\n",
       "      <td>blue</td>\n",
       "      <td>30.63</td>\n",
       "    </tr>\n",
       "    <tr>\n",
       "      <th>2</th>\n",
       "      <td>regular_fit</td>\n",
       "      <td>dark_blue</td>\n",
       "      <td>27.79</td>\n",
       "    </tr>\n",
       "    <tr>\n",
       "      <th>3</th>\n",
       "      <td>regular_fit</td>\n",
       "      <td>light_blue</td>\n",
       "      <td>26.24</td>\n",
       "    </tr>\n",
       "  </tbody>\n",
       "</table>\n",
       "</div>"
      ],
      "text/plain": [
       "   product_fit       color  mean_price\n",
       "0  regular_fit       black       26.55\n",
       "1  regular_fit        blue       30.63\n",
       "2  regular_fit   dark_blue       27.79\n",
       "3  regular_fit  light_blue       26.24"
      ]
     },
     "execution_count": 63,
     "metadata": {},
     "output_type": "execute_result"
    }
   ],
   "source": [
    "print( 'Com polyester:' )\n",
    "print( 'O preço médio total é ${}'.format( round( case_02['product_price'].mean(), 2 ) ) )\n",
    "case_02_1 = case_02[['product_fit', 'product_color', 'product_price']].groupby( ['product_fit', 'product_color'] ).mean().reset_index()\n",
    "case_02_1.columns = ['product_fit', 'color', 'mean_price']\n",
    "case_02_1"
   ]
  },
  {
   "cell_type": "code",
   "execution_count": 64,
   "id": "a483ed1e",
   "metadata": {
    "ExecuteTime": {
     "end_time": "2023-01-13T16:47:23.490917Z",
     "start_time": "2023-01-13T16:47:23.475275Z"
    },
    "cell_style": "split",
    "hidden": true,
    "hide_input": true
   },
   "outputs": [
    {
     "name": "stdout",
     "output_type": "stream",
     "text": [
      "Sem polyester:\n",
      "O preço médio total é $28.72\n"
     ]
    },
    {
     "data": {
      "text/html": [
       "<div>\n",
       "<style scoped>\n",
       "    .dataframe tbody tr th:only-of-type {\n",
       "        vertical-align: middle;\n",
       "    }\n",
       "\n",
       "    .dataframe tbody tr th {\n",
       "        vertical-align: top;\n",
       "    }\n",
       "\n",
       "    .dataframe thead th {\n",
       "        text-align: right;\n",
       "    }\n",
       "</style>\n",
       "<table border=\"1\" class=\"dataframe\">\n",
       "  <thead>\n",
       "    <tr style=\"text-align: right;\">\n",
       "      <th></th>\n",
       "      <th>product_fit</th>\n",
       "      <th>color</th>\n",
       "      <th>mean_price</th>\n",
       "    </tr>\n",
       "  </thead>\n",
       "  <tbody>\n",
       "    <tr>\n",
       "      <th>0</th>\n",
       "      <td>regular_fit</td>\n",
       "      <td>black</td>\n",
       "      <td>26.68</td>\n",
       "    </tr>\n",
       "    <tr>\n",
       "      <th>1</th>\n",
       "      <td>regular_fit</td>\n",
       "      <td>blue</td>\n",
       "      <td>30.78</td>\n",
       "    </tr>\n",
       "    <tr>\n",
       "      <th>2</th>\n",
       "      <td>regular_fit</td>\n",
       "      <td>dark_blue</td>\n",
       "      <td>28.62</td>\n",
       "    </tr>\n",
       "    <tr>\n",
       "      <th>3</th>\n",
       "      <td>regular_fit</td>\n",
       "      <td>light_blue</td>\n",
       "      <td>27.95</td>\n",
       "    </tr>\n",
       "  </tbody>\n",
       "</table>\n",
       "</div>"
      ],
      "text/plain": [
       "   product_fit       color  mean_price\n",
       "0  regular_fit       black       26.68\n",
       "1  regular_fit        blue       30.78\n",
       "2  regular_fit   dark_blue       28.62\n",
       "3  regular_fit  light_blue       27.95"
      ]
     },
     "execution_count": 64,
     "metadata": {},
     "output_type": "execute_result"
    }
   ],
   "source": [
    "print( 'Sem polyester:' )\n",
    "case_02_2 = case_02.loc[case_02['polyester'] == 0, :]\n",
    "print( 'O preço médio total é ${}'.format( round( case_02_2['product_price'].mean(), 2 ) ) )\n",
    "case_02_2 = case_02_2[['product_fit', 'product_color', 'product_price']].groupby( ['product_fit', 'product_color'] ).mean().reset_index()\n",
    "case_02_2.columns = ['product_fit', 'color', 'mean_price']\n",
    "case_02_2"
   ]
  },
  {
   "cell_type": "markdown",
   "id": "c8c3dd22",
   "metadata": {
    "heading_collapsed": true,
    "hidden": true
   },
   "source": [
    "### 4.2.3 Case 03\n",
    "\n",
    "    fits   -> regular_fit, skinny_fit\n",
    "    colors -> black, blue"
   ]
  },
  {
   "cell_type": "code",
   "execution_count": 65,
   "id": "6de3b4a9",
   "metadata": {
    "ExecuteTime": {
     "end_time": "2023-01-13T16:47:31.402572Z",
     "start_time": "2023-01-13T16:47:31.397018Z"
    },
    "hidden": true
   },
   "outputs": [],
   "source": [
    "case_03 = df4.loc[((df4['product_fit'] == 'regular_fit') | (df4['product_fit'] == 'skinny_fit')) &\n",
    "                  ((df4['product_color'] == 'black') | (df4['product_color'] == 'blue')), :]"
   ]
  },
  {
   "cell_type": "code",
   "execution_count": 67,
   "id": "8b7b7990",
   "metadata": {
    "ExecuteTime": {
     "end_time": "2023-01-13T16:47:33.344516Z",
     "start_time": "2023-01-13T16:47:33.329147Z"
    },
    "cell_style": "split",
    "hidden": true,
    "hide_input": true
   },
   "outputs": [
    {
     "name": "stdout",
     "output_type": "stream",
     "text": [
      "Com polyester:\n",
      "O preço médio total é $28.49\n"
     ]
    },
    {
     "data": {
      "text/html": [
       "<div>\n",
       "<style scoped>\n",
       "    .dataframe tbody tr th:only-of-type {\n",
       "        vertical-align: middle;\n",
       "    }\n",
       "\n",
       "    .dataframe tbody tr th {\n",
       "        vertical-align: top;\n",
       "    }\n",
       "\n",
       "    .dataframe thead th {\n",
       "        text-align: right;\n",
       "    }\n",
       "</style>\n",
       "<table border=\"1\" class=\"dataframe\">\n",
       "  <thead>\n",
       "    <tr style=\"text-align: right;\">\n",
       "      <th></th>\n",
       "      <th>product_fit</th>\n",
       "      <th>color</th>\n",
       "      <th>mean_price</th>\n",
       "    </tr>\n",
       "  </thead>\n",
       "  <tbody>\n",
       "    <tr>\n",
       "      <th>0</th>\n",
       "      <td>regular_fit</td>\n",
       "      <td>black</td>\n",
       "      <td>26.55</td>\n",
       "    </tr>\n",
       "    <tr>\n",
       "      <th>1</th>\n",
       "      <td>regular_fit</td>\n",
       "      <td>blue</td>\n",
       "      <td>30.63</td>\n",
       "    </tr>\n",
       "    <tr>\n",
       "      <th>2</th>\n",
       "      <td>skinny_fit</td>\n",
       "      <td>black</td>\n",
       "      <td>31.66</td>\n",
       "    </tr>\n",
       "    <tr>\n",
       "      <th>3</th>\n",
       "      <td>skinny_fit</td>\n",
       "      <td>blue</td>\n",
       "      <td>26.28</td>\n",
       "    </tr>\n",
       "  </tbody>\n",
       "</table>\n",
       "</div>"
      ],
      "text/plain": [
       "   product_fit  color  mean_price\n",
       "0  regular_fit  black       26.55\n",
       "1  regular_fit   blue       30.63\n",
       "2   skinny_fit  black       31.66\n",
       "3   skinny_fit   blue       26.28"
      ]
     },
     "execution_count": 67,
     "metadata": {},
     "output_type": "execute_result"
    }
   ],
   "source": [
    "print( 'Com polyester:' )\n",
    "print( 'O preço médio total é ${}'.format( round( case_03['product_price'].mean(), 2 ) ) )\n",
    "case_03_1 = case_03[['product_fit', 'product_color', 'product_price']].groupby( ['product_fit', 'product_color'] ).mean().reset_index()\n",
    "case_03_1.columns = ['product_fit', 'color', 'mean_price']\n",
    "case_03_1"
   ]
  },
  {
   "cell_type": "code",
   "execution_count": 68,
   "id": "6c580755",
   "metadata": {
    "ExecuteTime": {
     "end_time": "2023-01-13T16:47:35.151692Z",
     "start_time": "2023-01-13T16:47:35.130078Z"
    },
    "cell_style": "split",
    "hidden": true,
    "hide_input": true
   },
   "outputs": [
    {
     "name": "stdout",
     "output_type": "stream",
     "text": [
      "Sem polyester:\n",
      "O preço médio total é $28.1\n"
     ]
    },
    {
     "data": {
      "text/html": [
       "<div>\n",
       "<style scoped>\n",
       "    .dataframe tbody tr th:only-of-type {\n",
       "        vertical-align: middle;\n",
       "    }\n",
       "\n",
       "    .dataframe tbody tr th {\n",
       "        vertical-align: top;\n",
       "    }\n",
       "\n",
       "    .dataframe thead th {\n",
       "        text-align: right;\n",
       "    }\n",
       "</style>\n",
       "<table border=\"1\" class=\"dataframe\">\n",
       "  <thead>\n",
       "    <tr style=\"text-align: right;\">\n",
       "      <th></th>\n",
       "      <th>product_fit</th>\n",
       "      <th>color</th>\n",
       "      <th>mean_price</th>\n",
       "    </tr>\n",
       "  </thead>\n",
       "  <tbody>\n",
       "    <tr>\n",
       "      <th>0</th>\n",
       "      <td>regular_fit</td>\n",
       "      <td>black</td>\n",
       "      <td>26.68</td>\n",
       "    </tr>\n",
       "    <tr>\n",
       "      <th>1</th>\n",
       "      <td>regular_fit</td>\n",
       "      <td>blue</td>\n",
       "      <td>30.78</td>\n",
       "    </tr>\n",
       "    <tr>\n",
       "      <th>2</th>\n",
       "      <td>skinny_fit</td>\n",
       "      <td>black</td>\n",
       "      <td>29.99</td>\n",
       "    </tr>\n",
       "    <tr>\n",
       "      <th>3</th>\n",
       "      <td>skinny_fit</td>\n",
       "      <td>blue</td>\n",
       "      <td>20.49</td>\n",
       "    </tr>\n",
       "  </tbody>\n",
       "</table>\n",
       "</div>"
      ],
      "text/plain": [
       "   product_fit  color  mean_price\n",
       "0  regular_fit  black       26.68\n",
       "1  regular_fit   blue       30.78\n",
       "2   skinny_fit  black       29.99\n",
       "3   skinny_fit   blue       20.49"
      ]
     },
     "execution_count": 68,
     "metadata": {},
     "output_type": "execute_result"
    }
   ],
   "source": [
    "print( 'Sem polyester:' )\n",
    "case_03_2 = case_03.loc[case_03['polyester'] == 0, :]\n",
    "print( 'O preço médio total é ${}'.format( round( case_03_2['product_price'].mean(), 2 ) ) )\n",
    "case_03_2 = case_03_2[['product_fit', 'product_color', 'product_price']].groupby( ['product_fit', 'product_color'] ).mean().reset_index()\n",
    "case_03_2.columns = ['product_fit', 'color', 'mean_price']\n",
    "case_03_2"
   ]
  },
  {
   "cell_type": "code",
   "execution_count": null,
   "id": "43108b3a",
   "metadata": {
    "hidden": true
   },
   "outputs": [],
   "source": []
  }
 ],
 "metadata": {
  "kernelspec": {
   "display_name": "Python 3 (ipykernel)",
   "language": "python",
   "name": "python3"
  },
  "language_info": {
   "codemirror_mode": {
    "name": "ipython",
    "version": 3
   },
   "file_extension": ".py",
   "mimetype": "text/x-python",
   "name": "python",
   "nbconvert_exporter": "python",
   "pygments_lexer": "ipython3",
   "version": "3.7.15"
  }
 },
 "nbformat": 4,
 "nbformat_minor": 5
}
