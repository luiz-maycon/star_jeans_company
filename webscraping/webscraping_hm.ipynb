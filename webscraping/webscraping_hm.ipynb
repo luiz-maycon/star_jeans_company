{
 "cells": [
  {
   "cell_type": "markdown",
   "id": "b0b5e2c9",
   "metadata": {},
   "source": [
    "# 01 Imports"
   ]
  },
  {
   "cell_type": "code",
   "execution_count": 1,
   "id": "324cda1e",
   "metadata": {
    "ExecuteTime": {
     "end_time": "2023-01-09T01:45:56.063958Z",
     "start_time": "2023-01-09T01:45:55.164093Z"
    }
   },
   "outputs": [],
   "source": [
    "import os\n",
    "import re\n",
    "import numpy  as np\n",
    "import pandas as pd\n",
    "import logging\n",
    "import sqlite3\n",
    "import requests\n",
    "\n",
    "from bs4             import BeautifulSoup\n",
    "from datetime        import datetime\n",
    "from sqlalchemy      import create_engine\n",
    "from IPython.display import HTML"
   ]
  },
  {
   "cell_type": "markdown",
   "id": "39c94f47",
   "metadata": {},
   "source": [
    "# 02 Helper Functions"
   ]
  },
  {
   "cell_type": "code",
   "execution_count": 2,
   "id": "980c4686",
   "metadata": {
    "ExecuteTime": {
     "end_time": "2023-01-09T01:45:56.686713Z",
     "start_time": "2023-01-09T01:45:56.065955Z"
    }
   },
   "outputs": [
    {
     "name": "stdout",
     "output_type": "stream",
     "text": [
      "Populating the interactive namespace from numpy and matplotlib\n"
     ]
    },
    {
     "name": "stderr",
     "output_type": "stream",
     "text": [
      "/home/luizmaycon/anaconda3/envs/python_ds_ao_dev/lib/python3.7/site-packages/IPython/core/magics/pylab.py:160: UserWarning: pylab import has clobbered these variables: ['datetime']\n",
      "`%matplotlib` prevents importing * from pylab and numpy\n",
      "  \"\\n`%matplotlib` prevents importing * from pylab and numpy\"\n"
     ]
    },
    {
     "data": {
      "text/html": [
       "<style>.container { width:97% !important; }</style>"
      ],
      "text/plain": [
       "<IPython.core.display.HTML object>"
      ]
     },
     "metadata": {},
     "output_type": "display_data"
    }
   ],
   "source": [
    "def jupyter_settings():\n",
    "#     %matplotlib inline\n",
    "    %pylab inline\n",
    "#     plt.style.use( 'bmh' )\n",
    "#     plt.rcParams['figure.figsize'] = [18, 8]\n",
    "#     plt.rcParams['font.size'] = 24\n",
    "    display( HTML( '<style>.container { width:97% !important; }</style>') )\n",
    "    pd.options.display.max_columns = 30\n",
    "    pd.options.display.max_rows = 30\n",
    "    pd.options.display.float_format = lambda x: f'{x:.2f}'\n",
    "    pd.set_option( 'display.expand_frame_repr', False )\n",
    "#     sns.set_theme(rc={'figure.figsize': (15, 6)})\n",
    "jupyter_settings()"
   ]
  },
  {
   "cell_type": "markdown",
   "id": "e0a89b90",
   "metadata": {},
   "source": [
    "# 03 Data Collection"
   ]
  },
  {
   "cell_type": "code",
   "execution_count": 3,
   "id": "9b16f43c",
   "metadata": {
    "ExecuteTime": {
     "end_time": "2023-01-09T01:45:58.038464Z",
     "start_time": "2023-01-09T01:45:56.753249Z"
    }
   },
   "outputs": [
    {
     "data": {
      "text/plain": [
       "(99, 4)"
      ]
     },
     "execution_count": 3,
     "metadata": {},
     "output_type": "execute_result"
    }
   ],
   "source": [
    "# parameters\n",
    "headers = {'User-Agent': 'Mozilla/5.0 (X11; Ubuntu; Linux x86_64; rv:107.0) Gecko/20100101 Firefox/107.0'}\n",
    "url = 'https://www2.hm.com/en_us/men/products/jeans.html'\n",
    "\n",
    "# request to URL\n",
    "page = requests.get( url, headers=headers )\n",
    "\n",
    "# Beautiful Soup object\n",
    "soup = BeautifulSoup( page.text, 'html.parser' )\n",
    "\n",
    "# make pagination\n",
    "total_itens = soup.find_all( 'h2', class_='load-more-heading' )[0].get( 'data-total' )\n",
    "page_number = np.ceil( int( total_itens ) / 36 )\n",
    "url = url + '?page-size=' + str( int( page_number * 36 ) )\n",
    "\n",
    "# new request to URL\n",
    "page = requests.get( url, headers=headers )\n",
    "\n",
    "# new Beautiful Soup object\n",
    "soup = BeautifulSoup( page.text, 'html.parser' )\n",
    "\n",
    "# ==================== Product Data ====================\n",
    "products = soup.find( 'ul', class_=\"products-listing small\" )\n",
    "\n",
    "# product id\n",
    "product_list = products.find_all( 'article', 'hm-product-item' )\n",
    "product_id = [p.get( 'data-articlecode' ) for p in product_list]\n",
    "\n",
    "# product category\n",
    "product_category = [p.get( 'data-category' ) for p in product_list]\n",
    "\n",
    "# product name\n",
    "product_list = products.find_all( 'a', 'link' )\n",
    "product_name = [p.get_text() for p in product_list]\n",
    "\n",
    "# product price\n",
    "product_list = products.find_all( 'span', 'price regular' )\n",
    "product_price = [p.get_text() for p in product_list]\n",
    "\n",
    "# create dataframe\n",
    "data = pd.DataFrame( [product_id, product_category, product_name, product_price] ).T\n",
    "data.columns = ['product_id', 'product_category', 'product_name', 'product_price']\n",
    "\n",
    "data.shape"
   ]
  },
  {
   "cell_type": "code",
   "execution_count": 4,
   "id": "4ff811c8",
   "metadata": {
    "ExecuteTime": {
     "end_time": "2023-01-09T01:45:58.052932Z",
     "start_time": "2023-01-09T01:45:58.042297Z"
    }
   },
   "outputs": [
    {
     "data": {
      "text/html": [
       "<div>\n",
       "<style scoped>\n",
       "    .dataframe tbody tr th:only-of-type {\n",
       "        vertical-align: middle;\n",
       "    }\n",
       "\n",
       "    .dataframe tbody tr th {\n",
       "        vertical-align: top;\n",
       "    }\n",
       "\n",
       "    .dataframe thead th {\n",
       "        text-align: right;\n",
       "    }\n",
       "</style>\n",
       "<table border=\"1\" class=\"dataframe\">\n",
       "  <thead>\n",
       "    <tr style=\"text-align: right;\">\n",
       "      <th></th>\n",
       "      <th>product_id</th>\n",
       "      <th>product_category</th>\n",
       "      <th>product_name</th>\n",
       "      <th>product_price</th>\n",
       "    </tr>\n",
       "  </thead>\n",
       "  <tbody>\n",
       "    <tr>\n",
       "      <th>0</th>\n",
       "      <td>1024256001</td>\n",
       "      <td>men_jeans_slim</td>\n",
       "      <td>Slim Jeans</td>\n",
       "      <td>$ 24.99</td>\n",
       "    </tr>\n",
       "    <tr>\n",
       "      <th>1</th>\n",
       "      <td>1096385002</td>\n",
       "      <td>men_jeans_loose</td>\n",
       "      <td>Loose Jeans</td>\n",
       "      <td>$ 29.99</td>\n",
       "    </tr>\n",
       "    <tr>\n",
       "      <th>2</th>\n",
       "      <td>1114023001</td>\n",
       "      <td>men_jeans_loose</td>\n",
       "      <td>Loose Jeans</td>\n",
       "      <td>$ 44.99</td>\n",
       "    </tr>\n",
       "    <tr>\n",
       "      <th>3</th>\n",
       "      <td>1114023003</td>\n",
       "      <td>men_jeans_loose</td>\n",
       "      <td>Loose Jeans</td>\n",
       "      <td>$ 44.99</td>\n",
       "    </tr>\n",
       "    <tr>\n",
       "      <th>4</th>\n",
       "      <td>0985159001</td>\n",
       "      <td>men_jeans_skinny</td>\n",
       "      <td>Skinny Jeans</td>\n",
       "      <td>$ 24.99</td>\n",
       "    </tr>\n",
       "  </tbody>\n",
       "</table>\n",
       "</div>"
      ],
      "text/plain": [
       "   product_id  product_category  product_name product_price\n",
       "0  1024256001    men_jeans_slim    Slim Jeans       $ 24.99\n",
       "1  1096385002   men_jeans_loose   Loose Jeans       $ 29.99\n",
       "2  1114023001   men_jeans_loose   Loose Jeans       $ 44.99\n",
       "3  1114023003   men_jeans_loose   Loose Jeans       $ 44.99\n",
       "4  0985159001  men_jeans_skinny  Skinny Jeans       $ 24.99"
      ]
     },
     "execution_count": 4,
     "metadata": {},
     "output_type": "execute_result"
    }
   ],
   "source": [
    "data.head()"
   ]
  },
  {
   "cell_type": "markdown",
   "id": "87f13a92",
   "metadata": {},
   "source": [
    "# 04 Data Collection by Product"
   ]
  },
  {
   "cell_type": "code",
   "execution_count": 5,
   "id": "b20a7b4c",
   "metadata": {
    "ExecuteTime": {
     "end_time": "2023-01-09T01:46:22.709125Z",
     "start_time": "2023-01-09T01:46:01.071732Z"
    }
   },
   "outputs": [
    {
     "name": "stdout",
     "output_type": "stream",
     "text": [
      "product 0 START...\n",
      "https://www2.hm.com/en_us/productpage.1024256001.html\n",
      "product 1 START...\n",
      "https://www2.hm.com/en_us/productpage.1096385002.html\n",
      "product 2 START...\n",
      "https://www2.hm.com/en_us/productpage.1114023001.html\n",
      "product 3 START...\n",
      "https://www2.hm.com/en_us/productpage.1114023003.html\n",
      "product 4 START...\n",
      "https://www2.hm.com/en_us/productpage.0985159001.html\n"
     ]
    },
    {
     "ename": "AttributeError",
     "evalue": "'NoneType' object has no attribute 'find_all'",
     "output_type": "error",
     "traceback": [
      "\u001b[0;31m---------------------------------------------------------------------------\u001b[0m",
      "\u001b[0;31mAttributeError\u001b[0m                            Traceback (most recent call last)",
      "\u001b[0;32m/tmp/ipykernel_18670/4234546245.py\u001b[0m in \u001b[0;36m<module>\u001b[0;34m\u001b[0m\n\u001b[1;32m     33\u001b[0m \u001b[0;34m\u001b[0m\u001b[0m\n\u001b[1;32m     34\u001b[0m         \u001b[0;31m# product name\u001b[0m\u001b[0;34m\u001b[0m\u001b[0;34m\u001b[0m\u001b[0;34m\u001b[0m\u001b[0m\n\u001b[0;32m---> 35\u001b[0;31m         \u001b[0mproduct_name\u001b[0m \u001b[0;34m=\u001b[0m \u001b[0msoup\u001b[0m\u001b[0;34m.\u001b[0m\u001b[0mfind\u001b[0m\u001b[0;34m(\u001b[0m \u001b[0;34m'section'\u001b[0m\u001b[0;34m,\u001b[0m \u001b[0mclass_\u001b[0m\u001b[0;34m=\u001b[0m\u001b[0;34m'product-name-price'\u001b[0m \u001b[0;34m)\u001b[0m\u001b[0;34m.\u001b[0m\u001b[0mfind_all\u001b[0m\u001b[0;34m(\u001b[0m \u001b[0;34m'h1'\u001b[0m \u001b[0;34m)\u001b[0m\u001b[0;34m\u001b[0m\u001b[0;34m\u001b[0m\u001b[0m\n\u001b[0m\u001b[1;32m     36\u001b[0m         \u001b[0mproduct_name\u001b[0m \u001b[0;34m=\u001b[0m \u001b[0mproduct_name\u001b[0m\u001b[0;34m[\u001b[0m\u001b[0;36m0\u001b[0m\u001b[0;34m]\u001b[0m\u001b[0;34m.\u001b[0m\u001b[0mget_text\u001b[0m\u001b[0;34m(\u001b[0m\u001b[0;34m)\u001b[0m\u001b[0;34m\u001b[0m\u001b[0;34m\u001b[0m\u001b[0m\n\u001b[1;32m     37\u001b[0m \u001b[0;34m\u001b[0m\u001b[0m\n",
      "\u001b[0;31mAttributeError\u001b[0m: 'NoneType' object has no attribute 'find_all'"
     ]
    }
   ],
   "source": [
    "# empty dataframe\n",
    "df_compositions = pd.DataFrame()\n",
    "\n",
    "# unique columns for all products\n",
    "aux = []\n",
    "df_pattern = pd.DataFrame( columns=['Art. No.', 'Composition', 'Fit', 'Size'] )\n",
    "\n",
    "for i in range( len( data ) ):\n",
    "    # API request\n",
    "    url = 'https://www2.hm.com/en_us/productpage.' + data.loc[i, 'product_id'] + '.html'\n",
    "    page = requests.get( url, headers=headers )\n",
    "    \n",
    "    print( 'product {} START...'.format( i ) )\n",
    "    print( url )\n",
    "    \n",
    "    # Beautiful Soup object\n",
    "    soup = BeautifulSoup( page.text, 'html.parser' )\n",
    "\n",
    "    # get product colors\n",
    "    product_list = soup.find_all( 'a', class_=['filter-option miniature', 'filter-option miniature active'] )\n",
    "    product_id = [p.get( 'data-articlecode' ) for p in product_list]\n",
    "    product_color = [p.get( 'data-color' ) for p in product_list]\n",
    "    df_color = pd.DataFrame( {'product_id':product_id, 'product_color':product_color} )\n",
    "    \n",
    "    # get data for each color\n",
    "    for j in range( len( df_color ) ):\n",
    "        # API request\n",
    "        url = 'https://www2.hm.com/en_us/productpage.' + df_color.loc[j, 'product_id'] + '.html'\n",
    "        page = requests.get( url, headers=headers )\n",
    "                \n",
    "        # Beautiful Soup object\n",
    "        soup = BeautifulSoup( page.text, 'html.parser' )\n",
    "        \n",
    "        # product name\n",
    "        product_name = soup.find( 'section', class_='product-name-price' ).find_all( 'h1' )\n",
    "        product_name = product_name[0].get_text()\n",
    "        \n",
    "        # product price\n",
    "        product_price = soup.find_all( 'span', class_='price-value' )\n",
    "        product_price = re.findall( r'\\d+\\.?\\d+', product_price[0].get_text() )[0]\n",
    "        \n",
    "        # ==================== compositions ====================\n",
    "        product_composition_list = soup.find('div', class_='content pdp-text pdp-content').find_all( 'div' )\n",
    "        product_composition = [list( filter( None, p.get_text().splitlines() ) ) for p in product_composition_list]\n",
    "\n",
    "        # create dataframe\n",
    "        df_composition = pd.DataFrame( product_composition ).T\n",
    "        df_composition.columns = df_composition.iloc[0]\n",
    "                \n",
    "        # delete first row\n",
    "        df_composition = df_composition.iloc[1:].fillna( method='ffill' )\n",
    "\n",
    "        # Remove 'Shell:', 'Pocket lining:', 'Lining:', 'Pocket:'\n",
    "        df_composition['Composition'] = df_composition['Composition'].replace( 'Shell: ', '', regex=True )\n",
    "        df_composition['Composition'] = df_composition['Composition'].replace( 'Pocket lining: ', '', regex=True )\n",
    "        df_composition['Composition'] = df_composition['Composition'].replace( 'Lining: ', '', regex=True )\n",
    "        df_composition['Composition'] = df_composition['Composition'].replace( 'Pocket: ', '', regex=True )\n",
    "        \n",
    "        # garantee the same number of columns\n",
    "        df_composition = pd.concat( [df_pattern, df_composition], axis=0 )\n",
    "\n",
    "        # rename columns\n",
    "        df_composition = df_composition[['Art. No.', 'Composition', 'Fit', 'Size']]\n",
    "        df_composition.columns = ['product_id', 'product_composition', 'product_fit', 'product_size']\n",
    "        df_composition['product_name'] = product_name\n",
    "        df_composition['product_price'] = product_price\n",
    "        \n",
    "        # keep new coluns if it shows up\n",
    "        aux = aux + df_composition.columns.tolist()\n",
    "        \n",
    "        # merge data\n",
    "        df_composition = pd.merge( df_composition, df_color, how='left', on='product_id' )\n",
    "        \n",
    "        # all products\n",
    "        df_compositions = pd.concat( [df_compositions, df_composition], axis=0 )\n",
    "                    \n",
    "# final dataframe\n",
    "df_compositions['style_id'] = df_compositions['product_id'].apply( lambda x: x[:-3] )\n",
    "df_compositions['color_id'] = df_compositions['product_id'].apply( lambda x: x[-3:] )\n",
    "\n",
    "# scrapy_datetime\n",
    "df_compositions['scrapy_datetime'] = datetime.datetime.now().strftime( '%Y-%m-%d %H:%M:%S' )"
   ]
  },
  {
   "cell_type": "code",
   "execution_count": 7,
   "id": "826c5d0b",
   "metadata": {
    "ExecuteTime": {
     "end_time": "2023-01-05T17:08:17.075592Z",
     "start_time": "2023-01-05T17:08:17.064176Z"
    }
   },
   "outputs": [
    {
     "data": {
      "text/html": [
       "<div>\n",
       "<style scoped>\n",
       "    .dataframe tbody tr th:only-of-type {\n",
       "        vertical-align: middle;\n",
       "    }\n",
       "\n",
       "    .dataframe tbody tr th {\n",
       "        vertical-align: top;\n",
       "    }\n",
       "\n",
       "    .dataframe thead th {\n",
       "        text-align: right;\n",
       "    }\n",
       "</style>\n",
       "<table border=\"1\" class=\"dataframe\">\n",
       "  <thead>\n",
       "    <tr style=\"text-align: right;\">\n",
       "      <th></th>\n",
       "      <th>product_id</th>\n",
       "      <th>product_composition</th>\n",
       "      <th>product_fit</th>\n",
       "      <th>product_size</th>\n",
       "      <th>product_name</th>\n",
       "      <th>product_price</th>\n",
       "      <th>product_color</th>\n",
       "      <th>style_id</th>\n",
       "      <th>color_id</th>\n",
       "      <th>scrapy_datetime</th>\n",
       "    </tr>\n",
       "  </thead>\n",
       "  <tbody>\n",
       "    <tr>\n",
       "      <th>0</th>\n",
       "      <td>1024256001</td>\n",
       "      <td>Cotton 99%, Spandex 1%</td>\n",
       "      <td>Slim fit</td>\n",
       "      <td>The model is 180cm/5'11\" and wears a size 33/32</td>\n",
       "      <td>Slim Jeans</td>\n",
       "      <td>24.99</td>\n",
       "      <td>Black</td>\n",
       "      <td>1024256</td>\n",
       "      <td>001</td>\n",
       "      <td>2023-01-05 14:08:17</td>\n",
       "    </tr>\n",
       "    <tr>\n",
       "      <th>1</th>\n",
       "      <td>1024256001</td>\n",
       "      <td>Polyester 65%, Cotton 35%</td>\n",
       "      <td>Slim fit</td>\n",
       "      <td>The model is 180cm/5'11\" and wears a size 33/32</td>\n",
       "      <td>Slim Jeans</td>\n",
       "      <td>24.99</td>\n",
       "      <td>Black</td>\n",
       "      <td>1024256</td>\n",
       "      <td>001</td>\n",
       "      <td>2023-01-05 14:08:17</td>\n",
       "    </tr>\n",
       "    <tr>\n",
       "      <th>0</th>\n",
       "      <td>1024256002</td>\n",
       "      <td>Cotton 99%, Spandex 1%</td>\n",
       "      <td>Slim fit</td>\n",
       "      <td>The model is 189cm/6'2\" and wears a size 31/32</td>\n",
       "      <td>Slim Jeans</td>\n",
       "      <td>24.99</td>\n",
       "      <td>Light denim blue</td>\n",
       "      <td>1024256</td>\n",
       "      <td>002</td>\n",
       "      <td>2023-01-05 14:08:17</td>\n",
       "    </tr>\n",
       "    <tr>\n",
       "      <th>1</th>\n",
       "      <td>1024256002</td>\n",
       "      <td>Polyester 65%, Cotton 35%</td>\n",
       "      <td>Slim fit</td>\n",
       "      <td>The model is 189cm/6'2\" and wears a size 31/32</td>\n",
       "      <td>Slim Jeans</td>\n",
       "      <td>24.99</td>\n",
       "      <td>Light denim blue</td>\n",
       "      <td>1024256</td>\n",
       "      <td>002</td>\n",
       "      <td>2023-01-05 14:08:17</td>\n",
       "    </tr>\n",
       "    <tr>\n",
       "      <th>0</th>\n",
       "      <td>1024256003</td>\n",
       "      <td>Cotton 99%, Spandex 1%</td>\n",
       "      <td>Slim fit</td>\n",
       "      <td>The model is 180cm/5'11\" and wears a size 33/32</td>\n",
       "      <td>Slim Jeans</td>\n",
       "      <td>24.99</td>\n",
       "      <td>Light denim blue</td>\n",
       "      <td>1024256</td>\n",
       "      <td>003</td>\n",
       "      <td>2023-01-05 14:08:17</td>\n",
       "    </tr>\n",
       "  </tbody>\n",
       "</table>\n",
       "</div>"
      ],
      "text/plain": [
       "   product_id        product_composition product_fit                                     product_size product_name product_price     product_color style_id color_id      scrapy_datetime\n",
       "0  1024256001     Cotton 99%, Spandex 1%    Slim fit  The model is 180cm/5'11\" and wears a size 33/32   Slim Jeans         24.99             Black  1024256      001  2023-01-05 14:08:17\n",
       "1  1024256001  Polyester 65%, Cotton 35%    Slim fit  The model is 180cm/5'11\" and wears a size 33/32   Slim Jeans         24.99             Black  1024256      001  2023-01-05 14:08:17\n",
       "0  1024256002     Cotton 99%, Spandex 1%    Slim fit   The model is 189cm/6'2\" and wears a size 31/32   Slim Jeans         24.99  Light denim blue  1024256      002  2023-01-05 14:08:17\n",
       "1  1024256002  Polyester 65%, Cotton 35%    Slim fit   The model is 189cm/6'2\" and wears a size 31/32   Slim Jeans         24.99  Light denim blue  1024256      002  2023-01-05 14:08:17\n",
       "0  1024256003     Cotton 99%, Spandex 1%    Slim fit  The model is 180cm/5'11\" and wears a size 33/32   Slim Jeans         24.99  Light denim blue  1024256      003  2023-01-05 14:08:17"
      ]
     },
     "execution_count": 7,
     "metadata": {},
     "output_type": "execute_result"
    }
   ],
   "source": [
    "df_compositions.head()"
   ]
  },
  {
   "cell_type": "markdown",
   "id": "7df74df9",
   "metadata": {
    "heading_collapsed": true
   },
   "source": [
    "# 05 Data Cleaning"
   ]
  },
  {
   "cell_type": "code",
   "execution_count": 10,
   "id": "d458d951",
   "metadata": {
    "ExecuteTime": {
     "end_time": "2023-01-05T18:00:46.620882Z",
     "start_time": "2023-01-05T18:00:43.548321Z"
    },
    "hidden": true
   },
   "outputs": [
    {
     "data": {
      "text/plain": [
       "(186, 13)"
      ]
     },
     "execution_count": 10,
     "metadata": {},
     "output_type": "execute_result"
    }
   ],
   "source": [
    "# Read data\n",
    "df_data = df_compositions.dropna( subset=['product_id'] )\n",
    "\n",
    "# ==================== Product Attributes ====================\n",
    "# product_name\n",
    "df_data['product_name'] = df_data['product_name'].apply( lambda x: x.replace( ' ', '_' ).lower() )\n",
    "\n",
    "# product_price\n",
    "df_data['product_price'] = df_data['product_price'].astype( float )\n",
    "\n",
    "# product_color\n",
    "df_data['product_color'] = df_data['product_color'].str.replace( ' ', '_' ).str.lower()\n",
    "\n",
    "# fit\n",
    "df_data['product_fit'] = df_data['product_fit'].apply( lambda x: x.replace( ' ', '_' ).lower() if pd.notnull( x ) else x )\n",
    "\n",
    "# size_number\n",
    "df_data['size_number'] = df_data['product_size'].apply( lambda x: re.search( '\\d{3}', x ).group(0) if pd.notnull( x ) else x )\n",
    "\n",
    "# size model\n",
    "df_data['size_model'] = df_data['product_size'].str.extract( '(\\d+/\\\\d+)' )\n",
    "\n",
    "# # ==================== Composition ====================\n",
    "# break composition and create a new dataframe for it\n",
    "df1 = df_data['product_composition'].str.split( ',', expand=True )\n",
    "df_ref = pd.DataFrame( index=np.arange( len( df_data ) ), columns=['cotton', 'polyester', 'spandex'] )\n",
    "\n",
    "# cotton\n",
    "df_cotton0 = pd.DataFrame(df1.loc[df1[0].str.contains('Cotton', na=True), 0])\n",
    "df_cotton0.columns = ['cotton']\n",
    "df_cotton1 = pd.DataFrame(df1.loc[df1[1].str.contains('Cotton', na=True), 1])\n",
    "df_cotton1.columns = ['cotton']\n",
    "df_cotton = df_cotton0.combine_first(df_cotton1)\n",
    "df_ref = pd.concat([df_ref, df_cotton.reset_index(drop=True)], axis=1)\n",
    "df_ref = df_ref.iloc[:, ~df_ref.columns.duplicated(keep='last')]\n",
    "\n",
    "# polyester\n",
    "df_polyester = df1.loc[df1[0].str.contains('Polyester', na=True), 0]\n",
    "df_polyester.name = 'polyester'\n",
    "df_ref = pd.concat([df_ref, df_polyester.reset_index(drop=True)], axis=1)\n",
    "df_ref = df_ref.iloc[:, ~df_ref.columns.duplicated(keep='last')]\n",
    "\n",
    "# spandex\n",
    "df_spandex1 = pd.DataFrame(df1.loc[df1[1].str.contains('Spandex', na=True), 1])\n",
    "df_spandex1.columns = ['spandex']\n",
    "df_spandex2 = pd.DataFrame(df1.loc[df1[2].str.contains('Spandex', na=True), 2])\n",
    "df_spandex2.columns = ['spandex']\n",
    "df_spandex = df_spandex1.combine_first(df_spandex2)\n",
    "df_ref = pd.concat([df_ref, df_spandex.reset_index(drop=True)], axis=1)\n",
    "df_ref = df_ref.iloc[:, ~df_ref.columns.duplicated(keep='last')]\n",
    "\n",
    "# add product_id to df_ref\n",
    "df_aux = pd.concat( [df_data['product_id'].reset_index( drop=True ), df_ref], axis=1 )\n",
    "\n",
    "# format composition\n",
    "df_aux['cotton'] = df_aux['cotton'].apply( lambda x: int( re.search( '\\d+', x ).group(0) ) / 100 if pd.notnull( x ) else x )\n",
    "df_aux['polyester'] = df_aux['polyester'].apply( lambda x: int( re.search( '\\d+', x ).group(0) ) / 100 if pd.notnull( x ) else x )\n",
    "df_aux['spandex'] = df_aux['spandex'].apply( lambda x: int( re.search( '\\d+', x ).group(0) ) / 100 if pd.notnull( x ) else x )\n",
    "\n",
    "# final join\n",
    "df_aux = df_aux.groupby( 'product_id' ).max().reset_index().fillna( 0 )\n",
    "df_data = pd.merge( df_data, df_aux, on='product_id', how='left' )\n",
    "\n",
    "# remove columns and duplicates\n",
    "df_data = df_data.drop( columns=['product_size', 'product_composition'], axis=1 )\n",
    "df_data = df_data.drop_duplicates().reset_index( drop=True )\n",
    "\n",
    "df_data.shape"
   ]
  },
  {
   "cell_type": "code",
   "execution_count": 11,
   "id": "87538aa3",
   "metadata": {
    "ExecuteTime": {
     "end_time": "2023-01-05T18:00:50.999854Z",
     "start_time": "2023-01-05T18:00:50.984847Z"
    },
    "hidden": true
   },
   "outputs": [
    {
     "data": {
      "text/html": [
       "<div>\n",
       "<style scoped>\n",
       "    .dataframe tbody tr th:only-of-type {\n",
       "        vertical-align: middle;\n",
       "    }\n",
       "\n",
       "    .dataframe tbody tr th {\n",
       "        vertical-align: top;\n",
       "    }\n",
       "\n",
       "    .dataframe thead th {\n",
       "        text-align: right;\n",
       "    }\n",
       "</style>\n",
       "<table border=\"1\" class=\"dataframe\">\n",
       "  <thead>\n",
       "    <tr style=\"text-align: right;\">\n",
       "      <th></th>\n",
       "      <th>product_id</th>\n",
       "      <th>product_fit</th>\n",
       "      <th>product_name</th>\n",
       "      <th>product_price</th>\n",
       "      <th>product_color</th>\n",
       "      <th>style_id</th>\n",
       "      <th>color_id</th>\n",
       "      <th>scrapy_datetime</th>\n",
       "      <th>size_number</th>\n",
       "      <th>size_model</th>\n",
       "      <th>cotton</th>\n",
       "      <th>polyester</th>\n",
       "      <th>spandex</th>\n",
       "    </tr>\n",
       "  </thead>\n",
       "  <tbody>\n",
       "    <tr>\n",
       "      <th>0</th>\n",
       "      <td>1024256001</td>\n",
       "      <td>slim_fit</td>\n",
       "      <td>slim_jeans</td>\n",
       "      <td>24.99</td>\n",
       "      <td>black</td>\n",
       "      <td>1024256</td>\n",
       "      <td>001</td>\n",
       "      <td>2023-01-05 14:08:17</td>\n",
       "      <td>180</td>\n",
       "      <td>33/32</td>\n",
       "      <td>0.99</td>\n",
       "      <td>0.80</td>\n",
       "      <td>0.01</td>\n",
       "    </tr>\n",
       "    <tr>\n",
       "      <th>1</th>\n",
       "      <td>1024256002</td>\n",
       "      <td>slim_fit</td>\n",
       "      <td>slim_jeans</td>\n",
       "      <td>24.99</td>\n",
       "      <td>light_denim_blue</td>\n",
       "      <td>1024256</td>\n",
       "      <td>002</td>\n",
       "      <td>2023-01-05 14:08:17</td>\n",
       "      <td>189</td>\n",
       "      <td>31/32</td>\n",
       "      <td>0.99</td>\n",
       "      <td>0.80</td>\n",
       "      <td>0.01</td>\n",
       "    </tr>\n",
       "    <tr>\n",
       "      <th>2</th>\n",
       "      <td>1024256003</td>\n",
       "      <td>slim_fit</td>\n",
       "      <td>slim_jeans</td>\n",
       "      <td>24.99</td>\n",
       "      <td>light_denim_blue</td>\n",
       "      <td>1024256</td>\n",
       "      <td>003</td>\n",
       "      <td>2023-01-05 14:08:17</td>\n",
       "      <td>180</td>\n",
       "      <td>33/32</td>\n",
       "      <td>0.99</td>\n",
       "      <td>0.80</td>\n",
       "      <td>0.01</td>\n",
       "    </tr>\n",
       "    <tr>\n",
       "      <th>3</th>\n",
       "      <td>1024256004</td>\n",
       "      <td>slim_fit</td>\n",
       "      <td>slim_jeans</td>\n",
       "      <td>24.99</td>\n",
       "      <td>denim_blue</td>\n",
       "      <td>1024256</td>\n",
       "      <td>004</td>\n",
       "      <td>2023-01-05 14:08:17</td>\n",
       "      <td>NaN</td>\n",
       "      <td>NaN</td>\n",
       "      <td>0.99</td>\n",
       "      <td>0.80</td>\n",
       "      <td>0.01</td>\n",
       "    </tr>\n",
       "    <tr>\n",
       "      <th>4</th>\n",
       "      <td>1024256005</td>\n",
       "      <td>slim_fit</td>\n",
       "      <td>slim_jeans</td>\n",
       "      <td>24.99</td>\n",
       "      <td>dark_blue</td>\n",
       "      <td>1024256</td>\n",
       "      <td>005</td>\n",
       "      <td>2023-01-05 14:08:17</td>\n",
       "      <td>183</td>\n",
       "      <td>31/32</td>\n",
       "      <td>0.99</td>\n",
       "      <td>0.80</td>\n",
       "      <td>0.01</td>\n",
       "    </tr>\n",
       "  </tbody>\n",
       "</table>\n",
       "</div>"
      ],
      "text/plain": [
       "   product_id product_fit product_name  product_price     product_color style_id color_id      scrapy_datetime size_number size_model  cotton  polyester  spandex\n",
       "0  1024256001    slim_fit   slim_jeans          24.99             black  1024256      001  2023-01-05 14:08:17         180      33/32    0.99       0.80     0.01\n",
       "1  1024256002    slim_fit   slim_jeans          24.99  light_denim_blue  1024256      002  2023-01-05 14:08:17         189      31/32    0.99       0.80     0.01\n",
       "2  1024256003    slim_fit   slim_jeans          24.99  light_denim_blue  1024256      003  2023-01-05 14:08:17         180      33/32    0.99       0.80     0.01\n",
       "3  1024256004    slim_fit   slim_jeans          24.99        denim_blue  1024256      004  2023-01-05 14:08:17         NaN        NaN    0.99       0.80     0.01\n",
       "4  1024256005    slim_fit   slim_jeans          24.99         dark_blue  1024256      005  2023-01-05 14:08:17         183      31/32    0.99       0.80     0.01"
      ]
     },
     "execution_count": 11,
     "metadata": {},
     "output_type": "execute_result"
    }
   ],
   "source": [
    "df_data.head()"
   ]
  },
  {
   "cell_type": "markdown",
   "id": "91cc8ecf",
   "metadata": {
    "heading_collapsed": true
   },
   "source": [
    "# 06 Data Insert"
   ]
  },
  {
   "cell_type": "code",
   "execution_count": 14,
   "id": "ca362905",
   "metadata": {
    "ExecuteTime": {
     "end_time": "2022-12-25T23:04:59.154285Z",
     "start_time": "2022-12-25T23:04:59.149226Z"
    },
    "code_folding": [],
    "hidden": true
   },
   "outputs": [],
   "source": [
    "# reorganize columns\n",
    "data_insert = df_data[[\n",
    "    'product_id',\n",
    "    'style_id',\n",
    "    'color_id',\n",
    "    'product_name',\n",
    "    'product_color',\n",
    "    'product_fit',\n",
    "    'product_price',\n",
    "    'size_number',\n",
    "    'size_model',\n",
    "    'cotton',\n",
    "    'polyester',\n",
    "    'spandex',\n",
    "    'scrapy_datetime'\n",
    "]]"
   ]
  },
  {
   "cell_type": "code",
   "execution_count": 15,
   "id": "ccc029a3",
   "metadata": {
    "ExecuteTime": {
     "end_time": "2022-12-25T23:12:40.947939Z",
     "start_time": "2022-12-25T23:12:40.944307Z"
    },
    "hidden": true
   },
   "outputs": [],
   "source": [
    "# create table query\n",
    "query_showroom_schema = \"\"\"\n",
    "    CREATE TABLE vitrine(\n",
    "        product_id      TEXT,\n",
    "        style_id        TEXT,\n",
    "        color_id        TEXT,\n",
    "        product_name    TEXT,\n",
    "        product_color   TEXT,\n",
    "        produc_fit      TEXT,\n",
    "        product_price   REAL,\n",
    "        size_number     TEXT,\n",
    "        size_model      TEXT,\n",
    "        cotton          REAL,\n",
    "        polyester       REAL,\n",
    "        spandex         REAL,\n",
    "        scrapy_datetime TEXT\n",
    "    )\n",
    "\"\"\""
   ]
  },
  {
   "cell_type": "code",
   "execution_count": 16,
   "id": "3a8dccf6",
   "metadata": {
    "ExecuteTime": {
     "end_time": "2022-12-25T23:17:36.786936Z",
     "start_time": "2022-12-25T23:17:36.764728Z"
    },
    "hidden": true
   },
   "outputs": [],
   "source": [
    "# create table\n",
    "conn = sqlite3.connect( 'database_hm.sqlite' )\n",
    "cursor = conn.execute( query_showroom_schema )\n",
    "conn.commit()"
   ]
  },
  {
   "cell_type": "code",
   "execution_count": 24,
   "id": "af9915d1",
   "metadata": {
    "ExecuteTime": {
     "end_time": "2023-01-04T23:52:45.498458Z",
     "start_time": "2023-01-04T23:52:45.493320Z"
    },
    "hidden": true
   },
   "outputs": [],
   "source": [
    "# create database connection\n",
    "conn = create_engine( 'sqlite:////home/luizmaycon/Documentos/repos/python_ds_ao_dev/database/database_hm.sqlite', echo=False )\n",
    "\n",
    "# data insert\n",
    "data_insert.to_sql( 'vitrine', con=conn, if_exists='append', index=False )"
   ]
  },
  {
   "cell_type": "code",
   "execution_count": 25,
   "id": "50cccaea",
   "metadata": {
    "ExecuteTime": {
     "end_time": "2023-01-04T23:52:48.115693Z",
     "start_time": "2023-01-04T23:52:48.087429Z"
    },
    "hidden": true
   },
   "outputs": [
    {
     "data": {
      "text/html": [
       "<div>\n",
       "<style scoped>\n",
       "    .dataframe tbody tr th:only-of-type {\n",
       "        vertical-align: middle;\n",
       "    }\n",
       "\n",
       "    .dataframe tbody tr th {\n",
       "        vertical-align: top;\n",
       "    }\n",
       "\n",
       "    .dataframe thead th {\n",
       "        text-align: right;\n",
       "    }\n",
       "</style>\n",
       "<table border=\"1\" class=\"dataframe\">\n",
       "  <thead>\n",
       "    <tr style=\"text-align: right;\">\n",
       "      <th></th>\n",
       "      <th>product_id</th>\n",
       "      <th>style_id</th>\n",
       "      <th>color_id</th>\n",
       "      <th>product_name</th>\n",
       "      <th>product_color</th>\n",
       "      <th>produt_fit</th>\n",
       "      <th>product_price</th>\n",
       "      <th>size_number</th>\n",
       "      <th>size_model</th>\n",
       "      <th>cotton</th>\n",
       "      <th>polyester</th>\n",
       "      <th>spandex</th>\n",
       "      <th>scrapy_datetime</th>\n",
       "    </tr>\n",
       "  </thead>\n",
       "  <tbody>\n",
       "    <tr>\n",
       "      <th>0</th>\n",
       "      <td>1024256001</td>\n",
       "      <td>1024256</td>\n",
       "      <td>001</td>\n",
       "      <td>slim_jeans</td>\n",
       "      <td>black</td>\n",
       "      <td>slim_fit</td>\n",
       "      <td>19.99</td>\n",
       "      <td>180</td>\n",
       "      <td>33/32</td>\n",
       "      <td>0.99</td>\n",
       "      <td>0.80</td>\n",
       "      <td>0.01</td>\n",
       "      <td>2022-12-29 11:52:36</td>\n",
       "    </tr>\n",
       "    <tr>\n",
       "      <th>1</th>\n",
       "      <td>1024256002</td>\n",
       "      <td>1024256</td>\n",
       "      <td>002</td>\n",
       "      <td>slim_jeans</td>\n",
       "      <td>light_denim_blue</td>\n",
       "      <td>slim_fit</td>\n",
       "      <td>19.99</td>\n",
       "      <td>189</td>\n",
       "      <td>31/32</td>\n",
       "      <td>0.99</td>\n",
       "      <td>0.80</td>\n",
       "      <td>0.01</td>\n",
       "      <td>2022-12-29 11:52:36</td>\n",
       "    </tr>\n",
       "    <tr>\n",
       "      <th>2</th>\n",
       "      <td>1024256003</td>\n",
       "      <td>1024256</td>\n",
       "      <td>003</td>\n",
       "      <td>slim_jeans</td>\n",
       "      <td>light_denim_blue</td>\n",
       "      <td>slim_fit</td>\n",
       "      <td>19.99</td>\n",
       "      <td>180</td>\n",
       "      <td>33/32</td>\n",
       "      <td>0.99</td>\n",
       "      <td>0.80</td>\n",
       "      <td>0.01</td>\n",
       "      <td>2022-12-29 11:52:36</td>\n",
       "    </tr>\n",
       "    <tr>\n",
       "      <th>3</th>\n",
       "      <td>1024256004</td>\n",
       "      <td>1024256</td>\n",
       "      <td>004</td>\n",
       "      <td>slim_jeans</td>\n",
       "      <td>denim_blue</td>\n",
       "      <td>slim_fit</td>\n",
       "      <td>19.99</td>\n",
       "      <td>None</td>\n",
       "      <td>None</td>\n",
       "      <td>0.99</td>\n",
       "      <td>1.00</td>\n",
       "      <td>0.01</td>\n",
       "      <td>2022-12-29 11:52:36</td>\n",
       "    </tr>\n",
       "    <tr>\n",
       "      <th>4</th>\n",
       "      <td>1024256005</td>\n",
       "      <td>1024256</td>\n",
       "      <td>005</td>\n",
       "      <td>slim_jeans</td>\n",
       "      <td>dark_blue</td>\n",
       "      <td>slim_fit</td>\n",
       "      <td>19.99</td>\n",
       "      <td>183</td>\n",
       "      <td>31/32</td>\n",
       "      <td>0.99</td>\n",
       "      <td>1.00</td>\n",
       "      <td>0.01</td>\n",
       "      <td>2022-12-29 11:52:36</td>\n",
       "    </tr>\n",
       "    <tr>\n",
       "      <th>...</th>\n",
       "      <td>...</td>\n",
       "      <td>...</td>\n",
       "      <td>...</td>\n",
       "      <td>...</td>\n",
       "      <td>...</td>\n",
       "      <td>...</td>\n",
       "      <td>...</td>\n",
       "      <td>...</td>\n",
       "      <td>...</td>\n",
       "      <td>...</td>\n",
       "      <td>...</td>\n",
       "      <td>...</td>\n",
       "      <td>...</td>\n",
       "    </tr>\n",
       "    <tr>\n",
       "      <th>887</th>\n",
       "      <td>0985197005</td>\n",
       "      <td>0985197</td>\n",
       "      <td>005</td>\n",
       "      <td>slim_jeans</td>\n",
       "      <td>dark_denim_blue</td>\n",
       "      <td>slim_fit</td>\n",
       "      <td>15.99</td>\n",
       "      <td>None</td>\n",
       "      <td>None</td>\n",
       "      <td>0.99</td>\n",
       "      <td>0.00</td>\n",
       "      <td>0.01</td>\n",
       "      <td>2023-01-04 12:40:41</td>\n",
       "    </tr>\n",
       "    <tr>\n",
       "      <th>888</th>\n",
       "      <td>0985197006</td>\n",
       "      <td>0985197</td>\n",
       "      <td>006</td>\n",
       "      <td>slim_jeans</td>\n",
       "      <td>light_denim_blue</td>\n",
       "      <td>slim_fit</td>\n",
       "      <td>19.99</td>\n",
       "      <td>None</td>\n",
       "      <td>None</td>\n",
       "      <td>0.99</td>\n",
       "      <td>0.00</td>\n",
       "      <td>0.01</td>\n",
       "      <td>2023-01-04 12:40:41</td>\n",
       "    </tr>\n",
       "    <tr>\n",
       "      <th>889</th>\n",
       "      <td>0985197007</td>\n",
       "      <td>0985197</td>\n",
       "      <td>007</td>\n",
       "      <td>slim_jeans</td>\n",
       "      <td>dark_gray</td>\n",
       "      <td>slim_fit</td>\n",
       "      <td>19.99</td>\n",
       "      <td>None</td>\n",
       "      <td>None</td>\n",
       "      <td>0.99</td>\n",
       "      <td>0.00</td>\n",
       "      <td>0.01</td>\n",
       "      <td>2023-01-04 12:40:41</td>\n",
       "    </tr>\n",
       "    <tr>\n",
       "      <th>890</th>\n",
       "      <td>1025726002</td>\n",
       "      <td>1025726</td>\n",
       "      <td>002</td>\n",
       "      <td>relaxed_jeans</td>\n",
       "      <td>light_denim_blue</td>\n",
       "      <td>relaxed_fit</td>\n",
       "      <td>11.99</td>\n",
       "      <td>187</td>\n",
       "      <td>31/32</td>\n",
       "      <td>0.99</td>\n",
       "      <td>0.00</td>\n",
       "      <td>0.01</td>\n",
       "      <td>2023-01-04 12:40:41</td>\n",
       "    </tr>\n",
       "    <tr>\n",
       "      <th>891</th>\n",
       "      <td>1025726003</td>\n",
       "      <td>1025726</td>\n",
       "      <td>003</td>\n",
       "      <td>relaxed_jeans</td>\n",
       "      <td>graphite_gray</td>\n",
       "      <td>relaxed_fit</td>\n",
       "      <td>39.99</td>\n",
       "      <td>185</td>\n",
       "      <td>31/32</td>\n",
       "      <td>0.99</td>\n",
       "      <td>0.00</td>\n",
       "      <td>0.01</td>\n",
       "      <td>2023-01-04 12:40:41</td>\n",
       "    </tr>\n",
       "  </tbody>\n",
       "</table>\n",
       "<p>892 rows × 13 columns</p>\n",
       "</div>"
      ],
      "text/plain": [
       "     product_id style_id color_id   product_name     product_color   produt_fit  product_price size_number size_model  cotton  polyester  spandex      scrapy_datetime\n",
       "0    1024256001  1024256      001     slim_jeans             black     slim_fit          19.99         180      33/32    0.99       0.80     0.01  2022-12-29 11:52:36\n",
       "1    1024256002  1024256      002     slim_jeans  light_denim_blue     slim_fit          19.99         189      31/32    0.99       0.80     0.01  2022-12-29 11:52:36\n",
       "2    1024256003  1024256      003     slim_jeans  light_denim_blue     slim_fit          19.99         180      33/32    0.99       0.80     0.01  2022-12-29 11:52:36\n",
       "3    1024256004  1024256      004     slim_jeans        denim_blue     slim_fit          19.99        None       None    0.99       1.00     0.01  2022-12-29 11:52:36\n",
       "4    1024256005  1024256      005     slim_jeans         dark_blue     slim_fit          19.99         183      31/32    0.99       1.00     0.01  2022-12-29 11:52:36\n",
       "..          ...      ...      ...            ...               ...          ...            ...         ...        ...     ...        ...      ...                  ...\n",
       "887  0985197005  0985197      005     slim_jeans   dark_denim_blue     slim_fit          15.99        None       None    0.99       0.00     0.01  2023-01-04 12:40:41\n",
       "888  0985197006  0985197      006     slim_jeans  light_denim_blue     slim_fit          19.99        None       None    0.99       0.00     0.01  2023-01-04 12:40:41\n",
       "889  0985197007  0985197      007     slim_jeans         dark_gray     slim_fit          19.99        None       None    0.99       0.00     0.01  2023-01-04 12:40:41\n",
       "890  1025726002  1025726      002  relaxed_jeans  light_denim_blue  relaxed_fit          11.99         187      31/32    0.99       0.00     0.01  2023-01-04 12:40:41\n",
       "891  1025726003  1025726      003  relaxed_jeans     graphite_gray  relaxed_fit          39.99         185      31/32    0.99       0.00     0.01  2023-01-04 12:40:41\n",
       "\n",
       "[892 rows x 13 columns]"
      ]
     },
     "execution_count": 25,
     "metadata": {},
     "output_type": "execute_result"
    }
   ],
   "source": [
    "query = \"\"\"\n",
    "    SELECT * FROM vitrine\n",
    "\"\"\"\n",
    "pd.read_sql_query( query, conn )"
   ]
  },
  {
   "cell_type": "markdown",
   "id": "ba150725",
   "metadata": {
    "heading_collapsed": true
   },
   "source": [
    "# 07 Arquivos de log"
   ]
  },
  {
   "cell_type": "code",
   "execution_count": 8,
   "id": "986d355c",
   "metadata": {
    "ExecuteTime": {
     "end_time": "2023-01-05T17:08:17.087087Z",
     "start_time": "2023-01-05T17:08:17.077377Z"
    },
    "hidden": true
   },
   "outputs": [],
   "source": [
    "if not os.path.exists( 'logs' ):\n",
    "    os.makedirs( 'logs' )\n",
    "    \n",
    "logging.basicConfig(\n",
    "    filename='logs/webscraping_hm.txt',\n",
    "    format='%(asctime)s - %(levelname)s - %(name)s - %(message)s',\n",
    "    datefmt='%Y-%m-%d %H:%M:%S',\n",
    "    level=logging.DEBUG )\n",
    "\n",
    "logger = logging.getLogger( 'webscraping_hm' )"
   ]
  },
  {
   "cell_type": "code",
   "execution_count": 9,
   "id": "0e14494e",
   "metadata": {
    "ExecuteTime": {
     "end_time": "2023-01-05T17:08:17.099851Z",
     "start_time": "2023-01-05T17:08:17.089802Z"
    },
    "hidden": true
   },
   "outputs": [],
   "source": [
    "logger.debug( 'test DEBUG' )\n",
    "logger.info( 'test INFO' )\n",
    "logger.warning( 'test WARNING' )"
   ]
  }
 ],
 "metadata": {
  "kernelspec": {
   "display_name": "Python 3 (ipykernel)",
   "language": "python",
   "name": "python3"
  },
  "language_info": {
   "codemirror_mode": {
    "name": "ipython",
    "version": 3
   },
   "file_extension": ".py",
   "mimetype": "text/x-python",
   "name": "python",
   "nbconvert_exporter": "python",
   "pygments_lexer": "ipython3",
   "version": "3.7.15"
  }
 },
 "nbformat": 4,
 "nbformat_minor": 5
}
